{
 "cells": [
  {
   "cell_type": "markdown",
   "metadata": {},
   "source": [
    "<a href='./helper.py'>Link to helper functions</a>"
   ]
  },
  {
   "cell_type": "code",
   "execution_count": 145,
   "metadata": {},
   "outputs": [],
   "source": [
    "import numpy as np\n",
    "import pandas as pd\n",
    "\n",
    "from helper import move_files\n",
    "from helper import prepare_dataframes\n",
    "from helper import find_common_column_groups\n",
    "\n",
    "from helper import seperate_address\n",
    "from helper import fix_zip_code\n",
    "from helper import is_in_massachusetts\n"
   ]
  },
  {
   "cell_type": "markdown",
   "metadata": {},
   "source": [
    "# Data Preparation Phase"
   ]
  },
  {
   "cell_type": "markdown",
   "metadata": {},
   "source": [
    "## Sorting Files\n",
    "\n",
    "Right now, data is organized into school years, 2016-2017, 2017-2018, 2018-2019, 2019-2020, 2020-2021, 2021-2022, 2022-2023, 2023-2024\n",
    "\n",
    "Before we procede, it is important to make sure that the file names are persisten across universities. This must be done manually. If not sure what should you name the file, cells below contain the filename the script will be looking for, so as long as those match, the code will work\n",
    "\n",
    "Since there was a lot of files and a lot of renaming, we decided to automate that process using the script \n",
    "\n",
    "\n",
    "<i style='font-weight:100; float:right; padding-right: 1.75em'>The cells below correspond to the current phase of data preparation</i>"
   ]
  },
  {
   "cell_type": "code",
   "execution_count": 146,
   "metadata": {},
   "outputs": [
    {
     "name": "stdout",
     "output_type": "stream",
     "text": [
      "#------------------------------------------------------------------#    #------------------------------------------------------------------#\n",
      "|                            Moved From                            |    |                             Moved To                             |\n",
      "#------------------------------------------------------------------#    #------------------------------------------------------------------#\n",
      "| ../data/raw/2016-2017 School Year Reports/Bay State College.xlsx |    |  ../data/sorted/universities/BayStateCollege/raw/2016-2017.xlsx  |\n",
      "| ../data/raw/2017-2018 School Year Reports/Bay State College.xlsx |    |  ../data/sorted/universities/BayStateCollege/raw/2017-2018.xlsx  |\n",
      "| ../data/raw/2018-2019 School Year Reports/Bay State College.xlsx |    |  ../data/sorted/universities/BayStateCollege/raw/2018-2019.xlsx  |\n",
      "| ../data/raw/2019-2020 School Year Reports/Bay State College.xlsx |    |  ../data/sorted/universities/BayStateCollege/raw/2019-2020.xlsx  |\n",
      "| ../data/raw/2020-2021 School Year Reports/Bay State College.xlsx |    |  ../data/sorted/universities/BayStateCollege/raw/2020-2021.xlsx  |\n",
      "| ../data/raw/2021-2022 School Year Reports/Bay State College.xlsx |    |  ../data/sorted/universities/BayStateCollege/raw/2021-2022.xlsx  |\n",
      "| ../data/raw/2022-2023 School Year Reports/Bay State College.xlsx |    |  ../data/sorted/universities/BayStateCollege/raw/2022-2023.xlsx  |\n",
      "#------------------------------------------------------------------#    #------------------------------------------------------------------#\n"
     ]
    }
   ],
   "source": [
    "to = '../data/sorted/universities/BayStateCollege/raw'\n",
    "move_files('Bay State College', to)"
   ]
  },
  {
   "cell_type": "code",
   "execution_count": 147,
   "metadata": {},
   "outputs": [
    {
     "name": "stdout",
     "output_type": "stream",
     "text": [
      "#---------------------------------------------------------------------------------------------#    #---------------------------------------------------------------------------------------------#\n",
      "|                                         Moved From                                          |    |                                          Moved To                                           |\n",
      "#---------------------------------------------------------------------------------------------#    #---------------------------------------------------------------------------------------------#\n",
      "| ../data/raw/2018-2019 School Year Reports/Berklee College of Music-Boston Conservatory.xlsx |    |    ../data/sorted/universities/BerkleeCollegeMusicBostonConservatory/raw/2018-2019.xlsx     |\n",
      "| ../data/raw/2019-2020 School Year Reports/Berklee College of Music-Boston Conservatory.xlsx |    |    ../data/sorted/universities/BerkleeCollegeMusicBostonConservatory/raw/2019-2020.xlsx     |\n",
      "| ../data/raw/2020-2021 School Year Reports/Berklee College of Music-Boston Conservatory.xlsx |    |    ../data/sorted/universities/BerkleeCollegeMusicBostonConservatory/raw/2020-2021.xlsx     |\n",
      "| ../data/raw/2021-2022 School Year Reports/Berklee College of Music-Boston Conservatory.xlsx |    |    ../data/sorted/universities/BerkleeCollegeMusicBostonConservatory/raw/2021-2022.xlsx     |\n",
      "| ../data/raw/2022-2023 School Year Reports/Berklee College of Music-Boston Conservatory.xlsx |    |    ../data/sorted/universities/BerkleeCollegeMusicBostonConservatory/raw/2022-2023.xlsx     |\n",
      "| ../data/raw/2023-2024 School Year Reports/Berklee College of Music-Boston Conservatory.xlsx |    |    ../data/sorted/universities/BerkleeCollegeMusicBostonConservatory/raw/2023-2024.xlsx     |\n",
      "#---------------------------------------------------------------------------------------------#    #---------------------------------------------------------------------------------------------#\n"
     ]
    }
   ],
   "source": [
    "# Berklee College of Music & Boston Conservatory\n",
    "to = '../data/sorted/universities/BerkleeCollegeMusicBostonConservatory/raw'\n",
    "move_files('Berklee College of Music-Boston Conservatory', to)"
   ]
  },
  {
   "cell_type": "code",
   "execution_count": 148,
   "metadata": {},
   "outputs": [
    {
     "name": "stdout",
     "output_type": "stream",
     "text": [
      "#-----------------------------------------------------------------------------#    #-----------------------------------------------------------------------------#\n",
      "|                                 Moved From                                  |    |                                  Moved To                                   |\n",
      "#-----------------------------------------------------------------------------#    #-----------------------------------------------------------------------------#\n",
      "| ../data/raw/2016-2017 School Year Reports/Boston Architectural College.xlsx |    |  ../data/sorted/universities/BostonArchitecturalCollege/raw/2016-2017.xlsx  |\n",
      "| ../data/raw/2017-2018 School Year Reports/Boston Architectural College.xlsx |    |  ../data/sorted/universities/BostonArchitecturalCollege/raw/2017-2018.xlsx  |\n",
      "| ../data/raw/2018-2019 School Year Reports/Boston Architectural College.xlsx |    |  ../data/sorted/universities/BostonArchitecturalCollege/raw/2018-2019.xlsx  |\n",
      "| ../data/raw/2019-2020 School Year Reports/Boston Architectural College.xlsx |    |  ../data/sorted/universities/BostonArchitecturalCollege/raw/2019-2020.xlsx  |\n",
      "| ../data/raw/2020-2021 School Year Reports/Boston Architectural College.xlsx |    |  ../data/sorted/universities/BostonArchitecturalCollege/raw/2020-2021.xlsx  |\n",
      "| ../data/raw/2021-2022 School Year Reports/Boston Architectural College.xlsx |    |  ../data/sorted/universities/BostonArchitecturalCollege/raw/2021-2022.xlsx  |\n",
      "| ../data/raw/2022-2023 School Year Reports/Boston Architectural College.xlsx |    |  ../data/sorted/universities/BostonArchitecturalCollege/raw/2022-2023.xlsx  |\n",
      "| ../data/raw/2023-2024 School Year Reports/Boston Architectural College.xlsx |    |  ../data/sorted/universities/BostonArchitecturalCollege/raw/2023-2024.xlsx  |\n",
      "#-----------------------------------------------------------------------------#    #-----------------------------------------------------------------------------#\n"
     ]
    }
   ],
   "source": [
    "dirname = '../data/sorted/universities/BostonArchitecturalCollege/raw'\n",
    "move_files('Boston Architectural College', dirname)"
   ]
  },
  {
   "cell_type": "code",
   "execution_count": 149,
   "metadata": {},
   "outputs": [
    {
     "name": "stdout",
     "output_type": "stream",
     "text": [
      "#-----------------------------------------------------------------------#    #-----------------------------------------------------------------------#\n",
      "|                              Moved From                               |    |                               Moved To                                |\n",
      "#-----------------------------------------------------------------------#    #-----------------------------------------------------------------------#\n",
      "| ../data/raw/2016-2017 School Year Reports/Boston Baptist College.xlsx |    |  ../data/sorted/universities/BostonBaptistCollege/raw/2016-2017.xlsx  |\n",
      "| ../data/raw/2017-2018 School Year Reports/Boston Baptist College.xlsx |    |  ../data/sorted/universities/BostonBaptistCollege/raw/2017-2018.xlsx  |\n",
      "| ../data/raw/2018-2019 School Year Reports/Boston Baptist College.xlsx |    |  ../data/sorted/universities/BostonBaptistCollege/raw/2018-2019.xlsx  |\n",
      "| ../data/raw/2019-2020 School Year Reports/Boston Baptist College.xlsx |    |  ../data/sorted/universities/BostonBaptistCollege/raw/2019-2020.xlsx  |\n",
      "| ../data/raw/2020-2021 School Year Reports/Boston Baptist College.xlsx |    |  ../data/sorted/universities/BostonBaptistCollege/raw/2020-2021.xlsx  |\n",
      "| ../data/raw/2021-2022 School Year Reports/Boston Baptist College.xlsx |    |  ../data/sorted/universities/BostonBaptistCollege/raw/2021-2022.xlsx  |\n",
      "| ../data/raw/2022-2023 School Year Reports/Boston Baptist College.xlsx |    |  ../data/sorted/universities/BostonBaptistCollege/raw/2022-2023.xlsx  |\n",
      "| ../data/raw/2023-2024 School Year Reports/Boston Baptist College.xlsx |    |  ../data/sorted/universities/BostonBaptistCollege/raw/2023-2024.xlsx  |\n",
      "#-----------------------------------------------------------------------#    #-----------------------------------------------------------------------#\n"
     ]
    }
   ],
   "source": [
    "# Baptist College\n",
    "dirname = '../data/sorted/universities/BostonBaptistCollege/raw'\n",
    "move_files('Boston Baptist College', dirname)"
   ]
  },
  {
   "cell_type": "code",
   "execution_count": 150,
   "metadata": {},
   "outputs": [
    {
     "name": "stdout",
     "output_type": "stream",
     "text": [
      "#--------------------------------------------------------------------#    #--------------------------------------------------------------------#\n",
      "|                             Moved From                             |    |                              Moved To                              |\n",
      "#--------------------------------------------------------------------#    #--------------------------------------------------------------------#\n",
      "| ../data/raw/2016-2017 School Year Reports/Boston College WCAS.xlsx |    |  ../data/sorted/universities/BostonCollegeWCAS/raw/2016-2017.xlsx  |\n",
      "| ../data/raw/2018-2019 School Year Reports/Boston College WCAS.xlsx |    |  ../data/sorted/universities/BostonCollegeWCAS/raw/2018-2019.xlsx  |\n",
      "| ../data/raw/2019-2020 School Year Reports/Boston College WCAS.xlsx |    |  ../data/sorted/universities/BostonCollegeWCAS/raw/2019-2020.xlsx  |\n",
      "| ../data/raw/2020-2021 School Year Reports/Boston College WCAS.xlsx |    |  ../data/sorted/universities/BostonCollegeWCAS/raw/2020-2021.xlsx  |\n",
      "| ../data/raw/2021-2022 School Year Reports/Boston College WCAS.xlsx |    |  ../data/sorted/universities/BostonCollegeWCAS/raw/2021-2022.xlsx  |\n",
      "| ../data/raw/2022-2023 School Year Reports/Boston College WCAS.xlsx |    |  ../data/sorted/universities/BostonCollegeWCAS/raw/2022-2023.xlsx  |\n",
      "| ../data/raw/2023-2024 School Year Reports/Boston College WCAS.xlsx |    |  ../data/sorted/universities/BostonCollegeWCAS/raw/2023-2024.xlsx  |\n",
      "#--------------------------------------------------------------------#    #--------------------------------------------------------------------#\n"
     ]
    }
   ],
   "source": [
    "# Boston College, WCAS \n",
    "dirname = '../data/sorted/universities/BostonCollegeWCAS/raw'\n",
    "move_files('Boston College WCAS', dirname)"
   ]
  },
  {
   "cell_type": "code",
   "execution_count": 151,
   "metadata": {},
   "outputs": [
    {
     "name": "stdout",
     "output_type": "stream",
     "text": [
      "#---------------------------------------------------------------#    #---------------------------------------------------------------#\n",
      "|                          Moved From                           |    |                           Moved To                            |\n",
      "#---------------------------------------------------------------#    #---------------------------------------------------------------#\n",
      "| ../data/raw/2016-2017 School Year Reports/Boston College.xlsx |    | ../data/sorted/universities/BostonCollege/raw/2016-2017.xlsx  |\n",
      "| ../data/raw/2017-2018 School Year Reports/Boston College.xlsx |    | ../data/sorted/universities/BostonCollege/raw/2017-2018.xlsx  |\n",
      "| ../data/raw/2018-2019 School Year Reports/Boston College.xlsx |    | ../data/sorted/universities/BostonCollege/raw/2018-2019.xlsx  |\n",
      "| ../data/raw/2019-2020 School Year Reports/Boston College.xlsx |    | ../data/sorted/universities/BostonCollege/raw/2019-2020.xlsx  |\n",
      "| ../data/raw/2020-2021 School Year Reports/Boston College.xlsx |    | ../data/sorted/universities/BostonCollege/raw/2020-2021.xlsx  |\n",
      "| ../data/raw/2021-2022 School Year Reports/Boston College.xlsx |    | ../data/sorted/universities/BostonCollege/raw/2021-2022.xlsx  |\n",
      "| ../data/raw/2022-2023 School Year Reports/Boston College.xlsx |    | ../data/sorted/universities/BostonCollege/raw/2022-2023.xlsx  |\n",
      "| ../data/raw/2023-2024 School Year Reports/Boston College.xlsx |    | ../data/sorted/universities/BostonCollege/raw/2023-2024.xlsx  |\n",
      "#---------------------------------------------------------------#    #---------------------------------------------------------------#\n"
     ]
    }
   ],
   "source": [
    "# Boston College \n",
    "dirname = '../data/sorted/universities/BostonCollege/raw'\n",
    "move_files('Boston College', dirname)"
   ]
  },
  {
   "cell_type": "code",
   "execution_count": 152,
   "metadata": {},
   "outputs": [
    {
     "name": "stdout",
     "output_type": "stream",
     "text": [
      "#-------------------------------------------------------------------------------#    #-------------------------------------------------------------------------------#\n",
      "|                                  Moved From                                   |    |                                   Moved To                                    |\n",
      "#-------------------------------------------------------------------------------#    #-------------------------------------------------------------------------------#\n",
      "| ../data/raw/2016-2017 School Year Reports/Boston Conservatory at Berklee.xlsx |    |   ../data/sorted/universities/BostonConservatoryBerklee/raw/2016-2017.xlsx    |\n",
      "| ../data/raw/2017-2018 School Year Reports/Boston Conservatory at Berklee.xlsx |    |   ../data/sorted/universities/BostonConservatoryBerklee/raw/2017-2018.xlsx    |\n",
      "#-------------------------------------------------------------------------------#    #-------------------------------------------------------------------------------#\n"
     ]
    }
   ],
   "source": [
    "# Boston Conservatory at Berklee\n",
    "# just read files from the folder\n",
    "dirname = '../data/sorted/universities/BostonConservatoryBerklee/raw'\n",
    "move_files('Boston Conservatory at Berklee', dirname)"
   ]
  },
  {
   "cell_type": "code",
   "execution_count": 153,
   "metadata": {},
   "outputs": [
    {
     "name": "stdout",
     "output_type": "stream",
     "text": [
      "#-------------------------------------------------------------------------#    #-------------------------------------------------------------------------#\n",
      "|                               Moved From                                |    |                                Moved To                                 |\n",
      "#-------------------------------------------------------------------------#    #-------------------------------------------------------------------------#\n",
      "| ../data/raw/2016-2017 School Year Reports/Berklee College of Music.xlsx |    |   ../data/sorted/universities/BerkleeCollegeMusic/raw/2016-2017.xlsx    |\n",
      "| ../data/raw/2017-2018 School Year Reports/Berklee College of Music.xlsx |    |   ../data/sorted/universities/BerkleeCollegeMusic/raw/2017-2018.xlsx    |\n",
      "#-------------------------------------------------------------------------#    #-------------------------------------------------------------------------#\n"
     ]
    }
   ],
   "source": [
    "# Berklee College of Music\n",
    "dirname = '../data/sorted/universities/BerkleeCollegeMusic/raw'\n",
    "move_files('Berklee College of Music', dirname)"
   ]
  },
  {
   "cell_type": "code",
   "execution_count": 154,
   "metadata": {},
   "outputs": [
    {
     "name": "stdout",
     "output_type": "stream",
     "text": [
      "#------------------------------------------------------------------#    #------------------------------------------------------------------#\n",
      "|                            Moved From                            |    |                             Moved To                             |\n",
      "#------------------------------------------------------------------#    #------------------------------------------------------------------#\n",
      "| ../data/raw/2016-2017 School Year Reports/Boston University.xlsx |    | ../data/sorted/universities/BostonUniversity/raw/2016-2017.xlsx  |\n",
      "| ../data/raw/2017-2018 School Year Reports/Boston University.xlsx |    | ../data/sorted/universities/BostonUniversity/raw/2017-2018.xlsx  |\n",
      "| ../data/raw/2018-2019 School Year Reports/Boston University.xlsx |    | ../data/sorted/universities/BostonUniversity/raw/2018-2019.xlsx  |\n",
      "| ../data/raw/2019-2020 School Year Reports/Boston University.xlsx |    | ../data/sorted/universities/BostonUniversity/raw/2019-2020.xlsx  |\n",
      "| ../data/raw/2020-2021 School Year Reports/Boston University.xlsx |    | ../data/sorted/universities/BostonUniversity/raw/2020-2021.xlsx  |\n",
      "| ../data/raw/2021-2022 School Year Reports/Boston University.xlsx |    | ../data/sorted/universities/BostonUniversity/raw/2021-2022.xlsx  |\n",
      "| ../data/raw/2022-2023 School Year Reports/Boston University.xlsx |    | ../data/sorted/universities/BostonUniversity/raw/2022-2023.xlsx  |\n",
      "| ../data/raw/2023-2024 School Year Reports/Boston University.xlsx |    | ../data/sorted/universities/BostonUniversity/raw/2023-2024.xlsx  |\n",
      "#------------------------------------------------------------------#    #------------------------------------------------------------------#\n"
     ]
    }
   ],
   "source": [
    "# Boston University\n",
    "dirname = '../data/sorted/universities/BostonUniversity/raw'\n",
    "move_files('Boston University', dirname)"
   ]
  },
  {
   "cell_type": "code",
   "execution_count": 155,
   "metadata": {},
   "outputs": [
    {
     "name": "stdout",
     "output_type": "stream",
     "text": [
      "#----------------------------------------------------------------#    #----------------------------------------------------------------#\n",
      "|                           Moved From                           |    |                            Moved To                            |\n",
      "#----------------------------------------------------------------#    #----------------------------------------------------------------#\n",
      "| ../data/raw/2016-2017 School Year Reports/Emerson College.xlsx |    | ../data/sorted/universities/EmersonCollege/raw/2016-2017.xlsx  |\n",
      "| ../data/raw/2017-2018 School Year Reports/Emerson College.xlsx |    | ../data/sorted/universities/EmersonCollege/raw/2017-2018.xlsx  |\n",
      "| ../data/raw/2018-2019 School Year Reports/Emerson College.xlsx |    | ../data/sorted/universities/EmersonCollege/raw/2018-2019.xlsx  |\n",
      "| ../data/raw/2019-2020 School Year Reports/Emerson College.xlsx |    | ../data/sorted/universities/EmersonCollege/raw/2019-2020.xlsx  |\n",
      "| ../data/raw/2020-2021 School Year Reports/Emerson College.xlsx |    | ../data/sorted/universities/EmersonCollege/raw/2020-2021.xlsx  |\n",
      "| ../data/raw/2021-2022 School Year Reports/Emerson College.xlsx |    | ../data/sorted/universities/EmersonCollege/raw/2021-2022.xlsx  |\n",
      "| ../data/raw/2022-2023 School Year Reports/Emerson College.xlsx |    | ../data/sorted/universities/EmersonCollege/raw/2022-2023.xlsx  |\n",
      "| ../data/raw/2023-2024 School Year Reports/Emerson College.xlsx |    | ../data/sorted/universities/EmersonCollege/raw/2023-2024.xlsx  |\n",
      "#----------------------------------------------------------------#    #----------------------------------------------------------------#\n"
     ]
    }
   ],
   "source": [
    "# Emerson College\n",
    "dirname = '../data/sorted/universities/EmersonCollege/raw'\n",
    "move_files('Emerson College', dirname)"
   ]
  },
  {
   "cell_type": "code",
   "execution_count": 156,
   "metadata": {},
   "outputs": [
    {
     "name": "stdout",
     "output_type": "stream",
     "text": [
      "#-----------------------------------------------------------------#    #-----------------------------------------------------------------#\n",
      "|                           Moved From                            |    |                            Moved To                             |\n",
      "#-----------------------------------------------------------------#    #-----------------------------------------------------------------#\n",
      "| ../data/raw/2016-2017 School Year Reports/Emmanuel College.xlsx |    | ../data/sorted/universities/EmmanuelCollege/raw/2016-2017.xlsx  |\n",
      "| ../data/raw/2017-2018 School Year Reports/Emmanuel College.xlsx |    | ../data/sorted/universities/EmmanuelCollege/raw/2017-2018.xlsx  |\n",
      "| ../data/raw/2018-2019 School Year Reports/Emmanuel College.xlsx |    | ../data/sorted/universities/EmmanuelCollege/raw/2018-2019.xlsx  |\n",
      "| ../data/raw/2019-2020 School Year Reports/Emmanuel College.xlsx |    | ../data/sorted/universities/EmmanuelCollege/raw/2019-2020.xlsx  |\n",
      "| ../data/raw/2020-2021 School Year Reports/Emmanuel College.xlsx |    | ../data/sorted/universities/EmmanuelCollege/raw/2020-2021.xlsx  |\n",
      "| ../data/raw/2021-2022 School Year Reports/Emmanuel College.xlsx |    | ../data/sorted/universities/EmmanuelCollege/raw/2021-2022.xlsx  |\n",
      "| ../data/raw/2022-2023 School Year Reports/Emmanuel College.xlsx |    | ../data/sorted/universities/EmmanuelCollege/raw/2022-2023.xlsx  |\n",
      "| ../data/raw/2023-2024 School Year Reports/Emmanuel College.xlsx |    | ../data/sorted/universities/EmmanuelCollege/raw/2023-2024.xlsx  |\n",
      "#-----------------------------------------------------------------#    #-----------------------------------------------------------------#\n"
     ]
    }
   ],
   "source": [
    "# Emmanuel College\n",
    "dirname = '../data/sorted/universities/EmmanuelCollege/raw'\n",
    "move_files('Emmanuel College', dirname)"
   ]
  },
  {
   "cell_type": "code",
   "execution_count": 157,
   "metadata": {},
   "outputs": [
    {
     "name": "stdout",
     "output_type": "stream",
     "text": [
      "#---------------------------------------------------------------#    #---------------------------------------------------------------#\n",
      "|                          Moved From                           |    |                           Moved To                            |\n",
      "#---------------------------------------------------------------#    #---------------------------------------------------------------#\n",
      "| ../data/raw/2016-2017 School Year Reports/Fisher College.xlsx |    | ../data/sorted/universities/FisherCollege/raw/2016-2017.xlsx  |\n",
      "| ../data/raw/2017-2018 School Year Reports/Fisher College.xlsx |    | ../data/sorted/universities/FisherCollege/raw/2017-2018.xlsx  |\n",
      "| ../data/raw/2018-2019 School Year Reports/Fisher College.xlsx |    | ../data/sorted/universities/FisherCollege/raw/2018-2019.xlsx  |\n",
      "| ../data/raw/2019-2020 School Year Reports/Fisher College.xlsx |    | ../data/sorted/universities/FisherCollege/raw/2019-2020.xlsx  |\n",
      "| ../data/raw/2020-2021 School Year Reports/Fisher College.xlsx |    | ../data/sorted/universities/FisherCollege/raw/2020-2021.xlsx  |\n",
      "| ../data/raw/2021-2022 School Year Reports/Fisher College.xlsx |    | ../data/sorted/universities/FisherCollege/raw/2021-2022.xlsx  |\n",
      "| ../data/raw/2022-2023 School Year Reports/Fisher College.xlsx |    | ../data/sorted/universities/FisherCollege/raw/2022-2023.xlsx  |\n",
      "| ../data/raw/2023-2024 School Year Reports/Fisher College.xlsx |    | ../data/sorted/universities/FisherCollege/raw/2023-2024.xlsx  |\n",
      "#---------------------------------------------------------------#    #---------------------------------------------------------------#\n"
     ]
    }
   ],
   "source": [
    "# Fisher College\n",
    "dirname = '../data/sorted/universities/FisherCollege/raw'\n",
    "move_files('Fisher College', dirname)"
   ]
  },
  {
   "cell_type": "code",
   "execution_count": 158,
   "metadata": {},
   "outputs": [
    {
     "name": "stdout",
     "output_type": "stream",
     "text": [
      "#---------------------------------------------------------------------------------#    #---------------------------------------------------------------------------------#\n",
      "|                                   Moved From                                    |    |                                    Moved To                                     |\n",
      "#---------------------------------------------------------------------------------#    #---------------------------------------------------------------------------------#\n",
      "| ../data/raw/2016-2017 School Year Reports/Franklin Institute of Technology.xlsx |    |   ../data/sorted/universities/FranklinInstituteTechnology/raw/2016-2017.xlsx    |\n",
      "| ../data/raw/2017-2018 School Year Reports/Franklin Institute of Technology.xlsx |    |   ../data/sorted/universities/FranklinInstituteTechnology/raw/2017-2018.xlsx    |\n",
      "| ../data/raw/2018-2019 School Year Reports/Franklin Institute of Technology.xlsx |    |   ../data/sorted/universities/FranklinInstituteTechnology/raw/2018-2019.xlsx    |\n",
      "| ../data/raw/2019-2020 School Year Reports/Franklin Institute of Technology.xlsx |    |   ../data/sorted/universities/FranklinInstituteTechnology/raw/2019-2020.xlsx    |\n",
      "| ../data/raw/2020-2021 School Year Reports/Franklin Institute of Technology.xlsx |    |   ../data/sorted/universities/FranklinInstituteTechnology/raw/2020-2021.xlsx    |\n",
      "| ../data/raw/2021-2022 School Year Reports/Franklin Institute of Technology.xlsx |    |   ../data/sorted/universities/FranklinInstituteTechnology/raw/2021-2022.xlsx    |\n",
      "| ../data/raw/2022-2023 School Year Reports/Franklin Institute of Technology.xlsx |    |   ../data/sorted/universities/FranklinInstituteTechnology/raw/2022-2023.xlsx    |\n",
      "| ../data/raw/2023-2024 School Year Reports/Franklin Institute of Technology.xlsx |    |   ../data/sorted/universities/FranklinInstituteTechnology/raw/2023-2024.xlsx    |\n",
      "#---------------------------------------------------------------------------------#    #---------------------------------------------------------------------------------#\n"
     ]
    }
   ],
   "source": [
    "# Franklin Institute of Technology\n",
    "dirname = '../data/sorted/universities/FranklinInstituteTechnology/raw'\n",
    "move_files('Franklin Institute of Technology', dirname)"
   ]
  },
  {
   "cell_type": "code",
   "execution_count": 159,
   "metadata": {},
   "outputs": [
    {
     "name": "stdout",
     "output_type": "stream",
     "text": [
      "#-------------------------------------------------------------------#    #-------------------------------------------------------------------#\n",
      "|                            Moved From                             |    |                             Moved To                              |\n",
      "#-------------------------------------------------------------------#    #-------------------------------------------------------------------#\n",
      "| ../data/raw/2016-2017 School Year Reports/Harvard University.xlsx |    | ../data/sorted/universities/HarvardUniversity/raw/2016-2017.xlsx  |\n",
      "| ../data/raw/2017-2018 School Year Reports/Harvard University.xlsx |    | ../data/sorted/universities/HarvardUniversity/raw/2017-2018.xlsx  |\n",
      "| ../data/raw/2018-2019 School Year Reports/Harvard University.xlsx |    | ../data/sorted/universities/HarvardUniversity/raw/2018-2019.xlsx  |\n",
      "| ../data/raw/2019-2020 School Year Reports/Harvard University.xlsx |    | ../data/sorted/universities/HarvardUniversity/raw/2019-2020.xlsx  |\n",
      "| ../data/raw/2020-2021 School Year Reports/Harvard University.xlsx |    | ../data/sorted/universities/HarvardUniversity/raw/2020-2021.xlsx  |\n",
      "| ../data/raw/2021-2022 School Year Reports/Harvard University.xlsx |    | ../data/sorted/universities/HarvardUniversity/raw/2021-2022.xlsx  |\n",
      "| ../data/raw/2022-2023 School Year Reports/Harvard University.xlsx |    | ../data/sorted/universities/HarvardUniversity/raw/2022-2023.xlsx  |\n",
      "| ../data/raw/2023-2024 School Year Reports/Harvard University.xlsx |    | ../data/sorted/universities/HarvardUniversity/raw/2023-2024.xlsx  |\n",
      "#-------------------------------------------------------------------#    #-------------------------------------------------------------------#\n"
     ]
    }
   ],
   "source": [
    "# Harvard University\n",
    "dirname = '../data/sorted/universities/HarvardUniversity/raw'\n",
    "move_files('Harvard University', dirname)"
   ]
  },
  {
   "cell_type": "code",
   "execution_count": 160,
   "metadata": {},
   "outputs": [
    {
     "name": "stdout",
     "output_type": "stream",
     "text": [
      "#----------------------------------------------------------------------------------------#    #----------------------------------------------------------------------------------------#\n",
      "|                                       Moved From                                       |    |                                        Moved To                                        |\n",
      "#----------------------------------------------------------------------------------------#    #----------------------------------------------------------------------------------------#\n",
      "| ../data/raw/2016-2017 School Year Reports/Massachusetts College of Art and Design.xlsx |    |      ../data/sorted/universities/MassachusettsCollegeArtDesign/raw/2016-2017.xlsx      |\n",
      "| ../data/raw/2017-2018 School Year Reports/Massachusetts College of Art and Design.xlsx |    |      ../data/sorted/universities/MassachusettsCollegeArtDesign/raw/2017-2018.xlsx      |\n",
      "| ../data/raw/2018-2019 School Year Reports/Massachusetts College of Art and Design.xlsx |    |      ../data/sorted/universities/MassachusettsCollegeArtDesign/raw/2018-2019.xlsx      |\n",
      "| ../data/raw/2019-2020 School Year Reports/Massachusetts College of Art and Design.xlsx |    |      ../data/sorted/universities/MassachusettsCollegeArtDesign/raw/2019-2020.xlsx      |\n",
      "| ../data/raw/2020-2021 School Year Reports/Massachusetts College of Art and Design.xlsx |    |      ../data/sorted/universities/MassachusettsCollegeArtDesign/raw/2020-2021.xlsx      |\n",
      "| ../data/raw/2021-2022 School Year Reports/Massachusetts College of Art and Design.xlsx |    |      ../data/sorted/universities/MassachusettsCollegeArtDesign/raw/2021-2022.xlsx      |\n",
      "| ../data/raw/2022-2023 School Year Reports/Massachusetts College of Art and Design.xlsx |    |      ../data/sorted/universities/MassachusettsCollegeArtDesign/raw/2022-2023.xlsx      |\n",
      "| ../data/raw/2023-2024 School Year Reports/Massachusetts College of Art and Design.xlsx |    |      ../data/sorted/universities/MassachusettsCollegeArtDesign/raw/2023-2024.xlsx      |\n",
      "#----------------------------------------------------------------------------------------#    #----------------------------------------------------------------------------------------#\n"
     ]
    }
   ],
   "source": [
    "# MA College of Art and Design\n",
    "dirname = '../data/sorted/universities/MassachusettsCollegeArtDesign/raw'\n",
    "move_files('Massachusetts College of Art and Design', dirname)"
   ]
  },
  {
   "cell_type": "code",
   "execution_count": 161,
   "metadata": {},
   "outputs": [
    {
     "name": "stdout",
     "output_type": "stream",
     "text": [
      "#------------------------------------------------------------------------------------------------------#    #------------------------------------------------------------------------------------------------------#\n",
      "|                                              Moved From                                              |    |                                               Moved To                                               |\n",
      "#------------------------------------------------------------------------------------------------------#    #------------------------------------------------------------------------------------------------------#\n",
      "| ../data/raw/2016-2017 School Year Reports/Massachusetts College of Pharmacy and Health Sciences.xlsx |    |      ../data/sorted/universities/MassachusettsCollegePharmacyHealthSciences/raw/2016-2017.xlsx       |\n",
      "| ../data/raw/2017-2018 School Year Reports/Massachusetts College of Pharmacy and Health Sciences.xlsx |    |      ../data/sorted/universities/MassachusettsCollegePharmacyHealthSciences/raw/2017-2018.xlsx       |\n",
      "| ../data/raw/2018-2019 School Year Reports/Massachusetts College of Pharmacy and Health Sciences.xlsx |    |      ../data/sorted/universities/MassachusettsCollegePharmacyHealthSciences/raw/2018-2019.xlsx       |\n",
      "| ../data/raw/2019-2020 School Year Reports/Massachusetts College of Pharmacy and Health Sciences.xlsx |    |      ../data/sorted/universities/MassachusettsCollegePharmacyHealthSciences/raw/2019-2020.xlsx       |\n",
      "| ../data/raw/2020-2021 School Year Reports/Massachusetts College of Pharmacy and Health Sciences.xlsx |    |      ../data/sorted/universities/MassachusettsCollegePharmacyHealthSciences/raw/2020-2021.xlsx       |\n",
      "| ../data/raw/2021-2022 School Year Reports/Massachusetts College of Pharmacy and Health Sciences.xlsx |    |      ../data/sorted/universities/MassachusettsCollegePharmacyHealthSciences/raw/2021-2022.xlsx       |\n",
      "| ../data/raw/2022-2023 School Year Reports/Massachusetts College of Pharmacy and Health Sciences.xlsx |    |      ../data/sorted/universities/MassachusettsCollegePharmacyHealthSciences/raw/2022-2023.xlsx       |\n",
      "| ../data/raw/2023-2024 School Year Reports/Massachusetts College of Pharmacy and Health Sciences.xlsx |    |      ../data/sorted/universities/MassachusettsCollegePharmacyHealthSciences/raw/2023-2024.xlsx       |\n",
      "#------------------------------------------------------------------------------------------------------#    #------------------------------------------------------------------------------------------------------#\n"
     ]
    }
   ],
   "source": [
    "# Massachusetts College of Pharmacy and Health Sciences\n",
    "dirname = '../data/sorted/universities/MassachusettsCollegePharmacyHealthSciences/raw'\n",
    "move_files('Massachusetts College of Pharmacy and Health Sciences', dirname)"
   ]
  },
  {
   "cell_type": "code",
   "execution_count": 162,
   "metadata": {},
   "outputs": [
    {
     "name": "stdout",
     "output_type": "stream",
     "text": [
      "#--------------------------------------------------------------------------------------#    #--------------------------------------------------------------------------------------#\n",
      "|                                      Moved From                                      |    |                                       Moved To                                       |\n",
      "#--------------------------------------------------------------------------------------#    #--------------------------------------------------------------------------------------#\n",
      "| ../data/raw/2016-2017 School Year Reports/Massachusetts Institute of Technology.xlsx |    |   ../data/sorted/universities/MassachusettsInstituteTechnology/raw/2016-2017.xlsx    |\n",
      "| ../data/raw/2017-2018 School Year Reports/Massachusetts Institute of Technology.xlsx |    |   ../data/sorted/universities/MassachusettsInstituteTechnology/raw/2017-2018.xlsx    |\n",
      "| ../data/raw/2018-2019 School Year Reports/Massachusetts Institute of Technology.xlsx |    |   ../data/sorted/universities/MassachusettsInstituteTechnology/raw/2018-2019.xlsx    |\n",
      "| ../data/raw/2019-2020 School Year Reports/Massachusetts Institute of Technology.xlsx |    |   ../data/sorted/universities/MassachusettsInstituteTechnology/raw/2019-2020.xlsx    |\n",
      "| ../data/raw/2020-2021 School Year Reports/Massachusetts Institute of Technology.xlsx |    |   ../data/sorted/universities/MassachusettsInstituteTechnology/raw/2020-2021.xlsx    |\n",
      "| ../data/raw/2021-2022 School Year Reports/Massachusetts Institute of Technology.xlsx |    |   ../data/sorted/universities/MassachusettsInstituteTechnology/raw/2021-2022.xlsx    |\n",
      "| ../data/raw/2022-2023 School Year Reports/Massachusetts Institute of Technology.xlsx |    |   ../data/sorted/universities/MassachusettsInstituteTechnology/raw/2022-2023.xlsx    |\n",
      "| ../data/raw/2023-2024 School Year Reports/Massachusetts Institute of Technology.xlsx |    |   ../data/sorted/universities/MassachusettsInstituteTechnology/raw/2023-2024.xlsx    |\n",
      "#--------------------------------------------------------------------------------------#    #--------------------------------------------------------------------------------------#\n"
     ]
    }
   ],
   "source": [
    "# Massachusetts Institute of Technology\n",
    "dirname = '../data/sorted/universities/MassachusettsInstituteTechnology/raw'\n",
    "move_files('Massachusetts Institute of Technology', dirname)"
   ]
  },
  {
   "cell_type": "code",
   "execution_count": 163,
   "metadata": {},
   "outputs": [
    {
     "name": "stdout",
     "output_type": "stream",
     "text": [
      "#------------------------------------------------------------------------------------#    #------------------------------------------------------------------------------------#\n",
      "|                                     Moved From                                     |    |                                      Moved To                                      |\n",
      "#------------------------------------------------------------------------------------#    #------------------------------------------------------------------------------------#\n",
      "| ../data/raw/2016-2017 School Year Reports/MGH Institute of Health Professions.xlsx |    |    ../data/sorted/universities/MGHInstituteHealthProfessions/raw/2016-2017.xlsx    |\n",
      "| ../data/raw/2017-2018 School Year Reports/MGH Institute of Health Professions.xlsx |    |    ../data/sorted/universities/MGHInstituteHealthProfessions/raw/2017-2018.xlsx    |\n",
      "| ../data/raw/2018-2019 School Year Reports/MGH Institute of Health Professions.xlsx |    |    ../data/sorted/universities/MGHInstituteHealthProfessions/raw/2018-2019.xlsx    |\n",
      "| ../data/raw/2019-2020 School Year Reports/MGH Institute of Health Professions.xlsx |    |    ../data/sorted/universities/MGHInstituteHealthProfessions/raw/2019-2020.xlsx    |\n",
      "| ../data/raw/2020-2021 School Year Reports/MGH Institute of Health Professions.xlsx |    |    ../data/sorted/universities/MGHInstituteHealthProfessions/raw/2020-2021.xlsx    |\n",
      "| ../data/raw/2021-2022 School Year Reports/MGH Institute of Health Professions.xlsx |    |    ../data/sorted/universities/MGHInstituteHealthProfessions/raw/2021-2022.xlsx    |\n",
      "| ../data/raw/2022-2023 School Year Reports/MGH Institute of Health Professions.xlsx |    |    ../data/sorted/universities/MGHInstituteHealthProfessions/raw/2022-2023.xlsx    |\n",
      "| ../data/raw/2023-2024 School Year Reports/MGH Institute of Health Professions.xlsx |    |    ../data/sorted/universities/MGHInstituteHealthProfessions/raw/2023-2024.xlsx    |\n",
      "#------------------------------------------------------------------------------------#    #------------------------------------------------------------------------------------#\n"
     ]
    }
   ],
   "source": [
    "# MGH Institute of Health Professions\n",
    "dirname = '../data/sorted/universities/MGHInstituteHealthProfessions/raw'\n",
    "move_files('MGH Institute of Health Professions', dirname)"
   ]
  },
  {
   "cell_type": "code",
   "execution_count": 164,
   "metadata": {},
   "outputs": [
    {
     "name": "stdout",
     "output_type": "stream",
     "text": [
      "#---------------------------------------------------------------------------------#    #---------------------------------------------------------------------------------#\n",
      "|                                   Moved From                                    |    |                                    Moved To                                     |\n",
      "#---------------------------------------------------------------------------------#    #---------------------------------------------------------------------------------#\n",
      "| ../data/raw/2016-2017 School Year Reports/New England College of Optometry.xlsx |    |    ../data/sorted/universities/NewEnglandCollegeOptometry/raw/2016-2017.xlsx    |\n",
      "| ../data/raw/2017-2018 School Year Reports/New England College of Optometry.xlsx |    |    ../data/sorted/universities/NewEnglandCollegeOptometry/raw/2017-2018.xlsx    |\n",
      "| ../data/raw/2018-2019 School Year Reports/New England College of Optometry.xlsx |    |    ../data/sorted/universities/NewEnglandCollegeOptometry/raw/2018-2019.xlsx    |\n",
      "| ../data/raw/2019-2020 School Year Reports/New England College of Optometry.xlsx |    |    ../data/sorted/universities/NewEnglandCollegeOptometry/raw/2019-2020.xlsx    |\n",
      "| ../data/raw/2020-2021 School Year Reports/New England College of Optometry.xlsx |    |    ../data/sorted/universities/NewEnglandCollegeOptometry/raw/2020-2021.xlsx    |\n",
      "| ../data/raw/2021-2022 School Year Reports/New England College of Optometry.xlsx |    |    ../data/sorted/universities/NewEnglandCollegeOptometry/raw/2021-2022.xlsx    |\n",
      "| ../data/raw/2022-2023 School Year Reports/New England College of Optometry.xlsx |    |    ../data/sorted/universities/NewEnglandCollegeOptometry/raw/2022-2023.xlsx    |\n",
      "| ../data/raw/2023-2024 School Year Reports/New England College of Optometry.xlsx |    |    ../data/sorted/universities/NewEnglandCollegeOptometry/raw/2023-2024.xlsx    |\n",
      "#---------------------------------------------------------------------------------#    #---------------------------------------------------------------------------------#\n"
     ]
    }
   ],
   "source": [
    "# New England College of Optometry\n",
    "dirname = '../data/sorted/universities/NewEnglandCollegeOptometry/raw'\n",
    "move_files('New England College of Optometry', dirname)"
   ]
  },
  {
   "cell_type": "code",
   "execution_count": 165,
   "metadata": {},
   "outputs": [
    {
     "name": "stdout",
     "output_type": "stream",
     "text": [
      "#-------------------------------------------------------------------------#    #-------------------------------------------------------------------------#\n",
      "|                               Moved From                                |    |                                Moved To                                 |\n",
      "#-------------------------------------------------------------------------#    #-------------------------------------------------------------------------#\n",
      "| ../data/raw/2016-2017 School Year Reports/New England Conservatory.xlsx |    |  ../data/sorted/universities/NewEnglandConservatory/raw/2016-2017.xlsx  |\n",
      "| ../data/raw/2017-2018 School Year Reports/New England Conservatory.xlsx |    |  ../data/sorted/universities/NewEnglandConservatory/raw/2017-2018.xlsx  |\n",
      "| ../data/raw/2018-2019 School Year Reports/New England Conservatory.xlsx |    |  ../data/sorted/universities/NewEnglandConservatory/raw/2018-2019.xlsx  |\n",
      "| ../data/raw/2019-2020 School Year Reports/New England Conservatory.xlsx |    |  ../data/sorted/universities/NewEnglandConservatory/raw/2019-2020.xlsx  |\n",
      "| ../data/raw/2020-2021 School Year Reports/New England Conservatory.xlsx |    |  ../data/sorted/universities/NewEnglandConservatory/raw/2020-2021.xlsx  |\n",
      "| ../data/raw/2021-2022 School Year Reports/New England Conservatory.xlsx |    |  ../data/sorted/universities/NewEnglandConservatory/raw/2021-2022.xlsx  |\n",
      "| ../data/raw/2022-2023 School Year Reports/New England Conservatory.xlsx |    |  ../data/sorted/universities/NewEnglandConservatory/raw/2022-2023.xlsx  |\n",
      "| ../data/raw/2023-2024 School Year Reports/New England Conservatory.xlsx |    |  ../data/sorted/universities/NewEnglandConservatory/raw/2023-2024.xlsx  |\n",
      "#-------------------------------------------------------------------------#    #-------------------------------------------------------------------------#\n"
     ]
    }
   ],
   "source": [
    "# New England Conservatory\n",
    "dirname = '../data/sorted/universities/NewEnglandConservatory/raw'\n",
    "move_files('New England Conservatory', dirname)"
   ]
  },
  {
   "cell_type": "code",
   "execution_count": 166,
   "metadata": {},
   "outputs": [
    {
     "name": "stdout",
     "output_type": "stream",
     "text": [
      "#----------------------------------------------------------------#    #----------------------------------------------------------------#\n",
      "|                           Moved From                           |    |                            Moved To                            |\n",
      "#----------------------------------------------------------------#    #----------------------------------------------------------------#\n",
      "| ../data/raw/2016-2017 School Year Reports/New England Law.xlsx |    |  ../data/sorted/universities/NewEnglandLaw/raw/2016-2017.xlsx  |\n",
      "| ../data/raw/2017-2018 School Year Reports/New England Law.xlsx |    |  ../data/sorted/universities/NewEnglandLaw/raw/2017-2018.xlsx  |\n",
      "| ../data/raw/2018-2019 School Year Reports/New England Law.xlsx |    |  ../data/sorted/universities/NewEnglandLaw/raw/2018-2019.xlsx  |\n",
      "| ../data/raw/2019-2020 School Year Reports/New England Law.xlsx |    |  ../data/sorted/universities/NewEnglandLaw/raw/2019-2020.xlsx  |\n",
      "| ../data/raw/2020-2021 School Year Reports/New England Law.xlsx |    |  ../data/sorted/universities/NewEnglandLaw/raw/2020-2021.xlsx  |\n",
      "| ../data/raw/2021-2022 School Year Reports/New England Law.xlsx |    |  ../data/sorted/universities/NewEnglandLaw/raw/2021-2022.xlsx  |\n",
      "| ../data/raw/2022-2023 School Year Reports/New England Law.xlsx |    |  ../data/sorted/universities/NewEnglandLaw/raw/2022-2023.xlsx  |\n",
      "| ../data/raw/2023-2024 School Year Reports/New England Law.xlsx |    |  ../data/sorted/universities/NewEnglandLaw/raw/2023-2024.xlsx  |\n",
      "#----------------------------------------------------------------#    #----------------------------------------------------------------#\n"
     ]
    }
   ],
   "source": [
    "# New England Law\n",
    "dirname = '../data/sorted/universities/NewEnglandLaw/raw'\n",
    "move_files('New England Law', dirname)"
   ]
  },
  {
   "cell_type": "code",
   "execution_count": 167,
   "metadata": {},
   "outputs": [
    {
     "name": "stdout",
     "output_type": "stream",
     "text": [
      "#-------------------------------------------------------------------#    #-------------------------------------------------------------------#\n",
      "|                            Moved From                             |    |                             Moved To                              |\n",
      "#-------------------------------------------------------------------#    #-------------------------------------------------------------------#\n",
      "| ../data/raw/2016-2017 School Year Reports/Simmons University.xlsx |    |   ../data/sorted/universities/SimmonsCollege/raw/2016-2017.xlsx   |\n",
      "| ../data/raw/2017-2018 School Year Reports/Simmons University.xlsx |    |   ../data/sorted/universities/SimmonsCollege/raw/2017-2018.xlsx   |\n",
      "| ../data/raw/2018-2019 School Year Reports/Simmons University.xlsx |    |   ../data/sorted/universities/SimmonsCollege/raw/2018-2019.xlsx   |\n",
      "| ../data/raw/2019-2020 School Year Reports/Simmons University.xlsx |    |   ../data/sorted/universities/SimmonsCollege/raw/2019-2020.xlsx   |\n",
      "| ../data/raw/2020-2021 School Year Reports/Simmons University.xlsx |    |   ../data/sorted/universities/SimmonsCollege/raw/2020-2021.xlsx   |\n",
      "| ../data/raw/2021-2022 School Year Reports/Simmons University.xlsx |    |   ../data/sorted/universities/SimmonsCollege/raw/2021-2022.xlsx   |\n",
      "| ../data/raw/2022-2023 School Year Reports/Simmons University.xlsx |    |   ../data/sorted/universities/SimmonsCollege/raw/2022-2023.xlsx   |\n",
      "| ../data/raw/2023-2024 School Year Reports/Simmons University.xlsx |    |   ../data/sorted/universities/SimmonsCollege/raw/2023-2024.xlsx   |\n",
      "#-------------------------------------------------------------------#    #-------------------------------------------------------------------#\n"
     ]
    }
   ],
   "source": [
    "# Simmons College\n",
    "dirname = '../data/sorted/universities/SimmonsCollege/raw'\n",
    "move_files('Simmons University', dirname)"
   ]
  },
  {
   "cell_type": "code",
   "execution_count": 168,
   "metadata": {},
   "outputs": [
    {
     "name": "stdout",
     "output_type": "stream",
     "text": [
      "#--------------------------------------------------------------------#    #--------------------------------------------------------------------#\n",
      "|                             Moved From                             |    |                              Moved To                              |\n",
      "#--------------------------------------------------------------------#    #--------------------------------------------------------------------#\n",
      "| ../data/raw/2016-2017 School Year Reports/St. John's Seminary.xlsx |    |   ../data/sorted/universities/StJohnsSeminary/raw/2016-2017.xlsx   |\n",
      "| ../data/raw/2017-2018 School Year Reports/St. John's Seminary.xlsx |    |   ../data/sorted/universities/StJohnsSeminary/raw/2017-2018.xlsx   |\n",
      "| ../data/raw/2018-2019 School Year Reports/St. John's Seminary.xlsx |    |   ../data/sorted/universities/StJohnsSeminary/raw/2018-2019.xlsx   |\n",
      "| ../data/raw/2019-2020 School Year Reports/St. John's Seminary.xlsx |    |   ../data/sorted/universities/StJohnsSeminary/raw/2019-2020.xlsx   |\n",
      "| ../data/raw/2020-2021 School Year Reports/St. John's Seminary.xlsx |    |   ../data/sorted/universities/StJohnsSeminary/raw/2020-2021.xlsx   |\n",
      "| ../data/raw/2021-2022 School Year Reports/St. John's Seminary.xlsx |    |   ../data/sorted/universities/StJohnsSeminary/raw/2021-2022.xlsx   |\n",
      "| ../data/raw/2022-2023 School Year Reports/St. John's Seminary.xlsx |    |   ../data/sorted/universities/StJohnsSeminary/raw/2022-2023.xlsx   |\n",
      "| ../data/raw/2023-2024 School Year Reports/St. John's Seminary.xlsx |    |   ../data/sorted/universities/StJohnsSeminary/raw/2023-2024.xlsx   |\n",
      "#--------------------------------------------------------------------#    #--------------------------------------------------------------------#\n"
     ]
    }
   ],
   "source": [
    "# St. John's Seminary\n",
    "dirname = '../data/sorted/universities/StJohnsSeminary/raw'\n",
    "move_files(\"St. John's Seminary\", dirname)"
   ]
  },
  {
   "cell_type": "code",
   "execution_count": 169,
   "metadata": {},
   "outputs": [
    {
     "name": "stdout",
     "output_type": "stream",
     "text": [
      "#-------------------------------------------------------------------#    #-------------------------------------------------------------------#\n",
      "|                            Moved From                             |    |                             Moved To                              |\n",
      "#-------------------------------------------------------------------#    #-------------------------------------------------------------------#\n",
      "| ../data/raw/2016-2017 School Year Reports/Suffolk University.xlsx |    | ../data/sorted/universities/SuffolkUniversity/raw/2016-2017.xlsx  |\n",
      "| ../data/raw/2017-2018 School Year Reports/Suffolk University.xlsx |    | ../data/sorted/universities/SuffolkUniversity/raw/2017-2018.xlsx  |\n",
      "| ../data/raw/2018-2019 School Year Reports/Suffolk University.xlsx |    | ../data/sorted/universities/SuffolkUniversity/raw/2018-2019.xlsx  |\n",
      "| ../data/raw/2019-2020 School Year Reports/Suffolk University.xlsx |    | ../data/sorted/universities/SuffolkUniversity/raw/2019-2020.xlsx  |\n",
      "| ../data/raw/2020-2021 School Year Reports/Suffolk University.xlsx |    | ../data/sorted/universities/SuffolkUniversity/raw/2020-2021.xlsx  |\n",
      "| ../data/raw/2021-2022 School Year Reports/Suffolk University.xlsx |    | ../data/sorted/universities/SuffolkUniversity/raw/2021-2022.xlsx  |\n",
      "| ../data/raw/2022-2023 School Year Reports/Suffolk University.xlsx |    | ../data/sorted/universities/SuffolkUniversity/raw/2022-2023.xlsx  |\n",
      "| ../data/raw/2023-2024 School Year Reports/Suffolk University.xlsx |    | ../data/sorted/universities/SuffolkUniversity/raw/2023-2024.xlsx  |\n",
      "#-------------------------------------------------------------------#    #-------------------------------------------------------------------#\n"
     ]
    }
   ],
   "source": [
    "# Suffolk University\n",
    "dirname = '../data/sorted/universities/SuffolkUniversity/raw'\n",
    "move_files('Suffolk University', dirname)"
   ]
  },
  {
   "cell_type": "code",
   "execution_count": 170,
   "metadata": {},
   "outputs": [
    {
     "name": "stdout",
     "output_type": "stream",
     "text": [
      "#-----------------------------------------------------------------#    #-----------------------------------------------------------------#\n",
      "|                           Moved From                            |    |                            Moved To                             |\n",
      "#-----------------------------------------------------------------#    #-----------------------------------------------------------------#\n",
      "| ../data/raw/2016-2017 School Year Reports/Wheelock College.xlsx |    | ../data/sorted/universities/WheelockCollege/raw/2016-2017.xlsx  |\n",
      "| ../data/raw/2017-2018 School Year Reports/Wheelock College.xlsx |    | ../data/sorted/universities/WheelockCollege/raw/2017-2018.xlsx  |\n",
      "#-----------------------------------------------------------------#    #-----------------------------------------------------------------#\n"
     ]
    }
   ],
   "source": [
    "# Wheelock College\n",
    "dirname = '../data/sorted/universities/WheelockCollege/raw'\n",
    "move_files('Wheelock College', dirname)"
   ]
  },
  {
   "cell_type": "code",
   "execution_count": 171,
   "metadata": {},
   "outputs": [
    {
     "name": "stdout",
     "output_type": "stream",
     "text": [
      "#----------------------------------------------------------------------------------#    #----------------------------------------------------------------------------------#\n",
      "|                                    Moved From                                    |    |                                     Moved To                                     |\n",
      "#----------------------------------------------------------------------------------#    #----------------------------------------------------------------------------------#\n",
      "| ../data/raw/2016-2017 School Year Reports/Wentworth Institute of Technology.xlsx |    |   ../data/sorted/universities/WentworthInstituteTechnology/raw/2016-2017.xlsx    |\n",
      "| ../data/raw/2017-2018 School Year Reports/Wentworth Institute of Technology.xlsx |    |   ../data/sorted/universities/WentworthInstituteTechnology/raw/2017-2018.xlsx    |\n",
      "| ../data/raw/2018-2019 School Year Reports/Wentworth Institute of Technology.xlsx |    |   ../data/sorted/universities/WentworthInstituteTechnology/raw/2018-2019.xlsx    |\n",
      "| ../data/raw/2019-2020 School Year Reports/Wentworth Institute of Technology.xlsx |    |   ../data/sorted/universities/WentworthInstituteTechnology/raw/2019-2020.xlsx    |\n",
      "| ../data/raw/2020-2021 School Year Reports/Wentworth Institute of Technology.xlsx |    |   ../data/sorted/universities/WentworthInstituteTechnology/raw/2020-2021.xlsx    |\n",
      "| ../data/raw/2021-2022 School Year Reports/Wentworth Institute of Technology.xlsx |    |   ../data/sorted/universities/WentworthInstituteTechnology/raw/2021-2022.xlsx    |\n",
      "| ../data/raw/2022-2023 School Year Reports/Wentworth Institute of Technology.xlsx |    |   ../data/sorted/universities/WentworthInstituteTechnology/raw/2022-2023.xlsx    |\n",
      "| ../data/raw/2023-2024 School Year Reports/Wentworth Institute of Technology.xlsx |    |   ../data/sorted/universities/WentworthInstituteTechnology/raw/2023-2024.xlsx    |\n",
      "#----------------------------------------------------------------------------------#    #----------------------------------------------------------------------------------#\n"
     ]
    }
   ],
   "source": [
    "# Wentworth Institute of Technology\n",
    "dirname = '../data/sorted/universities/WentworthInstituteTechnology/raw'\n",
    "move_files('Wentworth Institute of Technology', dirname)"
   ]
  },
  {
   "cell_type": "code",
   "execution_count": 172,
   "metadata": {},
   "outputs": [
    {
     "name": "stdout",
     "output_type": "stream",
     "text": [
      "#------------------------------------------------------------------------#    #------------------------------------------------------------------------#\n",
      "|                               Moved From                               |    |                                Moved To                                |\n",
      "#------------------------------------------------------------------------#    #------------------------------------------------------------------------#\n",
      "| ../data/raw/2016-2017 School Year Reports/Urban College of Boston.xlsx |    |   ../data/sorted/universities/UrbanCollegeBoston/raw/2016-2017.xlsx    |\n",
      "| ../data/raw/2017-2018 School Year Reports/Urban College of Boston.xlsx |    |   ../data/sorted/universities/UrbanCollegeBoston/raw/2017-2018.xlsx    |\n",
      "| ../data/raw/2018-2019 School Year Reports/Urban College of Boston.xlsx |    |   ../data/sorted/universities/UrbanCollegeBoston/raw/2018-2019.xlsx    |\n",
      "| ../data/raw/2019-2020 School Year Reports/Urban College of Boston.xlsx |    |   ../data/sorted/universities/UrbanCollegeBoston/raw/2019-2020.xlsx    |\n",
      "| ../data/raw/2020-2021 School Year Reports/Urban College of Boston.xlsx |    |   ../data/sorted/universities/UrbanCollegeBoston/raw/2020-2021.xlsx    |\n",
      "| ../data/raw/2021-2022 School Year Reports/Urban College of Boston.xlsx |    |   ../data/sorted/universities/UrbanCollegeBoston/raw/2021-2022.xlsx    |\n",
      "| ../data/raw/2022-2023 School Year Reports/Urban College of Boston.xlsx |    |   ../data/sorted/universities/UrbanCollegeBoston/raw/2022-2023.xlsx    |\n",
      "| ../data/raw/2023-2024 School Year Reports/Urban College of Boston.xlsx |    |   ../data/sorted/universities/UrbanCollegeBoston/raw/2023-2024.xlsx    |\n",
      "#------------------------------------------------------------------------#    #------------------------------------------------------------------------#\n"
     ]
    }
   ],
   "source": [
    "# Urban College of Boston\n",
    "dirname = '../data/sorted/universities/UrbanCollegeBoston/raw'\n",
    "move_files('Urban College of Boston', dirname)"
   ]
  },
  {
   "cell_type": "code",
   "execution_count": 173,
   "metadata": {},
   "outputs": [
    {
     "name": "stdout",
     "output_type": "stream",
     "text": [
      "#-----------------------------------------------------------------------------------#    #-----------------------------------------------------------------------------------#\n",
      "|                                    Moved From                                     |    |                                     Moved To                                      |\n",
      "#-----------------------------------------------------------------------------------#    #-----------------------------------------------------------------------------------#\n",
      "| ../data/raw/2016-2017 School Year Reports/University of Massachusetts-Boston.xlsx |    |      ../data/sorted/universities/UniversityMassachusetts/raw/2016-2017.xlsx       |\n",
      "| ../data/raw/2017-2018 School Year Reports/University of Massachusetts-Boston.xlsx |    |      ../data/sorted/universities/UniversityMassachusetts/raw/2017-2018.xlsx       |\n",
      "| ../data/raw/2018-2019 School Year Reports/University of Massachusetts-Boston.xlsx |    |      ../data/sorted/universities/UniversityMassachusetts/raw/2018-2019.xlsx       |\n",
      "| ../data/raw/2019-2020 School Year Reports/University of Massachusetts Boston.xlsx |    |      ../data/sorted/universities/UniversityMassachusetts/raw/2019-2020.xlsx       |\n",
      "| ../data/raw/2020-2021 School Year Reports/University of Massachusetts Boston.xlsx |    |      ../data/sorted/universities/UniversityMassachusetts/raw/2020-2021.xlsx       |\n",
      "| ../data/raw/2021-2022 School Year Reports/University of Massachusetts-Boston.xlsx |    |      ../data/sorted/universities/UniversityMassachusetts/raw/2021-2022.xlsx       |\n",
      "| ../data/raw/2022-2023 School Year Reports/University of Massachusetts-Boston.xlsx |    |      ../data/sorted/universities/UniversityMassachusetts/raw/2022-2023.xlsx       |\n",
      "| ../data/raw/2023-2024 School Year Reports/University of Massachusetts-Boston.xlsx |    |      ../data/sorted/universities/UniversityMassachusetts/raw/2023-2024.xlsx       |\n",
      "#-----------------------------------------------------------------------------------#    #-----------------------------------------------------------------------------------#\n"
     ]
    }
   ],
   "source": [
    "# University of Massachusetts\n",
    "dirname = '../data/sorted/universities/UniversityMassachusetts/raw'\n",
    "move_files('University of Massachusetts', dirname)"
   ]
  },
  {
   "cell_type": "code",
   "execution_count": 174,
   "metadata": {},
   "outputs": [
    {
     "name": "stdout",
     "output_type": "stream",
     "text": [
      "#-----------------------------------------------------------------------#    #-----------------------------------------------------------------------#\n",
      "|                              Moved From                               |    |                               Moved To                                |\n",
      "#-----------------------------------------------------------------------#    #-----------------------------------------------------------------------#\n",
      "| ../data/raw/2016-2017 School Year Reports/SHOWA Boston Institute.xlsx |    |  ../data/sorted/universities/SHOWABostonInstitute/raw/2016-2017.xlsx  |\n",
      "| ../data/raw/2017-2018 School Year Reports/SHOWA Boston Institute.xlsx |    |  ../data/sorted/universities/SHOWABostonInstitute/raw/2017-2018.xlsx  |\n",
      "| ../data/raw/2018-2019 School Year Reports/SHOWA Boston Institute.xlsx |    |  ../data/sorted/universities/SHOWABostonInstitute/raw/2018-2019.xlsx  |\n",
      "| ../data/raw/2019-2020 School Year Reports/SHOWA Boston Institute.xlsx |    |  ../data/sorted/universities/SHOWABostonInstitute/raw/2019-2020.xlsx  |\n",
      "| ../data/raw/2020-2021 School Year Reports/SHOWA Boston Institute.xlsx |    |  ../data/sorted/universities/SHOWABostonInstitute/raw/2020-2021.xlsx  |\n",
      "| ../data/raw/2021-2022 School Year Reports/SHOWA Boston Institute.xlsx |    |  ../data/sorted/universities/SHOWABostonInstitute/raw/2021-2022.xlsx  |\n",
      "| ../data/raw/2022-2023 School Year Reports/SHOWA Boston Institute.xlsx |    |  ../data/sorted/universities/SHOWABostonInstitute/raw/2022-2023.xlsx  |\n",
      "| ../data/raw/2023-2024 School Year Reports/SHOWA Boston Institute.xlsx |    |  ../data/sorted/universities/SHOWABostonInstitute/raw/2023-2024.xlsx  |\n",
      "#-----------------------------------------------------------------------#    #-----------------------------------------------------------------------#\n"
     ]
    }
   ],
   "source": [
    "# SHOWA Boston Institute\n",
    "dirname = '../data/sorted/universities/SHOWABostonInstitute/raw'\n",
    "move_files('SHOWA Boston Institute', dirname)"
   ]
  },
  {
   "cell_type": "code",
   "execution_count": 175,
   "metadata": {},
   "outputs": [
    {
     "name": "stdout",
     "output_type": "stream",
     "text": [
      "#-----------------------------------------------------------------#    #-----------------------------------------------------------------#\n",
      "|                           Moved From                            |    |                            Moved To                             |\n",
      "#-----------------------------------------------------------------#    #-----------------------------------------------------------------#\n",
      "| ../data/raw/2016-2017 School Year Reports/Tufts University.xlsx |    | ../data/sorted/universities/TuftsUniversity/raw/2016-2017.xlsx  |\n",
      "| ../data/raw/2017-2018 School Year Reports/Tufts University.xlsx |    | ../data/sorted/universities/TuftsUniversity/raw/2017-2018.xlsx  |\n",
      "| ../data/raw/2018-2019 School Year Reports/Tufts University.xlsx |    | ../data/sorted/universities/TuftsUniversity/raw/2018-2019.xlsx  |\n",
      "| ../data/raw/2019-2020 School Year Reports/Tufts University.xlsx |    | ../data/sorted/universities/TuftsUniversity/raw/2019-2020.xlsx  |\n",
      "| ../data/raw/2020-2021 School Year Reports/Tufts University.xlsx |    | ../data/sorted/universities/TuftsUniversity/raw/2020-2021.xlsx  |\n",
      "| ../data/raw/2021-2022 School Year Reports/Tufts University.xlsx |    | ../data/sorted/universities/TuftsUniversity/raw/2021-2022.xlsx  |\n",
      "| ../data/raw/2022-2023 School Year Reports/Tufts University.xlsx |    | ../data/sorted/universities/TuftsUniversity/raw/2022-2023.xlsx  |\n",
      "| ../data/raw/2023-2024 School Year Reports/Tufts University.xlsx |    | ../data/sorted/universities/TuftsUniversity/raw/2023-2024.xlsx  |\n",
      "#-----------------------------------------------------------------#    #-----------------------------------------------------------------#\n"
     ]
    }
   ],
   "source": [
    "# Tufts University\n",
    "dirname = '../data/sorted/universities/TuftsUniversity/raw'\n",
    "move_files('Tufts University', dirname)"
   ]
  },
  {
   "cell_type": "code",
   "execution_count": 176,
   "metadata": {},
   "outputs": [
    {
     "name": "stdout",
     "output_type": "stream",
     "text": [
      "#----------------------------------------------------------------#    #----------------------------------------------------------------#\n",
      "|                           Moved From                           |    |                            Moved To                            |\n",
      "#----------------------------------------------------------------#    #----------------------------------------------------------------#\n",
      "| ../data/raw/2020-2021 School Year Reports/Sattler College.xlsx |    | ../data/sorted/universities/SattlerCollege/raw/2020-2021.xlsx  |\n",
      "| ../data/raw/2021-2022 School Year Reports/Sattler College.xlsx |    | ../data/sorted/universities/SattlerCollege/raw/2021-2022.xlsx  |\n",
      "| ../data/raw/2022-2023 School Year Reports/Sattler College.xlsx |    | ../data/sorted/universities/SattlerCollege/raw/2022-2023.xlsx  |\n",
      "#----------------------------------------------------------------#    #----------------------------------------------------------------#\n"
     ]
    }
   ],
   "source": [
    "# Sattler College\n",
    "dirname = '../data/sorted/universities/SattlerCollege/raw'\n",
    "move_files('Sattler College', dirname)"
   ]
  },
  {
   "cell_type": "code",
   "execution_count": 177,
   "metadata": {},
   "outputs": [
    {
     "name": "stdout",
     "output_type": "stream",
     "text": [
      "#------------------------------------------------------------------------#    #------------------------------------------------------------------------#\n",
      "|                               Moved From                               |    |                                Moved To                                |\n",
      "#------------------------------------------------------------------------#    #------------------------------------------------------------------------#\n",
      "| ../data/raw/2016-2017 School Year Reports/Northeastern University.xlsx |    | ../data/sorted/universities/NortheasternUniversity/raw/2016-2017.xlsx  |\n",
      "| ../data/raw/2017-2018 School Year Reports/Northeastern University.xlsx |    | ../data/sorted/universities/NortheasternUniversity/raw/2017-2018.xlsx  |\n",
      "| ../data/raw/2018-2019 School Year Reports/Northeastern University.xlsx |    | ../data/sorted/universities/NortheasternUniversity/raw/2018-2019.xlsx  |\n",
      "| ../data/raw/2019-2020 School Year Reports/Northeastern University.xlsx |    | ../data/sorted/universities/NortheasternUniversity/raw/2019-2020.xlsx  |\n",
      "| ../data/raw/2020-2021 School Year Reports/Northeastern University.xlsx |    | ../data/sorted/universities/NortheasternUniversity/raw/2020-2021.xlsx  |\n",
      "| ../data/raw/2021-2022 School Year Reports/Northeastern University.xlsx |    | ../data/sorted/universities/NortheasternUniversity/raw/2021-2022.xlsx  |\n",
      "| ../data/raw/2022-2023 School Year Reports/Northeastern University.xlsx |    | ../data/sorted/universities/NortheasternUniversity/raw/2022-2023.xlsx  |\n",
      "| ../data/raw/2023-2024 School Year Reports/Northeastern University.xlsx |    | ../data/sorted/universities/NortheasternUniversity/raw/2023-2024.xlsx  |\n",
      "#------------------------------------------------------------------------#    #------------------------------------------------------------------------#\n"
     ]
    }
   ],
   "source": [
    "# Northeastern University\n",
    "dirname = '../data/sorted/universities/NortheasternUniversity/raw'\n",
    "move_files('Northeastern University', dirname)"
   ]
  },
  {
   "cell_type": "markdown",
   "metadata": {},
   "source": [
    "## Cleaning and Merging "
   ]
  },
  {
   "cell_type": "markdown",
   "metadata": {},
   "source": [
    "After moving everything, we had to merge the data and clean it.\n",
    "\n",
    "First, we decided to come up with a universal format we want the finalized the dataset to have, the format is built by considering what columns are usefull and what are not while manually inspecting the files.\n",
    "\n",
    "This is the final columns we decided to keep\n",
    "\n",
    "<table>\n",
    "        <tr>\n",
    "                <td> Columns </td>\n",
    "                <td> Type </td>\n",
    "                <td> Original Equivalent </td>\n",
    "        </tr>\n",
    "        <tr>\n",
    "                <td>street_number</td>\n",
    "                <td>String</td>\n",
    "                <td>Street #</td>\n",
    "        </tr>\n",
    "        <tr>\n",
    "                <td>street_name</td>\n",
    "                <td>String</td>\n",
    "                <td>Street Name</td>\n",
    "        </tr>\n",
    "        <tr>\n",
    "                <td>steet_suffix</td>\n",
    "                <td>String</td>\n",
    "                <td>Street Suffix</td>\n",
    "        </tr>\n",
    "        <tr>\n",
    "                <td>unit_number</td>\n",
    "                <td>String</td>\n",
    "                <td>Unit #</td>\n",
    "        </tr>\n",
    "        <tr>\n",
    "                <td>zip_code</td>\n",
    "                <td>String</td>\n",
    "                <td>Zip</td>\n",
    "        </tr>\n",
    "        <tr>\n",
    "                <td>level_of_study</td>\n",
    "                <td>String</td>\n",
    "                <td>Undergraduate (U) or Graduate (G)</td>\n",
    "        </tr>\n",
    "        <tr>\n",
    "                <td>full_time</td>\n",
    "                <td>String</td>\n",
    "                <td>Full-time (FT) or Part-time (PT)</td>\n",
    "        </tr>\n",
    "        <tr>\n",
    "                <td>extra_large_unit</td>\n",
    "                <td>String</td>\n",
    "                <td>5 or More Undergrads/Unit</td>\n",
    "        </tr>\n",
    "        <tr>\n",
    "                <td>at_home</td>\n",
    "                <td>String</td>\n",
    "                <td>At-Home or Not-at-Home</td>\n",
    "        </tr>\n",
    "        <tr>\n",
    "                <td>year_range</td>\n",
    "                <td>String</td>\n",
    "                <td>N/A</td>\n",
    "        </tr>\n",
    "        <tr>\n",
    "                <td>university</td>\n",
    "                <td>String</td>\n",
    "                <td>N/A</td>\n",
    "        </tr>\n",
    "</table>\n",
    "\n",
    "The last two columns were added by us, the ```university``` column corresponds to the university the data entries correspond to, also the ```year_range``` is the time frame that data was collected for. We did this so we do not lose track of years and universities which could possibly allows us to visualize more in depth and answer questions that might be related to a specific university or a specific data range."
   ]
  },
  {
   "cell_type": "markdown",
   "metadata": {},
   "source": [
    "### Minor roadblock"
   ]
  },
  {
   "cell_type": "markdown",
   "metadata": {},
   "source": [
    "Upon inspecting the data, we realized we can't start code-based cleaning yet. The issue was that some files has an extra data cell that didn't relate to data at all, but rather served as a guideline for how to fill this datasheet. Therefore, we had to avoid it, however, simply skipping while reading it wasn't going to cut it. Another issue was that those unrelated entries were not place consistently. Some files had it as a row before the main data, in some, it was in different columns but shared a row with some entry. Reading such data with Pandas became non-trivial since we couldn't avoid reading all of them. We collectevely decided to clean it manually. From every file we planned to use in the final dataset, we manually opened those files and removed the unrelated entry.\n",
    "\n",
    "Additionally, while fixing the above issue, we faced a different problem, some files had different columns, some of which were never seen before, so we fixed those too.\n",
    "\n",
    "We and modified all the files so they fall under 3 categories:\n",
    "\n",
    "<strong>Category 1</strong>\n",
    "\n",
    "Files with the following column names:\n",
    "\n",
    "<table>\n",
    "    <tr>\n",
    "        <td>6a. \\nStreet #</td>\n",
    "        <td>6b. \\nStreet Name</td>\n",
    "        <td>6c. \\nStreet Suffix  </td>\n",
    "        <td>6d.\\n Unit #</td>\n",
    "        <td>6e. \\nZip</td>\n",
    "        <td>7. \\nUndergraduate (U) or Graduate (G)</td>\n",
    "        <td>8. \\nFull-time (FT) or \\nPart-time (PT)/td>\n",
    "        <td>9. \\n 5 or More Undergrads/Unit\\n(Y/N)</td>\n",
    "        <td>10. \\nAt-Home or Not-at-Home</td>\n",
    "    </tr>\n",
    "</table>\n",
    "\n",
    "\n",
    "<strong>Category 2</strong>\n",
    "\n",
    "Files with the following column names:\n",
    "\n",
    "<table>\n",
    "    <tr>\n",
    "        <td>6a. \\nStreet #</td>\n",
    "        <td>6b. \\nStreet Name</td>\n",
    "        <td>6c. \\nStreet Suffix  </td>\n",
    "        <td>6d.\\n Unit #</td>\n",
    "        <td>6e. \\nZip</td>\n",
    "        <td>7. \\nUndergraduate (U) or Graduate (G)</td>\n",
    "        <td>8. \\nFull-time (FT) or \\nPart-time (PT)/td>\n",
    "        <td>9. \\nAt-Home or Not-at-Home</td>\n",
    "    </tr>\n",
    "</table>\n",
    "\n",
    "<strong>Category 3</strong>\n",
    "\n",
    "Files with the following column names:\n",
    "\n",
    "<table>\n",
    "    <tr>\n",
    "        <td>6a. \\nStreet #</td>\n",
    "        <td>6b. \\nStreet Name</td>\n",
    "        <td>6c. \\nStreet Suffix  </td>\n",
    "        <td>6d.\\n Unit #</td>\n",
    "        <td>6e. \\nZip</td>\n",
    "        <td>7. \\nUndergraduate (U) or Graduate (G)</td>\n",
    "        <td>8. \\nFull-time (FT) or \\nPart-time (PT)/td>\n",
    "        <td>9. \\n 5 or More Undergrads/Unit\\n(Y/N)</td>\n",
    "    </tr>\n",
    "</table>\n",
    "\n",
    "\n",
    "The way we defined the category for the file depended on the content of the file. If all the column names for the file were the same as then, it fell under the category. Also, if the values themselves represnted the column names, they also fell under the category.\n",
    "\n",
    "If the files were missing address related columns, we would simply add them and left them empty\n",
    "\n",
    "Finally, we had to make that the sheets that had the important data had a correct name of ```Student Addresses```"
   ]
  },
  {
   "cell_type": "markdown",
   "metadata": {},
   "source": [
    "### Code-Based Cleaning"
   ]
  },
  {
   "cell_type": "markdown",
   "metadata": {},
   "source": [
    "After successfully removing the unrelated data cell we can start the merging process, but before, we have to make sure everything is ready\n",
    "\n",
    "<i style='font-weight:100; float:right; padding-right: 1.75em'>The cells below correspond to the current phase of data preparation</i>"
   ]
  },
  {
   "cell_type": "markdown",
   "metadata": {},
   "source": [
    "#### Prepare Dataframes"
   ]
  },
  {
   "cell_type": "code",
   "execution_count": 178,
   "metadata": {},
   "outputs": [
    {
     "name": "stdout",
     "output_type": "stream",
     "text": [
      "University Bldgs\n"
     ]
    },
    {
     "name": "stderr",
     "output_type": "stream",
     "text": [
      "/Library/Frameworks/Python.framework/Versions/3.12/lib/python3.12/site-packages/openpyxl/reader/workbook.py:120: UserWarning: Print area cannot be set to Defined name: 'Summary Stats'!$1:$31.\n",
      "  warn(f\"Print area cannot be set to Defined name: {defn.value}.\")\n"
     ]
    },
    {
     "name": "stdout",
     "output_type": "stream",
     "text": [
      "Definitions\n",
      "University Bldgs\n",
      "Student Addresses\n",
      "Done\n"
     ]
    }
   ],
   "source": [
    "universities = [\n",
    "    'BayStateCollege',\n",
    "    'BerkleeCollegeMusicBostonConservatory',\n",
    "    'BostonArchitecturalCollege',\n",
    "    'BostonBaptistCollege',\n",
    "    'BostonCollege',\n",
    "    'BostonCollegeWCAS',\n",
    "    'BostonConservatoryBerklee',\n",
    "    'BerkleeCollegeMusic',\n",
    "    'BostonUniversity',\n",
    "    'EmersonCollege',\n",
    "    'EmmanuelCollege',\n",
    "    'FisherCollege',\n",
    "    'FranklinInstituteTechnology',\n",
    "    'HarvardUniversity',\n",
    "    'MassachusettsCollegeArtDesign',\n",
    "    'MassachusettsCollegePharmacyHealthSciences',\n",
    "    'MassachusettsInstituteTechnology',\n",
    "    'MGHInstituteHealthProfessions',\n",
    "    'NewEnglandCollegeOptometry',\n",
    "    'NewEnglandConservatory',\n",
    "    'NewEnglandLaw',\n",
    "    'SimmonsCollege',\n",
    "    'StJohnsSeminary',\n",
    "    'SuffolkUniversity',\n",
    "    'WheelockCollege',\n",
    "    'WentworthInstituteTechnology',\n",
    "    'UrbanCollegeBoston',\n",
    "    'UniversityMassachusetts',\n",
    "    'SHOWABostonInstitute',\n",
    "    'TuftsUniversity',\n",
    "    'SattlerCollege',\n",
    "    'NortheasternUniversity'\n",
    "]\n",
    "\n",
    "dataframes = {}\n",
    "\n",
    "for university in universities:\n",
    "    dataframes[university] = prepare_dataframes(university)\n",
    "\n",
    "print('Done')"
   ]
  },
  {
   "cell_type": "markdown",
   "metadata": {},
   "source": [
    "Let's double check if the columns fall only into 3 categories"
   ]
  },
  {
   "cell_type": "code",
   "execution_count": 179,
   "metadata": {},
   "outputs": [
    {
     "name": "stdout",
     "output_type": "stream",
     "text": [
      "56 ['6a. \\nStreet #', '6b. \\nStreet Name', '6c. \\nStreet Suffix  ', '6d.\\n Unit #', '6e. \\nZip', '7. \\nUndergraduate (U) or Graduate (G)', '8. \\nFull-time (FT) or \\nPart-time (PT)', '9. \\nAt-Home or Not-at-Home']\n",
      "170 ['6a. \\nStreet #', '6b. \\nStreet Name', '6c. \\nStreet Suffix  ', '6d.\\n Unit #', '6e. \\nZip', '7. \\nUndergraduate (U) or Graduate (G)', '8. \\nFull-time (FT) or \\nPart-time (PT)', '9. \\n 5 or More Undergrads/Unit\\n(Y/N)']\n",
      "3 ['6a. \\nStreet #', '6b. \\nStreet Name', '6c. \\nStreet Suffix  ', '6d.\\n Unit #', '6e. \\nZip', '7. \\nUndergraduate (U) or Graduate (G)', '8. \\nFull-time (FT) or \\nPart-time (PT)', '9. \\n 5 or More Undergrads/Unit\\n(Y/N)', '10. \\nAt-Home or Not-at-Home']\n"
     ]
    }
   ],
   "source": [
    "groups = find_common_column_groups(dataframes)\n",
    "\n",
    "for key in groups:\n",
    "    print(len(groups[key]), key)"
   ]
  },
  {
   "cell_type": "markdown",
   "metadata": {},
   "source": [
    "As we can see, the dataframes are split into 3 distinct groups, we have to make sure they all are under 1 group before merging"
   ]
  },
  {
   "cell_type": "code",
   "execution_count": 180,
   "metadata": {},
   "outputs": [],
   "source": [
    "group_1 = ['6a. \\nStreet #', '6b. \\nStreet Name', '6c. \\nStreet Suffix  ', '6d.\\n Unit #', '6e. \\nZip', '7. \\nUndergraduate (U) or Graduate (G)', '8. \\nFull-time (FT) or \\nPart-time (PT)', '9. \\n 5 or More Undergrads/Unit\\n(Y/N)', '10. \\nAt-Home or Not-at-Home']\n",
    "group_2 = ['6a. \\nStreet #', '6b. \\nStreet Name', '6c. \\nStreet Suffix  ', '6d.\\n Unit #', '6e. \\nZip', '7. \\nUndergraduate (U) or Graduate (G)', '8. \\nFull-time (FT) or \\nPart-time (PT)', '9. \\nAt-Home or Not-at-Home']\n",
    "group_3 = ['6a. \\nStreet #', '6b. \\nStreet Name', '6c. \\nStreet Suffix  ', '6d.\\n Unit #', '6e. \\nZip', '7. \\nUndergraduate (U) or Graduate (G)', '8. \\nFull-time (FT) or \\nPart-time (PT)', '9. \\n 5 or More Undergrads/Unit\\n(Y/N)']"
   ]
  },
  {
   "cell_type": "markdown",
   "metadata": {},
   "source": [
    "##### Group 3\n",
    "\n",
    "Just add the ```10. \\nAt-Home or Not-at-Home``` column and fill it with np.nan\n",
    "\n",
    "Then rename the columns to group_1 columns"
   ]
  },
  {
   "cell_type": "code",
   "execution_count": 181,
   "metadata": {},
   "outputs": [],
   "source": [
    "# group_3 first\n",
    "# filter them into a list\n",
    "group_3_files = [ (university, year) for university, year in groups[str(group_3)] ]\n",
    "\n",
    "for file in group_3_files:\n",
    "    university = file[0]\n",
    "    year = file[1]\n",
    "\n",
    "    df = dataframes[university][year]\n",
    "\n",
    "    df['10. \\nAt-Home or Not-at-Home'] = np.nan\n",
    "    "
   ]
  },
  {
   "cell_type": "markdown",
   "metadata": {},
   "source": [
    "##### Group 2\n",
    "\n",
    "Just add the ```10. \\nAt-Home or Not-at-Home``` column and fill it with the values from ```9. \\nAt-Home or Not-at-Home```\n",
    "\n",
    "Then, delete the values inside ```9. \\nAt-Home or Not-at-Home``` column\n",
    "\n",
    "Then rename the columns to group_1 columns"
   ]
  },
  {
   "cell_type": "code",
   "execution_count": 182,
   "metadata": {},
   "outputs": [],
   "source": [
    "group_2_files = [ (university, year) for university, year in groups[str(group_2)] ]\n",
    "\n",
    "for file in group_2_files:\n",
    "    university = file[0]\n",
    "    year = file[1]\n",
    "\n",
    "    df = dataframes[university][year]\n",
    "\n",
    "    df['10. \\n At-Home or Not-at-Home'] = df['9. \\nAt-Home or Not-at-Home']\n",
    "\n",
    "    df['9. \\nAt-Home or Not-at-Home'] = np.nan\n",
    "    \n",
    "    df.columns = group_1"
   ]
  },
  {
   "cell_type": "markdown",
   "metadata": {},
   "source": [
    "##### Group 1\n",
    "\n",
    "Since group 1 has all the columns we need, we don't need to add or delete anything"
   ]
  },
  {
   "cell_type": "markdown",
   "metadata": {},
   "source": [
    "Let's check if everything is the same now"
   ]
  },
  {
   "cell_type": "code",
   "execution_count": 183,
   "metadata": {},
   "outputs": [
    {
     "name": "stdout",
     "output_type": "stream",
     "text": [
      "229 ['6a. \\nStreet #', '6b. \\nStreet Name', '6c. \\nStreet Suffix  ', '6d.\\n Unit #', '6e. \\nZip', '7. \\nUndergraduate (U) or Graduate (G)', '8. \\nFull-time (FT) or \\nPart-time (PT)', '9. \\n 5 or More Undergrads/Unit\\n(Y/N)', '10. \\nAt-Home or Not-at-Home']\n"
     ]
    }
   ],
   "source": [
    "groups = find_common_column_groups(dataframes)\n",
    "\n",
    "for key in groups:\n",
    "    print(len(groups[key]), key)"
   ]
  },
  {
   "cell_type": "markdown",
   "metadata": {},
   "source": [
    "#### Renaming Existing Columns"
   ]
  },
  {
   "cell_type": "markdown",
   "metadata": {},
   "source": [
    "Since everything is the same, we can start renaming the columns into a predefined list of columns"
   ]
  },
  {
   "cell_type": "code",
   "execution_count": 184,
   "metadata": {},
   "outputs": [],
   "source": [
    "columns = [\n",
    "    'street_number',\n",
    "    'street_name',\n",
    "    'street_suffix',\n",
    "    'unit_number',\n",
    "    'zip_code',\n",
    "    'level_of_study',\n",
    "    'full_time',\n",
    "    'extra_large_unit',\n",
    "    'at_home'\n",
    "]\n",
    "\n",
    "for university in dataframes:\n",
    "    for year in dataframes[university]:\n",
    "        df = dataframes[university][year]\n",
    "        # avoid NoneTypes\n",
    "        try:\n",
    "            df.columns = columns\n",
    "        except:\n",
    "            print(university,year)"
   ]
  },
  {
   "cell_type": "code",
   "execution_count": 185,
   "metadata": {},
   "outputs": [
    {
     "name": "stdout",
     "output_type": "stream",
     "text": [
      "229 ['street_number', 'street_name', 'street_suffix', 'unit_number', 'zip_code', 'level_of_study', 'full_time', 'extra_large_unit', 'at_home']\n"
     ]
    }
   ],
   "source": [
    "groups = find_common_column_groups(dataframes)\n",
    "\n",
    "for key in groups:\n",
    "    print(len(groups[key]), key)"
   ]
  },
  {
   "cell_type": "markdown",
   "metadata": {},
   "source": [
    "#### Adding New Columns\n",
    "\n"
   ]
  },
  {
   "cell_type": "markdown",
   "metadata": {},
   "source": [
    "Before merging, we have to make sure that we do not lose the data, so, to each dataframe we will add two columns, year range and university it belongs to"
   ]
  },
  {
   "cell_type": "code",
   "execution_count": 186,
   "metadata": {},
   "outputs": [],
   "source": [
    "for university in dataframes:\n",
    "    for year in dataframes[university]:\n",
    "        df = dataframes[university][year]\n",
    "        df['university'] = university\n",
    "        df['year'] = year.split('.')[0]"
   ]
  },
  {
   "cell_type": "markdown",
   "metadata": {},
   "source": [
    "#### Merging"
   ]
  },
  {
   "cell_type": "markdown",
   "metadata": {},
   "source": [
    "Now, we can finally merge the data into 1 big dataframe."
   ]
  },
  {
   "cell_type": "code",
   "execution_count": 187,
   "metadata": {},
   "outputs": [
    {
     "name": "stdout",
     "output_type": "stream",
     "text": [
      "Merged\n"
     ]
    }
   ],
   "source": [
    "merged = pd.DataFrame(columns=columns)\n",
    "\n",
    "for university in dataframes:\n",
    "    for year in dataframes[university]:\n",
    "        df = dataframes[university][year]\n",
    "        \n",
    "        if df is None:\n",
    "            continue\n",
    "\n",
    "        merged = pd.concat([merged,df])\n",
    "\n",
    "print('Merged')"
   ]
  },
  {
   "cell_type": "markdown",
   "metadata": {},
   "source": [
    "Ensure that the columns are of type string for the cleaning"
   ]
  },
  {
   "cell_type": "code",
   "execution_count": 188,
   "metadata": {},
   "outputs": [],
   "source": [
    "for column in merged.columns:\n",
    "    merged[column] = merged[column].astype(str)"
   ]
  },
  {
   "cell_type": "markdown",
   "metadata": {},
   "source": [
    "#### Cleaning"
   ]
  },
  {
   "cell_type": "markdown",
   "metadata": {},
   "source": [
    "Now, after finally merging the dataframe we can shift our focus on cleaning the dataframe"
   ]
  },
  {
   "cell_type": "markdown",
   "metadata": {},
   "source": [
    "##### Address Cleaning"
   ]
  },
  {
   "cell_type": "markdown",
   "metadata": {},
   "source": [
    "While inspecting the data, we saw a lot of instances where the address wasn't seperated, or seperated incorectly\n",
    "\n",
    "Therefore, we will combine the addresses, and then split it using the ```seperate_address``` function we imported above\n",
    "\n",
    "However, before that, let's fill the null values with empty strings, otherwise the parser will error"
   ]
  },
  {
   "cell_type": "code",
   "execution_count": 189,
   "metadata": {},
   "outputs": [],
   "source": [
    "merged['street_number'] = merged['street_number'].fillna('').replace('nan','')\n",
    "merged['street_name'] = merged['street_name'].fillna('').replace('nan','')\n",
    "merged['street_suffix'] = merged['street_suffix'].fillna('').replace('nan','')\n",
    "merged['unit_number'] = merged['unit_number'].fillna('').replace('nan','')"
   ]
  },
  {
   "cell_type": "markdown",
   "metadata": {},
   "source": [
    "Now, combine the columns into ```street_name```"
   ]
  },
  {
   "cell_type": "code",
   "execution_count": 190,
   "metadata": {},
   "outputs": [],
   "source": [
    "merged['street_name'] = merged['street_number'] + ' ' + merged['street_name'] + ' ' + merged['street_suffix'] + ' ' + merged['unit_number']"
   ]
  },
  {
   "cell_type": "markdown",
   "metadata": {},
   "source": [
    "Remove the values from ```street_number```, ```street_suffix```, and ```unit_number```"
   ]
  },
  {
   "cell_type": "code",
   "execution_count": 191,
   "metadata": {},
   "outputs": [],
   "source": [
    "# set the street_number, street_name, street_suffix, unit_number to empty string\n",
    "merged['street_number'] = ''\n",
    "merged['street_suffix'] = ''\n",
    "merged['unit_number'] = ''"
   ]
  },
  {
   "cell_type": "markdown",
   "metadata": {},
   "source": [
    "Use the ```seperate_address``` function to fix the addresses"
   ]
  },
  {
   "cell_type": "code",
   "execution_count": 192,
   "metadata": {},
   "outputs": [],
   "source": [
    "merged[['street_number', 'street_name', 'street_suffix', 'unit_number']] = merged['street_name'].apply(seperate_address)"
   ]
  },
  {
   "cell_type": "markdown",
   "metadata": {},
   "source": [
    "##### Fixing ```zip_code```"
   ]
  },
  {
   "cell_type": "markdown",
   "metadata": {},
   "source": [
    "The ```zip_code``` column is much more persistent with proper formatting, however, some values need to be cleaned\n",
    "\n",
    "However, there are issues that need to be fixed, so we will go over the column and fix whatever is not right"
   ]
  },
  {
   "cell_type": "code",
   "execution_count": 193,
   "metadata": {},
   "outputs": [],
   "source": [
    "merged['zip_code'] = merged['zip_code'].apply(fix_zip_code)"
   ]
  },
  {
   "cell_type": "markdown",
   "metadata": {},
   "source": [
    "What happened above is that any zip code that doesn't follow the normal two patterns, i.e. the normal 5 digit pattern and ZIP+4 pattern, they will either be fixed or set to a dummy zip code value of ```00000```"
   ]
  },
  {
   "cell_type": "code",
   "execution_count": 194,
   "metadata": {},
   "outputs": [],
   "source": [
    "merged.loc[(merged['zip_code'] != '00000') & (~merged['zip_code'].apply(is_in_massachusetts)), 'zip_code'] = '00000'"
   ]
  },
  {
   "cell_type": "markdown",
   "metadata": {},
   "source": [
    "Some of the zip codes matched the pattern, but are outside of Massachusetts, we will set those to ```00000``` too"
   ]
  },
  {
   "cell_type": "markdown",
   "metadata": {},
   "source": [
    "##### Fixing ```level_of_study```"
   ]
  },
  {
   "cell_type": "markdown",
   "metadata": {},
   "source": [
    "\n",
    "On the left side of the table there are all unique values from the ```level_of_study``` column, on the right side are the new values that the original values were mapped to. The values with no assigned new value will be left for the end of the cleaning\n",
    "\n",
    "<table style=\"width: max-content;\">\n",
    "    <tr>\n",
    "        <th style=\"text-align: left\">Original Value</th>\n",
    "        <th>New Value</th>\n",
    "    </tr>\n",
    "    <tr>\n",
    "        <td><code>UG</code></td>\n",
    "        <td style=\"text-align: center\"><code>UG</code></td>\n",
    "    </tr>\n",
    "    <tr>\n",
    "        <td><code>U</code></td>\n",
    "        <td style=\"text-align: center\"><code>UG</code></td>\n",
    "    </tr>\n",
    "    <tr>\n",
    "        <td><code>U&nbsp;</code></td>\n",
    "        <td style=\"text-align: center\"><code>UG</code></td>\n",
    "    </tr>\n",
    "    <tr>\n",
    "        <td><code>Undergrad</code></td>\n",
    "        <td style=\"text-align: center\"><code>UG</code></td>\n",
    "    </tr>\n",
    "    <tr>\n",
    "        <td><code>Undergraduate</code></td>\n",
    "        <td style=\"text-align: center\"><code>UG</code></td>\n",
    "    </tr>\n",
    "    <tr>\n",
    "        <td><code>&nbsp;Undergraduate</code></td>\n",
    "        <td style=\"text-align: center\"><code>UG</code></td>\n",
    "    </tr>\n",
    "    <tr>\n",
    "        <td><code>undergraduate</code></td>\n",
    "        <td style=\"text-align: center\"><code>UG</code></td>\n",
    "    </tr>\n",
    "    <tr>\n",
    "        <td><code>GR</code></td>\n",
    "        <td style=\"text-align: center\"><code>GR</code></td>\n",
    "    </tr>\n",
    "    <tr>\n",
    "        <td><code>G</code></td>\n",
    "        <td style=\"text-align: center\"><code>GR</code></td>\n",
    "    </tr>\n",
    "    <tr>\n",
    "        <td><code>Grad</code></td>\n",
    "        <td style=\"text-align: center\"><code>GR</code></td>\n",
    "    </tr>\n",
    "    <tr>\n",
    "        <td><code>Graduate</code></td>\n",
    "        <td style=\"text-align: center\"><code>GR</code></td>\n",
    "    </tr>\n",
    "    <tr>\n",
    "        <td><code>1 G</code></td>\n",
    "        <td style=\"text-align: center\"><code>GR</code></td>\n",
    "    </tr>\n",
    "    <tr>\n",
    "        <td><code>Woods College of Advance Studies</code></td>\n",
    "        <td style=\"text-align: center\"><code>UK</code></td>\n",
    "    </tr>\n",
    "    <tr>\n",
    "        <td><code>Woods College</code></td>\n",
    "        <td style=\"text-align: center\"><code>UK</code></td>\n",
    "    </tr>\n",
    "    <tr>\n",
    "        <td><code>Exchange Student</code></td>\n",
    "        <td style=\"text-align: center\"><code>UK</code></td>\n",
    "    </tr>\n",
    "    <tr>\n",
    "        <td><code>nan</code></td>\n",
    "        <td style=\"text-align: center\"><code>UK</code></td>\n",
    "    </tr>\n",
    "    <tr>\n",
    "        <td><code>U and Graduate</code></td>\n",
    "        <td style=\"text-align: center\"></td>\n",
    "    </tr>\n",
    "    <tr>\n",
    "        <td><code>Both</code></td>\n",
    "        <td style=\"text-align: center\"></td>\n",
    "    </tr>\n",
    "    <tr>\n",
    "        <td><code>U and G</code></td>\n",
    "        <td style=\"text-align: center\"></td>\n",
    "    </tr>\n",
    "    <tr>\n",
    "        <td><code>G and UG</code></td>\n",
    "        <td style=\"text-align: center\"></td>\n",
    "    </tr>\n",
    "    <tr>\n",
    "        <td><code>3 UG; 5G</code></td>\n",
    "        <td style=\"text-align: center\"></td>\n",
    "    </tr>\n",
    "    <tr>\n",
    "        <td><code>G and U</code></td>\n",
    "        <td style=\"text-align: center\"></td>\n",
    "    </tr>\n",
    "</table>"
   ]
  },
  {
   "cell_type": "code",
   "execution_count": 195,
   "metadata": {},
   "outputs": [],
   "source": [
    "mapping = {\n",
    "    'G' : 'GR',\n",
    "    'G ' : 'GR',\n",
    "    'Grad' : 'GR',\n",
    "    'Graduate' : 'GR',\n",
    "    '1 G' : 'GR',\n",
    "\n",
    "    'U' : 'UG',\n",
    "    'U ' : 'UG',\n",
    "    'Undergrad' : 'UG',\n",
    "    'Undergraduate' : 'UG',\n",
    "    ' Undergraduate' : 'UG',\n",
    "    'undergraduate' : 'UG',\n",
    "\n",
    "    'Woods College of Advancing Studies' : 'UK',\n",
    "    'Woods College' : 'UK',\n",
    "    'Exchange Student' : 'UK',\n",
    "    'nan' : 'UK'\n",
    "}\n",
    "\n",
    "map = lambda x: mapping[x] if x in mapping else x\n",
    "\n",
    "merged['level_of_study'] = merged['level_of_study'].apply(map)"
   ]
  },
  {
   "cell_type": "markdown",
   "metadata": {},
   "source": [
    "##### Fixing ```full_time```"
   ]
  },
  {
   "cell_type": "markdown",
   "metadata": {},
   "source": [
    "On the left side of the table there are all unique values from the ```full_time``` column, on the right side are the new values that the original values were mapped to. The values with no assigned new value will be left for the end of the cleaning\n",
    "\n",
    "<table style=\"width: max-content;\">\n",
    "    <tr>\n",
    "        <th style=\"text-align: left\">Original Value</th>\n",
    "        <th>New Value</th>\n",
    "    </tr>\n",
    "    <tr>\n",
    "        <td><code>PT</code></td>\n",
    "        <td style=\"text-align: center\"><code>PT</code></td>\n",
    "    </tr>\n",
    "    <tr>\n",
    "        <td><code>Part Time</code></td>\n",
    "        <td style=\"text-align: center\"><code>PT</code></td>\n",
    "    </tr>\n",
    "    <tr>\n",
    "        <td><code>PART</code></td>\n",
    "        <td style=\"text-align: center\"><code>PT</code></td>\n",
    "    </tr>\n",
    "    <tr>\n",
    "        <td><code>Part-Time</code></td>\n",
    "        <td style=\"text-align: center\"><code>PT</code></td>\n",
    "    </tr>\n",
    "    <tr>\n",
    "        <td><code>HT</code></td>\n",
    "        <td style=\"text-align: center\"><code>PT</code></td>\n",
    "    </tr>\n",
    "    <tr>\n",
    "        <td><code>HALF</code></td>\n",
    "        <td style=\"text-align: center\"><code>PT</code></td>\n",
    "    </tr>\n",
    "    <tr>\n",
    "        <td><code>P</code></td>\n",
    "        <td style=\"text-align: center\"><code>PT</code></td>\n",
    "    </tr>\n",
    "    <tr>\n",
    "        <td><code>FT</code></td>\n",
    "        <td style=\"text-align: center\"><code>FT</code></td>\n",
    "    </tr>\n",
    "    <tr>\n",
    "        <td><code>FT&nbsp;</code></td>\n",
    "        <td style=\"text-align: center\"><code>FT</code></td>\n",
    "    </tr>\n",
    "    <tr>\n",
    "        <td><code>Full Time</code></td>\n",
    "        <td style=\"text-align: center\"><code>FT</code></td>\n",
    "    </tr>\n",
    "    <tr>\n",
    "        <td><code>FULL</code></td>\n",
    "        <td style=\"text-align: center\"><code>FT</code></td>\n",
    "    </tr>\n",
    "    <tr>\n",
    "        <td><code>Full-Time</code></td>\n",
    "        <td style=\"text-align: center\"><code>FT</code></td>\n",
    "    </tr>\n",
    "    <tr>\n",
    "        <td><code>F</code></td>\n",
    "        <td style=\"text-align: center\"><code>FT</code></td>\n",
    "    </tr>\n",
    "    <tr>\n",
    "        <td><code>Full-time F-1 foreign Students</code></td>\n",
    "        <td style=\"text-align: center\"><code>FT</code></td>\n",
    "    </tr>\n",
    "    <tr>\n",
    "        <td><code>FP</code></td>\n",
    "        <td style=\"text-align: center\"><code>UK</code></td>\n",
    "    </tr>\n",
    "    <tr>\n",
    "        <td><code>FN</code></td>\n",
    "        <td style=\"text-align: center\"><code>UK</code></td>\n",
    "    </tr>\n",
    "    <tr>\n",
    "        <td><code>D</code></td>\n",
    "        <td style=\"text-align: center\"><code>UK</code></td>\n",
    "    </tr>\n",
    "    <tr>\n",
    "        <td><code>E</code></td>\n",
    "        <td style=\"text-align: center\"><code>UK</code></td>\n",
    "    </tr>\n",
    "    <tr>\n",
    "        <td><code>S</code></td>\n",
    "        <td style=\"text-align: center\"><code>UK</code></td>\n",
    "    </tr>\n",
    "    <tr>\n",
    "        <td><code>T</code></td>\n",
    "        <td style=\"text-align: center\"><code>UK</code></td>\n",
    "    </tr>\n",
    "    <tr>\n",
    "        <td><code>nan</code></td>\n",
    "        <td style=\"text-align: center\"><code>UK</code></td>\n",
    "    </tr>\n",
    "    <tr>\n",
    "        <td><code>FT and PT</code></td>\n",
    "        <td style=\"text-align: center\"></td>\n",
    "    </tr>\n",
    "    <tr>\n",
    "        <td><code>PT and FT</code></td>\n",
    "        <td style=\"text-align: center\"></td>\n",
    "    </tr>\n",
    "    <tr>\n",
    "        <td><code>all FT</code></td>\n",
    "        <td style=\"text-align: center\"></td>\n",
    "    </tr>\n",
    "</table>"
   ]
  },
  {
   "cell_type": "code",
   "execution_count": 196,
   "metadata": {},
   "outputs": [],
   "source": [
    "mapping = {\n",
    "    'FT ' : 'FT',\n",
    "    'Full Time' : 'FT',\n",
    "    'Full-Time' : 'FT',\n",
    "    'FULL' : 'FT',\n",
    "    'F' : 'FT',\n",
    "    'Full-time F-1 foreign students' : 'FT',\n",
    "\n",
    "    'PT ' : 'PT',\n",
    "    'Part Time' : 'PT',\n",
    "    'Part-Time' : 'PT',\n",
    "    'PART' : 'PT',\n",
    "    'HT' : 'PT',\n",
    "    'HALF' : 'PT',\n",
    "    'P' : 'PT',\n",
    "\n",
    "    'nan' : 'UK',\n",
    "    'FP' : 'UK',\n",
    "    'FN' : 'UK',\n",
    "    'D' : 'UK',\n",
    "    'E' : 'UK',\n",
    "    'S' : 'UK',\n",
    "    'T' : 'UK',\n",
    "}\n",
    "\n",
    "map = lambda x: mapping[x] if x in mapping else x\n",
    "\n",
    "merged['full_time'] = merged['full_time'].apply(map)"
   ]
  },
  {
   "cell_type": "markdown",
   "metadata": {},
   "source": [
    "##### Fixing ```at_home```"
   ]
  },
  {
   "cell_type": "markdown",
   "metadata": {},
   "source": [
    "On the left side of the table there are all unique values from the ```at_home``` column, on the right side are the new values that the original values were mapped to\n",
    "\n",
    "<table style=\"width: max-content;\">\n",
    "    <tr>\n",
    "        <th style=\"text-align: left\">Original Value</th>\n",
    "        <th>New Value</th>\n",
    "    </tr>\n",
    "    <tr>\n",
    "        <td><code>At Home</code></td>\n",
    "        <td style=\"text-align: center\"><code>AH</code></td>\n",
    "    </tr>\n",
    "    <tr>\n",
    "        <td><code>Home</code></td>\n",
    "        <td style=\"text-align: center\"><code>AH</code></td>\n",
    "    </tr>\n",
    "    <tr>\n",
    "        <td><code>At-Home</code></td>\n",
    "        <td style=\"text-align: center\"><code>AH</code></td>\n",
    "    </tr>\n",
    "    <tr>\n",
    "        <td><code>at-home</code></td>\n",
    "        <td style=\"text-align: center\"><code>AH</code></td>\n",
    "    </tr>\n",
    "    <tr>\n",
    "        <td><code>At-home</code></td>\n",
    "        <td style=\"text-align: center\"><code>AH</code></td>\n",
    "    </tr>\n",
    "    <tr>\n",
    "        <td><code>Y</code></td>\n",
    "        <td style=\"text-align: center\"><code>AH</code></td>\n",
    "    </tr>\n",
    "    <tr>\n",
    "        <td><code>Not at Home</code></td>\n",
    "        <td style=\"text-align: center\"><code>NH</code></td>\n",
    "    </tr>\n",
    "    <tr>\n",
    "        <td><code>Not-at-Home</code></td>\n",
    "        <td style=\"text-align: center\"><code>NH</code></td>\n",
    "    </tr>\n",
    "    <tr>\n",
    "        <td><code>Not-At-Home</code></td>\n",
    "        <td style=\"text-align: center\"><code>NH</code></td>\n",
    "    </tr>\n",
    "    <tr>\n",
    "        <td><code>Not-at-Home&nbsp;</code></td>\n",
    "        <td style=\"text-align: center\"><code>NH</code></td>\n",
    "    </tr>\n",
    "    <tr>\n",
    "        <td><code>City of Boston off-campus not-at-home (formally referred to as Private Housing)</code></td>\n",
    "        <td style=\"text-align: center\"><code>NH</code></td>\n",
    "    </tr>\n",
    "    <tr>\n",
    "        <td><code>Private Housing</code></td>\n",
    "        <td style=\"text-align: center\"><code>NH</code></td>\n",
    "    </tr>\n",
    "    <tr>\n",
    "        <td><code>Not At Home</code></td>\n",
    "        <td style=\"text-align: center\"><code>NH</code></td>\n",
    "    </tr>\n",
    "    <tr>\n",
    "        <td><code>Not-at-home</code></td>\n",
    "        <td style=\"text-align: center\"><code>NH</code></td>\n",
    "    </tr>\n",
    "    <tr>\n",
    "        <td><code>not-at-home</code></td>\n",
    "        <td style=\"text-align: center\"><code>NH</code></td>\n",
    "    </tr>\n",
    "    <tr>\n",
    "        <td><code>Not at home</code></td>\n",
    "        <td style=\"text-align: center\"><code>NH</code></td>\n",
    "    </tr>\n",
    "    <tr>\n",
    "        <td><code>Not-at-Hhome</code></td>\n",
    "        <td style=\"text-align: center\"><code>NH</code></td>\n",
    "    </tr>\n",
    "    <tr>\n",
    "        <td><code>N</code></td>\n",
    "        <td style=\"text-align: center\"><code>NH</code></td>\n",
    "    </tr>\n",
    "    <tr>\n",
    "        <td><code>Private</code></td>\n",
    "        <td style=\"text-align: center\"><code>NH</code></td>\n",
    "    </tr>\n",
    "    <tr>\n",
    "        <td><code>Oblate Seminary</code></td>\n",
    "        <td style=\"text-align: center\"><code>UK</code></td>\n",
    "    </tr>\n",
    "    <tr>\n",
    "        <td><code>Fransiscan Seminary</code></td>\n",
    "        <td style=\"text-align: center\"><code>UK</code></td>\n",
    "    </tr>\n",
    "    <tr>\n",
    "        <td><code>Carmelite Seminary</code></td>\n",
    "        <td style=\"text-align: center\"><code>UK</code></td>\n",
    "    </tr>\n",
    "    <tr>\n",
    "        <td><code>&nbsp;</code></td>\n",
    "        <td style=\"text-align: center\"><code>UK</code></td>\n",
    "    </tr>\n",
    "    <tr>\n",
    "        <td><code>nan</code></td>\n",
    "        <td style=\"text-align: center\"><code>UK</code></td>\n",
    "    </tr>\n",
    "</table>"
   ]
  },
  {
   "cell_type": "code",
   "execution_count": 197,
   "metadata": {},
   "outputs": [],
   "source": [
    "mapping = {\n",
    "    'At Home' : 'AH',\n",
    "    'Home' : 'AH',\n",
    "    'At-Home' : 'AH',\n",
    "    'at-home' : 'AH',\n",
    "    'At-home' : 'AH',\n",
    "    'Y' : 'AH',\n",
    "\n",
    "    'Not at Home' : 'NH',\n",
    "    'Not-at-Home' : 'NH',\n",
    "    'Not-At-Home' : 'NH',\n",
    "    'Not-at-Home' : 'NH',\n",
    "    'City of Boston off-campus not-at-home (formally referred to as Private Housing)' : 'NH',\n",
    "    'Private Housing' : 'NH',\n",
    "    'Not At Home' : 'NH',\n",
    "    'Not-at-home' : 'NH',\n",
    "    'not-at-home' : 'NH',\n",
    "    'Not at home' : 'NH',\n",
    "    'Not-at-Hhome' : 'NH',\n",
    "    'Not-at-Home ' : 'NH',\n",
    "    'N' : 'NH',\n",
    "    'Private' : 'NH',\n",
    "\n",
    "    'nan' : 'UK',\n",
    "    'Oblate Seminary' : 'UK',\n",
    "    'Fransiscan Seminary' : 'UK',\n",
    "    'Carmelite Seminary' : 'UK',\n",
    "    ' ' : 'UK'\n",
    "}\n",
    "\n",
    "map = lambda x: mapping[x] if x in mapping else x\n",
    "\n",
    "merged['at_home'] = merged['at_home'].apply(map)"
   ]
  },
  {
   "cell_type": "code",
   "execution_count": 198,
   "metadata": {},
   "outputs": [
    {
     "data": {
      "text/plain": [
       "array(['NH', 'AH', 'UK'], dtype=object)"
      ]
     },
     "execution_count": 198,
     "metadata": {},
     "output_type": "execute_result"
    }
   ],
   "source": [
    "merged['at_home'].unique()"
   ]
  },
  {
   "cell_type": "markdown",
   "metadata": {},
   "source": [
    "##### Fixing ```extra_large_unit```"
   ]
  },
  {
   "cell_type": "markdown",
   "metadata": {},
   "source": [
    "On the left side of the table there are all unique values from the ```extra_large_unit``` column, on the right side are the new values that the original values were mapped to\n",
    "\n",
    "<table style=\"width: max-content;\">\n",
    "    <tr>\n",
    "        <th style=\"text-align: left\">Original Value</th>\n",
    "        <th>New Value</th>\n",
    "    </tr>\n",
    "    <tr>\n",
    "        <td><code>Y</code></td>\n",
    "        <td style=\"text-align: center\"><code>Y</code></td>\n",
    "    </tr><tr>\n",
    "        <td><code>YES</code></td>\n",
    "        <td style=\"text-align: center\"><code>Y</code></td>\n",
    "    </tr>\n",
    "    <tr>\n",
    "        <td><code>y</code></td>\n",
    "        <td style=\"text-align: center\"><code>Y</code></td>\n",
    "    </tr>\n",
    "    <tr>\n",
    "        <td><code>N</code></td>\n",
    "        <td style=\"text-align: center\"><code>N</code></td>\n",
    "    </tr>\n",
    "    <tr>\n",
    "        <td><code>n</code></td>\n",
    "        <td style=\"text-align: center\"><code>N</code></td>\n",
    "    </tr>\n",
    "    <tr>\n",
    "        <td><code>N&nbsp;</code></td>\n",
    "        <td style=\"text-align: center\"><code>N</code></td>\n",
    "    </tr>\n",
    "    <tr>\n",
    "        <td><code>No</code></td>\n",
    "        <td style=\"text-align: center\"><code>N</code></td>\n",
    "    </tr>\n",
    "    <tr>\n",
    "        <td><code>NO</code></td>\n",
    "        <td style=\"text-align: center\"><code>N</code></td>\n",
    "    </tr>\n",
    "    <tr>\n",
    "        <td><code>do not know</code></td>\n",
    "        <td style=\"text-align: center\"><code>UK</code></td>\n",
    "    </tr>\n",
    "    <tr>\n",
    "        <td><code>*</code></td>\n",
    "        <td style=\"text-align: center\"><code>UK</code></td>\n",
    "    </tr>\n",
    "    <tr>\n",
    "        <td><code>*&nbsp;</code></td>\n",
    "        <td style=\"text-align: center\"><code>UK</code></td>\n",
    "    </tr>\n",
    "    <tr>\n",
    "        <td><code>nan</code></td>\n",
    "        <td style=\"text-align: center\"><code>UK</code></td>\n",
    "    </tr>\n",
    "</table>"
   ]
  },
  {
   "cell_type": "code",
   "execution_count": 199,
   "metadata": {},
   "outputs": [],
   "source": [
    "mapping = {\n",
    "    'YES' : 'Y',\n",
    "    'y' : 'Y',\n",
    "\n",
    "    'n' : 'N',\n",
    "    'N ' : 'N',\n",
    "    'No' : 'N',\n",
    "    'NO' : 'N',\n",
    "\n",
    "    'do not know' : 'UK',\n",
    "    '* ' : 'UK',\n",
    "    '*' : 'UK',\n",
    "    'nan' : 'UK'\n",
    "}\n",
    "\n",
    "map = lambda x: mapping[x] if x in mapping else x\n",
    "\n",
    "merged['extra_large_unit'] = merged['extra_large_unit'].apply(map)"
   ]
  },
  {
   "cell_type": "markdown",
   "metadata": {},
   "source": [
    "##### Cleaning the Rest of ```level_of_study``` and ```full_time```"
   ]
  },
  {
   "cell_type": "markdown",
   "metadata": {},
   "source": [
    "The reason we left it for the end is that these odd values in ```level_of_study``` and ```full_time``` are correlated. "
   ]
  },
  {
   "cell_type": "code",
   "execution_count": 200,
   "metadata": {},
   "outputs": [],
   "source": [
    "grouped = merged.groupby(['level_of_study', 'full_time']).indices\n",
    "combinations = {}\n",
    "\n",
    "for combination, indexes in grouped.items():\n",
    "    combinations[combination] = {'count': len(indexes), 'indexes': [int(index) for index in list(indexes)]}\n"
   ]
  },
  {
   "cell_type": "code",
   "execution_count": 201,
   "metadata": {},
   "outputs": [
    {
     "name": "stdout",
     "output_type": "stream",
     "text": [
      "Combination: ('3 UG; 5 G', 'all FT')\n",
      "Count: 1\n",
      "Indexes: [152659]\n",
      "\n",
      "\n",
      "Combination: ('Both', 'FT')\n",
      "Count: 1\n",
      "Indexes: [152641]\n",
      "\n",
      "\n",
      "Combination: ('Both', 'FT and PT')\n",
      "Count: 1\n",
      "Indexes: [152642]\n",
      "\n",
      "\n",
      "Combination: ('G and U', 'FT')\n",
      "Count: 1\n",
      "Indexes: [152670]\n",
      "\n",
      "\n",
      "Combination: ('G and UG', 'PT and FT')\n",
      "Count: 2\n",
      "Indexes: [152657, 152658]\n",
      "\n",
      "\n",
      "Combination: ('GR', 'FT and PT')\n",
      "Count: 4\n",
      "Indexes: [152645, 152675, 152676, 152677]\n",
      "\n",
      "\n",
      "Combination: ('U and G', 'FT')\n",
      "Count: 3\n",
      "Indexes: [152647, 152666, 152667]\n",
      "\n",
      "\n",
      "Combination: ('U and G', 'FT and PT')\n",
      "Count: 1\n",
      "Indexes: [152665]\n",
      "\n",
      "\n",
      "Combination: ('U and Graduate', 'FT')\n",
      "Count: 1\n",
      "Indexes: [152638]\n",
      "\n",
      "\n",
      "Combination: ('U and Graduate', 'FT and PT')\n",
      "Count: 1\n",
      "Indexes: [152640]\n",
      "\n",
      "\n"
     ]
    }
   ],
   "source": [
    "valid_combinations = [\n",
    "    ('UG', 'FT'),\n",
    "    ('UG', 'PT'),\n",
    "    ('UG', 'UK'),\n",
    "    ('GR', 'FT'),\n",
    "    ('GR', 'PT'),\n",
    "    ('GR', 'UK'),\n",
    "    ('UK', 'FT'),\n",
    "    ('UK', 'PT'),\n",
    "    ('UK', 'UK'),\n",
    "]\n",
    "\n",
    "for combination in valid_combinations:\n",
    "    if combination in combinations:\n",
    "        del combinations[combination]\n",
    "\n",
    "for combination in combinations:\n",
    "    combination_count = combinations[combination]['count']\n",
    "    combination_indexes = combinations[combination]['indexes']\n",
    "\n",
    "    print(f'Combination: {combination}')\n",
    "    print(f'Count: {combination_count}')\n",
    "    print(f'Indexes: {combination_indexes}')\n",
    "    print('\\n')"
   ]
  },
  {
   "cell_type": "markdown",
   "metadata": {},
   "source": [
    "As we can see, the first combination, ```('3 UG; 5 G', 'all FT')``` represents 8 data entries instead of 1. Therefore, we need to add 7 more entries that have the same values everywhere.\n",
    "\n",
    "Now, we will manually fix this issue, we will create an appropriate number of new entries, fill them with proper data, then delete the old ones."
   ]
  },
  {
   "cell_type": "code",
   "execution_count": 202,
   "metadata": {},
   "outputs": [],
   "source": [
    "new_values = pd.DataFrame(columns=merged.columns)\n",
    "# dict_keys([('3 UG; 5 G', 'all FT'), ('Both', 'FT'), ('Both', 'FT and PT'), ('G and U', 'FT'), ('G and UG', 'PT and FT'), ('GR', 'FT and PT'), ('U and G', 'FT'), ('U and G', 'FT and PT'), ('U and Graduate', 'FT'), ('U and Graduate', 'FT and PT'), ('UG', 'Full-time F-1 foreign students')])\n",
    "\n",
    "# ('3 UG; 5 G', 'all FT')\n",
    "indexes = combinations[('3 UG; 5 G', 'all FT')]['indexes']\n",
    "\n",
    "for index in indexes:\n",
    "    row = merged.iloc[index]\n",
    "\n",
    "    for i in range(3):\n",
    "        new_value = row.copy()\n",
    "        new_value['level_of_study'] = 'UG'\n",
    "        new_value['full_time'] = 'FT'\n",
    "        new_values.loc[len(new_values)] = new_value\n",
    "\n",
    "    for i in range(5):\n",
    "        new_value = row.copy()\n",
    "        new_value['level_of_study'] = 'GR'\n",
    "        new_value['full_time'] = 'FT'\n",
    "        new_values.loc[len(new_values)] = new_value\n",
    "\n",
    "\n",
    "# ('Both', 'FT')\n",
    "indexes = combinations[('Both', 'FT')]['indexes']\n",
    "\n",
    "for index in indexes:\n",
    "    row = merged.iloc[index]\n",
    "\n",
    "    new_value = row.copy()\n",
    "    new_value['level_of_study'] = 'UG'\n",
    "    new_value['full_time'] = 'FT'\n",
    "    new_values.loc[len(new_values)] = new_value\n",
    "\n",
    "    new_value = row.copy()\n",
    "    new_value['level_of_study'] = 'GR'\n",
    "    new_value['full_time'] = 'FT'\n",
    "    new_values.loc[len(new_values)] = new_value\n",
    "\n",
    "# ('Both', 'FT and PT')\n",
    "\n",
    "indexes = combinations[('Both', 'FT and PT')]['indexes']\n",
    "\n",
    "for index in indexes:\n",
    "    row = merged.iloc[index]\n",
    "\n",
    "    new_value = row.copy()\n",
    "    new_value['level_of_study'] = 'UG'\n",
    "    new_value['full_time'] = 'FT'\n",
    "    new_values.loc[len(new_values)] = new_value\n",
    "\n",
    "    new_value = row.copy()\n",
    "    new_value['level_of_study'] = 'GR'\n",
    "    new_value['full_time'] = 'PT'\n",
    "    new_values.loc[len(new_values)] = new_value\n",
    "\n",
    "# ('G and U', 'FT')\n",
    "\n",
    "indexes = combinations[('G and U', 'FT')]['indexes']\n",
    "\n",
    "for index in indexes:\n",
    "    row = merged.iloc[index]\n",
    "\n",
    "    new_value = row.copy()\n",
    "    new_value['level_of_study'] = 'UG'\n",
    "    new_value['full_time'] = 'FT'\n",
    "    new_values.loc[len(new_values)] = new_value\n",
    "\n",
    "    new_value = row.copy()\n",
    "    new_value['level_of_study'] = 'GR'\n",
    "    new_value['full_time'] = 'FT'\n",
    "    new_values.loc[len(new_values)] = new_value\n",
    "\n",
    "# ('G and UG', 'PT and FT')\n",
    "\n",
    "indexes = combinations[('G and UG', 'PT and FT')]['indexes']\n",
    "\n",
    "for index in indexes:\n",
    "    row = merged.iloc[index]\n",
    "\n",
    "    new_value = row.copy()\n",
    "    new_value['level_of_study'] = 'UG'\n",
    "    new_value['full_time'] = 'PT'\n",
    "    new_values.loc[len(new_values)] = new_value\n",
    "\n",
    "    new_value = row.copy()\n",
    "    new_value['level_of_study'] = 'GR'\n",
    "    new_value['full_time'] = 'FT'\n",
    "    new_values.loc[len(new_values)] = new_value\n",
    "\n",
    "# ('GR', 'FT and PT')\n",
    "indexes = combinations[('GR', 'FT and PT')]['indexes']\n",
    "\n",
    "for index in indexes:\n",
    "    row = merged.iloc[index]\n",
    "\n",
    "    new_value = row.copy()\n",
    "    new_value['level_of_study'] = 'GR'\n",
    "    new_value['full_time'] = 'FT'\n",
    "    new_values.loc[len(new_values)] = new_value\n",
    "\n",
    "    new_value = row.copy()\n",
    "    new_value['level_of_study'] = 'GR'\n",
    "    new_value['full_time'] = 'PT'\n",
    "    new_values.loc[len(new_values)] = new_value\n",
    "\n",
    "# ('U and G', 'FT')\n",
    "indexes = combinations[('U and G', 'FT')]['indexes']\n",
    "\n",
    "for index in indexes:\n",
    "    row = merged.iloc[index]\n",
    "\n",
    "    new_value = row.copy()\n",
    "    new_value['level_of_study'] = 'UG'\n",
    "    new_value['full_time'] = 'FT'\n",
    "    new_values.loc[len(new_values)] = new_value\n",
    "\n",
    "    new_value = row.copy()\n",
    "    new_value['level_of_study'] = 'GR'\n",
    "    new_value['full_time'] = 'FT'\n",
    "    new_values.loc[len(new_values)] = new_value\n",
    "\n",
    "# ('U and G', 'FT and PT')\n",
    "indexes = combinations[('U and G', 'FT and PT')]['indexes']\n",
    "\n",
    "for index in indexes:\n",
    "    row = merged.iloc[index]\n",
    "\n",
    "    new_value = row.copy()\n",
    "    new_value['level_of_study'] = 'UG'\n",
    "    new_value['full_time'] = 'FT'\n",
    "    new_values.loc[len(new_values)] = new_value\n",
    "\n",
    "    new_value = row.copy()\n",
    "    new_value['level_of_study'] = 'GR'\n",
    "    new_value['full_time'] = 'PT'\n",
    "    new_values.loc[len(new_values)] = new_value\n",
    "\n",
    "# ('U and Graduate', 'FT')\n",
    "indexes = combinations[('U and Graduate', 'FT')]['indexes']\n",
    "\n",
    "for index in indexes:\n",
    "    row = merged.iloc[index]\n",
    "\n",
    "    new_value = row.copy()\n",
    "    new_value['level_of_study'] = 'UG'\n",
    "    new_value['full_time'] = 'FT'\n",
    "    new_values.loc[len(new_values)] = new_value\n",
    "\n",
    "    new_value = row.copy()\n",
    "    new_value['level_of_study'] = 'GR'\n",
    "    new_value['full_time'] = 'FT'\n",
    "    new_values.loc[len(new_values)] = new_value\n",
    "\n",
    "# ('U and Graduate', 'FT and PT')\n",
    "indexes = combinations[('U and Graduate', 'FT and PT')]['indexes']\n",
    "\n",
    "for index in indexes:\n",
    "    row = merged.iloc[index]\n",
    "\n",
    "    new_value = row.copy()\n",
    "    new_value['level_of_study'] = 'UG'\n",
    "    new_value['full_time'] = 'FT'\n",
    "    new_values.loc[len(new_values)] = new_value\n",
    "\n",
    "    new_value = row.copy()\n",
    "    new_value['level_of_study'] = 'GR'\n",
    "    new_value['full_time'] = 'PT'\n",
    "    new_values.loc[len(new_values)] = new_value"
   ]
  },
  {
   "cell_type": "markdown",
   "metadata": {},
   "source": [
    "Delete the original values from the merged dataset"
   ]
  },
  {
   "cell_type": "code",
   "execution_count": 206,
   "metadata": {},
   "outputs": [
    {
     "name": "stdout",
     "output_type": "stream",
     "text": [
      "Deleted 3 UG; 5 G all FT\n",
      "Deleted Both FT\n",
      "Deleted Both FT and PT\n",
      "Deleted G and U FT\n",
      "Deleted G and UG PT and FT\n",
      "Deleted GR FT and PT\n",
      "Deleted U and G FT\n",
      "Deleted U and G FT and PT\n",
      "Deleted U and Graduate FT\n",
      "Deleted U and Graduate FT and PT\n"
     ]
    }
   ],
   "source": [
    "# delete the occurances of the combinations in the merged dataframe\n",
    "\n",
    "for combination in combinations:\n",
    "    level_of_study = combination[0]\n",
    "    full_time = combination[1]\n",
    "\n",
    "    merged = merged[~((merged['level_of_study'] == level_of_study) & (merged['full_time'] == full_time))]\n",
    "    print(f'Deleted {level_of_study} {full_time}')"
   ]
  },
  {
   "cell_type": "markdown",
   "metadata": {},
   "source": [
    "Add the new values"
   ]
  },
  {
   "cell_type": "code",
   "execution_count": 207,
   "metadata": {},
   "outputs": [],
   "source": [
    "merged = pd.concat([merged, new_values])"
   ]
  },
  {
   "cell_type": "markdown",
   "metadata": {},
   "source": [
    "##### Cleaning Null Values"
   ]
  },
  {
   "cell_type": "markdown",
   "metadata": {},
   "source": [
    "If an entry is missing ```street_name``` or ```street_number``` it becomes unusable, therefore, if there are any entries like that, we will remove them"
   ]
  },
  {
   "cell_type": "code",
   "execution_count": 210,
   "metadata": {},
   "outputs": [],
   "source": [
    "# If an entry is missing ```street_name``` or ```street_number``` it becomes unusable, therefore, if there are any entries like that, we will remove them\n",
    "# it can be empty string or 'nan'\n",
    "merged = merged[~((merged['street_name'] == '') | (merged['street_number'] == ''))]\n",
    "merged = merged[~((merged['street_name'] == 'nan') | (merged['street_number'] == 'nan'))]\n",
    "merged = merged[~((merged['street_name'].isna()) | (merged['street_number'].isna()))]"
   ]
  },
  {
   "cell_type": "markdown",
   "metadata": {},
   "source": [
    "Fill the rest of the null values in ```street_suffix``` and ```unit_number``` with empty string"
   ]
  },
  {
   "cell_type": "code",
   "execution_count": 212,
   "metadata": {},
   "outputs": [],
   "source": [
    "# Fill the rest of the null values in ```street_suffix``` and ```unit_number``` with empty string\n",
    "merged['street_suffix'] = merged['street_suffix'].fillna('')\n",
    "merged['unit_number'] = merged['unit_number'].fillna('')"
   ]
  },
  {
   "cell_type": "code",
   "execution_count": 214,
   "metadata": {},
   "outputs": [
    {
     "name": "stdout",
     "output_type": "stream",
     "text": [
      "<class 'pandas.core.frame.DataFrame'>\n",
      "Index: 316253 entries, 0 to 37\n",
      "Data columns (total 11 columns):\n",
      " #   Column            Non-Null Count   Dtype \n",
      "---  ------            --------------   ----- \n",
      " 0   street_number     316253 non-null  object\n",
      " 1   street_name       316253 non-null  object\n",
      " 2   street_suffix     316253 non-null  object\n",
      " 3   unit_number       316253 non-null  object\n",
      " 4   zip_code          316253 non-null  object\n",
      " 5   level_of_study    316253 non-null  object\n",
      " 6   full_time         316253 non-null  object\n",
      " 7   extra_large_unit  316253 non-null  object\n",
      " 8   at_home           316253 non-null  object\n",
      " 9   university        316253 non-null  object\n",
      " 10  year              316253 non-null  object\n",
      "dtypes: object(11)\n",
      "memory usage: 29.0+ MB\n"
     ]
    }
   ],
   "source": [
    "merged.info()"
   ]
  },
  {
   "cell_type": "markdown",
   "metadata": {},
   "source": [
    "Since we got rid of all the null values, we are done with cleaning, for now."
   ]
  },
  {
   "cell_type": "markdown",
   "metadata": {},
   "source": [
    "## Save the Result"
   ]
  },
  {
   "cell_type": "code",
   "execution_count": 215,
   "metadata": {},
   "outputs": [],
   "source": [
    "merged.to_csv('../data/student_adresses.csv')"
   ]
  }
 ],
 "metadata": {
  "kernelspec": {
   "display_name": "Python 3",
   "language": "python",
   "name": "python3"
  },
  "language_info": {
   "codemirror_mode": {
    "name": "ipython",
    "version": 3
   },
   "file_extension": ".py",
   "mimetype": "text/x-python",
   "name": "python",
   "nbconvert_exporter": "python",
   "pygments_lexer": "ipython3",
   "version": "3.12.6"
  }
 },
 "nbformat": 4,
 "nbformat_minor": 2
}
