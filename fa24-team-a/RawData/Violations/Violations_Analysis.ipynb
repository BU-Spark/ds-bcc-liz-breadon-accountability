{
 "cells": [
  {
   "cell_type": "code",
   "execution_count": 1,
   "id": "8a0d3236-ec06-4415-8ad6-02ac97f826ef",
   "metadata": {},
   "outputs": [],
   "source": [
    "import pandas as pd"
   ]
  },
  {
   "cell_type": "code",
   "execution_count": 2,
   "id": "56745b77-f64b-433b-8f2f-bb0b8b159471",
   "metadata": {},
   "outputs": [],
   "source": [
    "import numpy as np"
   ]
  },
  {
   "cell_type": "code",
   "execution_count": 5,
   "id": "856ca43a-6ebb-48ee-9c95-9b77a296dfd5",
   "metadata": {},
   "outputs": [],
   "source": [
    "import matplotlib.pyplot as plt\n",
    "import seaborn as sns"
   ]
  },
  {
   "cell_type": "code",
   "execution_count": 36,
   "id": "e9c92c47-68f4-43b6-b2bb-15eb01d8439a",
   "metadata": {},
   "outputs": [],
   "source": [
    "df = pd.read_csv(\"tmp7t_tskec.csv\")"
   ]
  },
  {
   "cell_type": "code",
   "execution_count": 37,
   "id": "4cced340-f6ae-4ab8-8db7-fb5aca3b423e",
   "metadata": {},
   "outputs": [
    {
     "data": {
      "text/html": [
       "<div>\n",
       "<style scoped>\n",
       "    .dataframe tbody tr th:only-of-type {\n",
       "        vertical-align: middle;\n",
       "    }\n",
       "\n",
       "    .dataframe tbody tr th {\n",
       "        vertical-align: top;\n",
       "    }\n",
       "\n",
       "    .dataframe thead th {\n",
       "        text-align: right;\n",
       "    }\n",
       "</style>\n",
       "<table border=\"1\" class=\"dataframe\">\n",
       "  <thead>\n",
       "    <tr style=\"text-align: right;\">\n",
       "      <th></th>\n",
       "      <th>case_no</th>\n",
       "      <th>ap_case_defn_key</th>\n",
       "      <th>status_dttm</th>\n",
       "      <th>status</th>\n",
       "      <th>code</th>\n",
       "      <th>value</th>\n",
       "      <th>description</th>\n",
       "      <th>violation_stno</th>\n",
       "      <th>violation_sthigh</th>\n",
       "      <th>violation_street</th>\n",
       "      <th>...</th>\n",
       "      <th>ward</th>\n",
       "      <th>contact_addr1</th>\n",
       "      <th>contact_addr2</th>\n",
       "      <th>contact_city</th>\n",
       "      <th>contact_state</th>\n",
       "      <th>contact_zip</th>\n",
       "      <th>sam_id</th>\n",
       "      <th>latitude</th>\n",
       "      <th>longitude</th>\n",
       "      <th>location</th>\n",
       "    </tr>\n",
       "  </thead>\n",
       "  <tbody>\n",
       "    <tr>\n",
       "      <th>0</th>\n",
       "      <td>V91983</td>\n",
       "      <td>1013</td>\n",
       "      <td>NaN</td>\n",
       "      <td>Closed</td>\n",
       "      <td>121.2</td>\n",
       "      <td>NaN</td>\n",
       "      <td>Unsafe and Dangerous</td>\n",
       "      <td>302</td>\n",
       "      <td>NaN</td>\n",
       "      <td>Sumner</td>\n",
       "      <td>...</td>\n",
       "      <td>01</td>\n",
       "      <td>302 Sumner St</td>\n",
       "      <td>NaN</td>\n",
       "      <td>East Boston</td>\n",
       "      <td>MA</td>\n",
       "      <td>02128</td>\n",
       "      <td>132380.0</td>\n",
       "      <td>42.367678</td>\n",
       "      <td>-71.036580</td>\n",
       "      <td>(42.367678491544524, -71.03658037747812)</td>\n",
       "    </tr>\n",
       "    <tr>\n",
       "      <th>1</th>\n",
       "      <td>V794280</td>\n",
       "      <td>1013</td>\n",
       "      <td>2024-10-18 10:50:49</td>\n",
       "      <td>Open</td>\n",
       "      <td>102.8</td>\n",
       "      <td>NaN</td>\n",
       "      <td>Maintenance</td>\n",
       "      <td>13</td>\n",
       "      <td>NaN</td>\n",
       "      <td>Hendry</td>\n",
       "      <td>...</td>\n",
       "      <td>15</td>\n",
       "      <td>23 MILFORD ST</td>\n",
       "      <td>NaN</td>\n",
       "      <td>BOSTON</td>\n",
       "      <td>MA</td>\n",
       "      <td>02118</td>\n",
       "      <td>72884.0</td>\n",
       "      <td>42.309240</td>\n",
       "      <td>-71.064701</td>\n",
       "      <td>(42.30923953226826, -71.06470057123856)</td>\n",
       "    </tr>\n",
       "    <tr>\n",
       "      <th>2</th>\n",
       "      <td>V794272</td>\n",
       "      <td>1013</td>\n",
       "      <td>2024-10-18 10:20:23</td>\n",
       "      <td>Open</td>\n",
       "      <td>105.1</td>\n",
       "      <td>NaN</td>\n",
       "      <td>Failure to Obtain Permit</td>\n",
       "      <td>263</td>\n",
       "      <td>265</td>\n",
       "      <td>Wood</td>\n",
       "      <td>...</td>\n",
       "      <td>18</td>\n",
       "      <td>264-266 WOOD AVE</td>\n",
       "      <td>NaN</td>\n",
       "      <td>HYDE PARK</td>\n",
       "      <td>MA</td>\n",
       "      <td>02136</td>\n",
       "      <td>151260.0</td>\n",
       "      <td>42.264805</td>\n",
       "      <td>-71.110236</td>\n",
       "      <td>(42.26480460114925, -71.11023577329959)</td>\n",
       "    </tr>\n",
       "    <tr>\n",
       "      <th>3</th>\n",
       "      <td>V794240</td>\n",
       "      <td>1013</td>\n",
       "      <td>2024-10-18 08:54:21</td>\n",
       "      <td>Open</td>\n",
       "      <td>105.1</td>\n",
       "      <td>NaN</td>\n",
       "      <td>Failure to Obtain Permit</td>\n",
       "      <td>1260</td>\n",
       "      <td>1278</td>\n",
       "      <td>Hyde Park</td>\n",
       "      <td>...</td>\n",
       "      <td>18</td>\n",
       "      <td>1340 CENTRE ST #101</td>\n",
       "      <td>NaN</td>\n",
       "      <td>NEWTON</td>\n",
       "      <td>MA</td>\n",
       "      <td>02459</td>\n",
       "      <td>166502.0</td>\n",
       "      <td>42.255631</td>\n",
       "      <td>-71.123821</td>\n",
       "      <td>(42.25563130518578, -71.12382083594244)</td>\n",
       "    </tr>\n",
       "    <tr>\n",
       "      <th>4</th>\n",
       "      <td>V794237</td>\n",
       "      <td>1013</td>\n",
       "      <td>2024-10-18 08:33:11</td>\n",
       "      <td>Open</td>\n",
       "      <td>3307.1</td>\n",
       "      <td>NaN</td>\n",
       "      <td>Protection of Adj. Property</td>\n",
       "      <td>117</td>\n",
       "      <td>NaN</td>\n",
       "      <td>Townsend</td>\n",
       "      <td>...</td>\n",
       "      <td>12</td>\n",
       "      <td>42 HOWELL ST</td>\n",
       "      <td>NaN</td>\n",
       "      <td>DORCHESTER</td>\n",
       "      <td>MA</td>\n",
       "      <td>02125</td>\n",
       "      <td>136415.0</td>\n",
       "      <td>42.317870</td>\n",
       "      <td>-71.089701</td>\n",
       "      <td>(42.31786956561833, -71.0897006077213)</td>\n",
       "    </tr>\n",
       "  </tbody>\n",
       "</table>\n",
       "<p>5 rows × 24 columns</p>\n",
       "</div>"
      ],
      "text/plain": [
       "   case_no  ap_case_defn_key          status_dttm  status    code  value  \\\n",
       "0   V91983              1013                  NaN  Closed   121.2    NaN   \n",
       "1  V794280              1013  2024-10-18 10:50:49    Open   102.8    NaN   \n",
       "2  V794272              1013  2024-10-18 10:20:23    Open   105.1    NaN   \n",
       "3  V794240              1013  2024-10-18 08:54:21    Open   105.1    NaN   \n",
       "4  V794237              1013  2024-10-18 08:33:11    Open  3307.1    NaN   \n",
       "\n",
       "                   description violation_stno violation_sthigh  \\\n",
       "0         Unsafe and Dangerous            302              NaN   \n",
       "1                  Maintenance             13              NaN   \n",
       "2     Failure to Obtain Permit            263              265   \n",
       "3     Failure to Obtain Permit           1260             1278   \n",
       "4  Protection of Adj. Property            117              NaN   \n",
       "\n",
       "  violation_street  ... ward        contact_addr1 contact_addr2 contact_city  \\\n",
       "0           Sumner  ...   01        302 Sumner St           NaN  East Boston   \n",
       "1           Hendry  ...   15        23 MILFORD ST           NaN       BOSTON   \n",
       "2             Wood  ...   18     264-266 WOOD AVE           NaN    HYDE PARK   \n",
       "3        Hyde Park  ...   18  1340 CENTRE ST #101           NaN       NEWTON   \n",
       "4         Townsend  ...   12         42 HOWELL ST           NaN   DORCHESTER   \n",
       "\n",
       "  contact_state contact_zip    sam_id   latitude  longitude  \\\n",
       "0            MA       02128  132380.0  42.367678 -71.036580   \n",
       "1            MA       02118   72884.0  42.309240 -71.064701   \n",
       "2            MA       02136  151260.0  42.264805 -71.110236   \n",
       "3            MA       02459  166502.0  42.255631 -71.123821   \n",
       "4            MA       02125  136415.0  42.317870 -71.089701   \n",
       "\n",
       "                                   location  \n",
       "0  (42.367678491544524, -71.03658037747812)  \n",
       "1   (42.30923953226826, -71.06470057123856)  \n",
       "2   (42.26480460114925, -71.11023577329959)  \n",
       "3   (42.25563130518578, -71.12382083594244)  \n",
       "4    (42.31786956561833, -71.0897006077213)  \n",
       "\n",
       "[5 rows x 24 columns]"
      ]
     },
     "execution_count": 37,
     "metadata": {},
     "output_type": "execute_result"
    }
   ],
   "source": [
    "df.head()"
   ]
  },
  {
   "cell_type": "code",
   "execution_count": 29,
   "id": "35364ac2-f125-4a8b-bc19-2d9b52697893",
   "metadata": {},
   "outputs": [
    {
     "data": {
      "text/plain": [
       "1434"
      ]
     },
     "execution_count": 29,
     "metadata": {},
     "output_type": "execute_result"
    }
   ],
   "source": [
    "len(df[\"contact_zip\"].unique())"
   ]
  },
  {
   "cell_type": "code",
   "execution_count": 28,
   "id": "8317335a-d957-42a4-9341-9a67f25f2f4c",
   "metadata": {},
   "outputs": [
    {
     "data": {
      "text/plain": [
       "contact_zip\n",
       "02128         1140\n",
       "02124          932\n",
       "02125          642\n",
       "02127          591\n",
       "02136          589\n",
       "              ... \n",
       "02121-2012       1\n",
       "02124-1615       1\n",
       "02176-1744       1\n",
       "02130-3301       1\n",
       "02169-7318       1\n",
       "Name: count, Length: 1433, dtype: int64"
      ]
     },
     "execution_count": 28,
     "metadata": {},
     "output_type": "execute_result"
    }
   ],
   "source": [
    "df[\"contact_zip\"].value_counts()"
   ]
  },
  {
   "cell_type": "code",
   "execution_count": 38,
   "id": "1aab8716-d12f-4171-a52a-f038bfa26da2",
   "metadata": {},
   "outputs": [],
   "source": [
    "def fix_zip(zip):\n",
    "    try:\n",
    "        zip = str(zip)\n",
    "        zip = zip.split(\"-\")[0]\n",
    "    except:\n",
    "        return zip\n",
    "    return zip"
   ]
  },
  {
   "cell_type": "code",
   "execution_count": 39,
   "id": "fd5fb6c2-c269-4e65-9fa1-1cac034631a4",
   "metadata": {},
   "outputs": [],
   "source": [
    "df[\"contact_zip\"] = df[\"contact_zip\"].apply(fix_zip)"
   ]
  },
  {
   "cell_type": "code",
   "execution_count": 40,
   "id": "00f67d41-d2cf-4c11-bddb-7e13c22a18ab",
   "metadata": {},
   "outputs": [
    {
     "data": {
      "text/plain": [
       "contact_zip\n",
       "02128     1193\n",
       "02124      985\n",
       "02125      669\n",
       "02136      622\n",
       "02127      618\n",
       "          ... \n",
       "07042        1\n",
       "0215         1\n",
       "02305        1\n",
       "012124       1\n",
       "92024        1\n",
       "Name: count, Length: 771, dtype: int64"
      ]
     },
     "execution_count": 40,
     "metadata": {},
     "output_type": "execute_result"
    }
   ],
   "source": [
    "df[\"contact_zip\"].value_counts()"
   ]
  },
  {
   "cell_type": "code",
   "execution_count": null,
   "id": "a2250395-fb4a-4adb-985b-97bef0c1b601",
   "metadata": {},
   "outputs": [],
   "source": [
    "df[\"contact_zip\"]"
   ]
  }
 ],
 "metadata": {
  "kernelspec": {
   "display_name": "Python 3 (ipykernel)",
   "language": "python",
   "name": "python3"
  },
  "language_info": {
   "codemirror_mode": {
    "name": "ipython",
    "version": 3
   },
   "file_extension": ".py",
   "mimetype": "text/x-python",
   "name": "python",
   "nbconvert_exporter": "python",
   "pygments_lexer": "ipython3",
   "version": "3.12.5"
  }
 },
 "nbformat": 4,
 "nbformat_minor": 5
}
