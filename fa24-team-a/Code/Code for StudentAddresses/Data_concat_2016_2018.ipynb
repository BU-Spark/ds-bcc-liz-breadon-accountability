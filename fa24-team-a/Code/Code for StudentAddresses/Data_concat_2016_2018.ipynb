{
 "cells": [
  {
   "cell_type": "code",
   "execution_count": 4,
   "id": "fd427dbb-ebaa-482f-8965-77e406c08bda",
   "metadata": {},
   "outputs": [
    {
     "name": "stdout",
     "output_type": "stream",
     "text": [
      "Collecting openpyxl\n",
      "  Downloading openpyxl-3.1.5-py2.py3-none-any.whl.metadata (2.5 kB)\n",
      "Collecting et-xmlfile (from openpyxl)\n",
      "  Downloading et_xmlfile-1.1.0-py3-none-any.whl.metadata (1.8 kB)\n",
      "Downloading openpyxl-3.1.5-py2.py3-none-any.whl (250 kB)\n",
      "Downloading et_xmlfile-1.1.0-py3-none-any.whl (4.7 kB)\n",
      "Installing collected packages: et-xmlfile, openpyxl\n",
      "Successfully installed et-xmlfile-1.1.0 openpyxl-3.1.5\n"
     ]
    }
   ],
   "source": [
    "!pip install openpyxl"
   ]
  },
  {
   "cell_type": "code",
   "execution_count": 5,
   "id": "cae13160-a1bf-42bc-8212-5ddd8e7ccb7b",
   "metadata": {},
   "outputs": [],
   "source": [
    "import pandas as pd"
   ]
  },
  {
   "cell_type": "code",
   "execution_count": 8,
   "id": "70a391f9-7410-4715-aab1-e5d546d6b5c3",
   "metadata": {},
   "outputs": [],
   "source": [
    "df = pd.read_excel('2016-2017 School Year Reports/Bay State College.xlsx',sheet_name='Student Addresses',skiprows=2)"
   ]
  },
  {
   "cell_type": "code",
   "execution_count": 9,
   "id": "878bf344-42d0-4b44-b26a-251eec5d69ea",
   "metadata": {},
   "outputs": [
    {
     "data": {
      "text/html": [
       "<div>\n",
       "<style scoped>\n",
       "    .dataframe tbody tr th:only-of-type {\n",
       "        vertical-align: middle;\n",
       "    }\n",
       "\n",
       "    .dataframe tbody tr th {\n",
       "        vertical-align: top;\n",
       "    }\n",
       "\n",
       "    .dataframe thead th {\n",
       "        text-align: right;\n",
       "    }\n",
       "</style>\n",
       "<table border=\"1\" class=\"dataframe\">\n",
       "  <thead>\n",
       "    <tr style=\"text-align: right;\">\n",
       "      <th></th>\n",
       "      <th>6a. \\nStreet #</th>\n",
       "      <th>6b. \\nStreet Name</th>\n",
       "      <th>6c. \\nStreet Suffix</th>\n",
       "      <th>6d.\\n Unit #</th>\n",
       "      <th>6e. \\nZip</th>\n",
       "      <th>7. \\nUndergraduate (U) or Graduate (G)</th>\n",
       "      <th>8. \\nFull-time (FT) or \\nPart-time (PT)</th>\n",
       "      <th>9. \\n 5 or More Undergrads/Unit\\n(Y/N)</th>\n",
       "    </tr>\n",
       "  </thead>\n",
       "  <tbody>\n",
       "    <tr>\n",
       "      <th>0</th>\n",
       "      <td>45</td>\n",
       "      <td>Province</td>\n",
       "      <td>Street</td>\n",
       "      <td>1106</td>\n",
       "      <td>02108</td>\n",
       "      <td>U</td>\n",
       "      <td>FT</td>\n",
       "      <td>N</td>\n",
       "    </tr>\n",
       "    <tr>\n",
       "      <th>1</th>\n",
       "      <td>48</td>\n",
       "      <td>Richfield</td>\n",
       "      <td>Street</td>\n",
       "      <td>NaN</td>\n",
       "      <td>02125</td>\n",
       "      <td>U</td>\n",
       "      <td>FT</td>\n",
       "      <td>N</td>\n",
       "    </tr>\n",
       "    <tr>\n",
       "      <th>2</th>\n",
       "      <td>40</td>\n",
       "      <td>Langdon</td>\n",
       "      <td>Street</td>\n",
       "      <td>NaN</td>\n",
       "      <td>02119</td>\n",
       "      <td>U</td>\n",
       "      <td>FT</td>\n",
       "      <td>N</td>\n",
       "    </tr>\n",
       "    <tr>\n",
       "      <th>3</th>\n",
       "      <td>42</td>\n",
       "      <td>Langdon</td>\n",
       "      <td>Street</td>\n",
       "      <td>NaN</td>\n",
       "      <td>02119</td>\n",
       "      <td>U</td>\n",
       "      <td>FT</td>\n",
       "      <td>N</td>\n",
       "    </tr>\n",
       "    <tr>\n",
       "      <th>4</th>\n",
       "      <td>59</td>\n",
       "      <td>B Street</td>\n",
       "      <td>Street</td>\n",
       "      <td>3015</td>\n",
       "      <td>02127</td>\n",
       "      <td>U</td>\n",
       "      <td>FT</td>\n",
       "      <td>N</td>\n",
       "    </tr>\n",
       "  </tbody>\n",
       "</table>\n",
       "</div>"
      ],
      "text/plain": [
       "  6a. \\nStreet # 6b. \\nStreet Name 6c. \\nStreet Suffix   6d.\\n Unit #  \\\n",
       "0             45         Province                 Street         1106   \n",
       "1             48        Richfield                 Street          NaN   \n",
       "2             40           Langdon                Street          NaN   \n",
       "3             42           Langdon                Street          NaN   \n",
       "4             59          B Street                Street         3015   \n",
       "\n",
       "    6e. \\nZip 7. \\nUndergraduate (U) or Graduate (G)  \\\n",
       "0  02108                                           U   \n",
       "1  02125                                           U   \n",
       "2  02119                                           U   \n",
       "3  02119                                           U   \n",
       "4  02127                                           U   \n",
       "\n",
       "  8. \\nFull-time (FT) or \\nPart-time (PT)  \\\n",
       "0                                      FT   \n",
       "1                                      FT   \n",
       "2                                      FT   \n",
       "3                                      FT   \n",
       "4                                      FT   \n",
       "\n",
       "  9. \\n 5 or More Undergrads/Unit\\n(Y/N)  \n",
       "0                                      N  \n",
       "1                                      N  \n",
       "2                                      N  \n",
       "3                                      N  \n",
       "4                                      N  "
      ]
     },
     "execution_count": 9,
     "metadata": {},
     "output_type": "execute_result"
    }
   ],
   "source": [
    "df.head()"
   ]
  },
  {
   "cell_type": "code",
   "execution_count": 10,
   "id": "f5043ba5-b8e9-4843-b3a5-944bdd2b6699",
   "metadata": {},
   "outputs": [],
   "source": [
    "import os"
   ]
  },
  {
   "cell_type": "code",
   "execution_count": 11,
   "id": "a57e892f-1938-4312-829c-7ba26fe0babb",
   "metadata": {},
   "outputs": [
    {
     "data": {
      "text/plain": [
       "31"
      ]
     },
     "execution_count": 11,
     "metadata": {},
     "output_type": "execute_result"
    }
   ],
   "source": [
    "list_files = os.listdir('./2016-2017 School Year Reports')\n",
    "len(list_files)"
   ]
  },
  {
   "cell_type": "code",
   "execution_count": 13,
   "id": "9e0a086f-f138-4bf0-b6b7-f9941637cda6",
   "metadata": {},
   "outputs": [],
   "source": [
    "folders = ['2016-2017 School Year Reports','2017-2018 School Year Reports']"
   ]
  },
  {
   "cell_type": "code",
   "execution_count": 35,
   "id": "48ccc758-7d87-4ad6-9fe8-47a5ba8560ff",
   "metadata": {},
   "outputs": [
    {
     "name": "stdout",
     "output_type": "stream",
     "text": [
      "2016-2017 School Year Reports/Bay State College.xlsx\n",
      "2016-2017 School Year Reports/Berklee College of Music.xlsx\n"
     ]
    },
    {
     "name": "stderr",
     "output_type": "stream",
     "text": [
      "C:\\Users\\adity\\AppData\\Local\\Programs\\Python\\Python312\\Lib\\site-packages\\openpyxl\\worksheet\\_reader.py:329: UserWarning: Unknown extension is not supported and will be removed\n",
      "  warn(msg)\n"
     ]
    },
    {
     "name": "stdout",
     "output_type": "stream",
     "text": [
      "2016-2017 School Year Reports/Boston Architectural College.xlsx\n",
      "2016-2017 School Year Reports/Boston Baptist College.xlsx\n",
      "2016-2017 School Year Reports/Boston College, WCAS.xlsx\n",
      "2016-2017 School Year Reports/Boston College.xlsx\n",
      "2016-2017 School Year Reports/Boston Conservatory at Berklee.xlsx\n",
      "2016-2017 School Year Reports/Boston University.xlsx\n"
     ]
    },
    {
     "name": "stderr",
     "output_type": "stream",
     "text": [
      "C:\\Users\\adity\\AppData\\Local\\Programs\\Python\\Python312\\Lib\\site-packages\\openpyxl\\reader\\workbook.py:118: UserWarning: Print area cannot be set to Defined name: 'Summary Stats'!$1:$31.\n",
      "  warn(f\"Print area cannot be set to Defined name: {defn.value}.\")\n"
     ]
    },
    {
     "name": "stdout",
     "output_type": "stream",
     "text": [
      "2016-2017 School Year Reports/Emerson College.xlsx\n",
      "2016-2017 School Year Reports/Emmanuel College.xlsx\n",
      "2016-2017 School Year Reports/Fisher College.xlsx\n",
      "2016-2017 School Year Reports/Franklin Institute of Technology.xlsx\n",
      "2016-2017 School Year Reports/Harvard University.xlsx\n",
      "2016-2017 School Year Reports/MA College of Art and Design.xlsx\n",
      "2016-2017 School Year Reports/Massachusetts College of Pharmacy and Health Sciences.xlsx\n",
      "2016-2017 School Year Reports/Massachusetts Institute of Technology.xls\n",
      "2016-2017 School Year Reports/MGH Institute of Health Professions.xlsx\n",
      "2016-2017 School Year Reports/New England College of Optometry.xlsx\n",
      "2016-2017 School Year Reports/New England Conservatory.xlsx\n",
      "2016-2017 School Year Reports/New England Law.xlsx\n",
      "2016-2017 School Year Reports/Northeastern University Student Addresses.xlsx\n",
      "2016-2017 School Year Reports/Northeastern University.xlsx\n"
     ]
    },
    {
     "name": "stderr",
     "output_type": "stream",
     "text": [
      "C:\\Users\\adity\\AppData\\Local\\Programs\\Python\\Python312\\Lib\\site-packages\\openpyxl\\worksheet\\_reader.py:329: UserWarning: Unknown extension is not supported and will be removed\n",
      "  warn(msg)\n"
     ]
    },
    {
     "name": "stdout",
     "output_type": "stream",
     "text": [
      "2016-2017 School Year Reports/Preliminary Tufts University-SMFA.xlsx\n",
      "2016-2017 School Year Reports/SHOWA Boston Institute.xlsx\n",
      "2016-2017 School Year Reports/Simmons College.xlsx\n"
     ]
    },
    {
     "name": "stderr",
     "output_type": "stream",
     "text": [
      "C:\\Users\\adity\\AppData\\Local\\Programs\\Python\\Python312\\Lib\\site-packages\\openpyxl\\worksheet\\_reader.py:329: UserWarning: Unknown extension is not supported and will be removed\n",
      "  warn(msg)\n"
     ]
    },
    {
     "name": "stdout",
     "output_type": "stream",
     "text": [
      "2016-2017 School Year Reports/St. John's Seminary.xlsx\n",
      "2016-2017 School Year Reports/Suffolk University.xlsx\n",
      "2016-2017 School Year Reports/University of Massachusetts-Boston.xlsx\n",
      "2016-2017 School Year Reports/Urban College of Boston.xlsx\n",
      "2016-2017 School Year Reports/Wentworth Institute of Technology.xlsx\n",
      "2016-2017 School Year Reports/Wheelock College.xlsx\n",
      "2017-2018 School Year Reports/Bay State College.xlsx\n",
      "2017-2018 School Year Reports/Berklee College of Music.xlsx\n",
      "2017-2018 School Year Reports/Boston Architectural College.xlsx\n",
      "2017-2018 School Year Reports/Boston Baptist College.xlsx\n",
      "2017-2018 School Year Reports/Boston College.xlsx\n",
      "2017-2018 School Year Reports/Boston Conservatory at Berklee.xlsx\n",
      "2017-2018 School Year Reports/Boston University Updated Report 30Nov2017.xlsx\n",
      "2017-2018 School Year Reports/Boston University.xlsx\n",
      "2017-2018 School Year Reports/Emerson College.xlsx\n",
      "2017-2018 School Year Reports/Emmanuel College.xlsx\n",
      "2017-2018 School Year Reports/Fisher College.xlsx\n",
      "2017-2018 School Year Reports/Franklin Institute of Technology.xlsx\n",
      "2017-2018 School Year Reports/Harvard University.xlsx\n",
      "2017-2018 School Year Reports/Massachusettes College of Art and Design.xlsx\n",
      "2017-2018 School Year Reports/Massachusetts Institute of Technology.xlsx\n",
      "2017-2018 School Year Reports/MCPHHS University.xlsx\n",
      "2017-2018 School Year Reports/MGH Institute of Health Professions.xlsx\n",
      "2017-2018 School Year Reports/MIT UAR Fall 2017-update.xlsx\n",
      "2017-2018 School Year Reports/New England College of Optometry.xlsx\n",
      "2017-2018 School Year Reports/New England Conservatory.xlsx\n",
      "2017-2018 School Year Reports/New England Law Boston.xlsx\n",
      "2017-2018 School Year Reports/Northeastern University Street Addresses (2).xlsx\n",
      "2017-2018 School Year Reports/Northeastern University.xlsx\n"
     ]
    },
    {
     "name": "stderr",
     "output_type": "stream",
     "text": [
      "C:\\Users\\adity\\AppData\\Local\\Programs\\Python\\Python312\\Lib\\site-packages\\openpyxl\\worksheet\\_reader.py:329: UserWarning: Unknown extension is not supported and will be removed\n",
      "  warn(msg)\n"
     ]
    },
    {
     "name": "stdout",
     "output_type": "stream",
     "text": [
      "2017-2018 School Year Reports/SHOWA Boston Institute.xlsx\n",
      "2017-2018 School Year Reports/Simmons College.xlsx\n",
      "2017-2018 School Year Reports/St. John's Seminary.xlsx\n",
      "2017-2018 School Year Reports/Suffolk University.xlsx\n",
      "2017-2018 School Year Reports/Tufts University-SMFA.xlsx\n",
      "2017-2018 School Year Reports/University of Massachusetts-Boston.xlsx\n",
      "2017-2018 School Year Reports/Urban College of Boston.xlsx\n",
      "2017-2018 School Year Reports/Wentworth Institute of Technology.xlsx\n",
      "2017-2018 School Year Reports/Wheelock College.xlsx\n"
     ]
    }
   ],
   "source": [
    "df=pd.DataFrame()\n",
    "x=False\n",
    "outl=[]\n",
    "for i in folders:\n",
    "    list_files = os.listdir(f'./{i}')\n",
    "    for file in list_files:\n",
    "        print(f'{i}/{file}')\n",
    "        try:\n",
    "            temp = pd.read_excel(f'{i}/{file}',sheet_name='Student Addresses',skiprows=2)\n",
    "            temp['University'] = file.replace('.xlsx','')\n",
    "            temp['Year'] = i[0:9]\n",
    "            df = pd.concat([df,temp])\n",
    "        except:\n",
    "            outl+=[f'{i}/{file}']"
   ]
  },
  {
   "cell_type": "code",
   "execution_count": 36,
   "id": "d99a094b-fae3-4e97-bb2a-064a35641e8f",
   "metadata": {
    "scrolled": true
   },
   "outputs": [
    {
     "name": "stdout",
     "output_type": "stream",
     "text": [
      "['2016-2017 School Year Reports/Boston College, WCAS.xlsx', '2016-2017 School Year Reports/Massachusetts Institute of Technology.xls', '2016-2017 School Year Reports/Northeastern University Student Addresses.xlsx', '2017-2018 School Year Reports/Northeastern University Street Addresses (2).xlsx']\n"
     ]
    }
   ],
   "source": [
    "print(outl)"
   ]
  },
  {
   "cell_type": "code",
   "execution_count": 29,
   "id": "a30c4bc7-6f67-4cbd-a2ef-c90de355d016",
   "metadata": {},
   "outputs": [
    {
     "name": "stdout",
     "output_type": "stream",
     "text": [
      "<class 'pandas.core.frame.DataFrame'>\n",
      "Index: 64489 entries, 0 to 9\n",
      "Data columns (total 14 columns):\n",
      " #   Column                                 Non-Null Count  Dtype  \n",
      "---  ------                                 --------------  -----  \n",
      " 0   6a. \n",
      "Street #                          62367 non-null  object \n",
      " 1   6b. \n",
      "Street Name                       61154 non-null  object \n",
      " 2   6c. \n",
      "Street Suffix                     53076 non-null  object \n",
      " 3   6d.\n",
      " Unit #                            44009 non-null  object \n",
      " 4   6e. \n",
      "Zip                               64486 non-null  object \n",
      " 5   7. \n",
      "Undergraduate (U) or Graduate (G)  62894 non-null  object \n",
      " 6   8. \n",
      "Full-time (FT) or \n",
      "Part-time (PT)  64020 non-null  object \n",
      " 7   9. \n",
      " 5 or More Undergrads/Unit\n",
      "(Y/N)   57100 non-null  object \n",
      " 8   Unnamed: 8                             0 non-null      float64\n",
      " 9   Home address                           1750 non-null   object \n",
      " 10  Current address same as home address   583 non-null    object \n",
      " 11  SMFA student                           101 non-null    object \n",
      " 12  7. \n",
      "UnderGaduate (U) or Gaduate (G)    1595 non-null   object \n",
      " 13  8. \n",
      "FT-time (FT) or \n",
      "PT-time (PT)      469 non-null    object \n",
      "dtypes: float64(1), object(13)\n",
      "memory usage: 7.4+ MB\n"
     ]
    }
   ],
   "source": [
    "df.info()"
   ]
  },
  {
   "cell_type": "code",
   "execution_count": 37,
   "id": "a0b3411a-2eac-40e5-8b24-b50f235413f2",
   "metadata": {},
   "outputs": [
    {
     "data": {
      "text/html": [
       "<div>\n",
       "<style scoped>\n",
       "    .dataframe tbody tr th:only-of-type {\n",
       "        vertical-align: middle;\n",
       "    }\n",
       "\n",
       "    .dataframe tbody tr th {\n",
       "        vertical-align: top;\n",
       "    }\n",
       "\n",
       "    .dataframe thead th {\n",
       "        text-align: right;\n",
       "    }\n",
       "</style>\n",
       "<table border=\"1\" class=\"dataframe\">\n",
       "  <thead>\n",
       "    <tr style=\"text-align: right;\">\n",
       "      <th></th>\n",
       "      <th>6a. \\nStreet #</th>\n",
       "      <th>6b. \\nStreet Name</th>\n",
       "      <th>6c. \\nStreet Suffix</th>\n",
       "      <th>6d.\\n Unit #</th>\n",
       "      <th>6e. \\nZip</th>\n",
       "      <th>7. \\nUndergraduate (U) or Graduate (G)</th>\n",
       "      <th>8. \\nFull-time (FT) or \\nPart-time (PT)</th>\n",
       "      <th>9. \\n 5 or More Undergrads/Unit\\n(Y/N)</th>\n",
       "      <th>University</th>\n",
       "      <th>Year</th>\n",
       "      <th>Unnamed: 8</th>\n",
       "      <th>Home address</th>\n",
       "      <th>Current address same as home address</th>\n",
       "      <th>SMFA student</th>\n",
       "      <th>7. \\nUnderGaduate (U) or Gaduate (G)</th>\n",
       "      <th>8. \\nFT-time (FT) or \\nPT-time (PT)</th>\n",
       "    </tr>\n",
       "  </thead>\n",
       "  <tbody>\n",
       "    <tr>\n",
       "      <th>0</th>\n",
       "      <td>45</td>\n",
       "      <td>Province</td>\n",
       "      <td>Street</td>\n",
       "      <td>1106</td>\n",
       "      <td>02108</td>\n",
       "      <td>U</td>\n",
       "      <td>FT</td>\n",
       "      <td>N</td>\n",
       "      <td>Bay State College</td>\n",
       "      <td>2016-2017</td>\n",
       "      <td>NaN</td>\n",
       "      <td>NaN</td>\n",
       "      <td>NaN</td>\n",
       "      <td>NaN</td>\n",
       "      <td>NaN</td>\n",
       "      <td>NaN</td>\n",
       "    </tr>\n",
       "    <tr>\n",
       "      <th>1</th>\n",
       "      <td>48</td>\n",
       "      <td>Richfield</td>\n",
       "      <td>Street</td>\n",
       "      <td>NaN</td>\n",
       "      <td>02125</td>\n",
       "      <td>U</td>\n",
       "      <td>FT</td>\n",
       "      <td>N</td>\n",
       "      <td>Bay State College</td>\n",
       "      <td>2016-2017</td>\n",
       "      <td>NaN</td>\n",
       "      <td>NaN</td>\n",
       "      <td>NaN</td>\n",
       "      <td>NaN</td>\n",
       "      <td>NaN</td>\n",
       "      <td>NaN</td>\n",
       "    </tr>\n",
       "    <tr>\n",
       "      <th>2</th>\n",
       "      <td>40</td>\n",
       "      <td>Langdon</td>\n",
       "      <td>Street</td>\n",
       "      <td>NaN</td>\n",
       "      <td>02119</td>\n",
       "      <td>U</td>\n",
       "      <td>FT</td>\n",
       "      <td>N</td>\n",
       "      <td>Bay State College</td>\n",
       "      <td>2016-2017</td>\n",
       "      <td>NaN</td>\n",
       "      <td>NaN</td>\n",
       "      <td>NaN</td>\n",
       "      <td>NaN</td>\n",
       "      <td>NaN</td>\n",
       "      <td>NaN</td>\n",
       "    </tr>\n",
       "    <tr>\n",
       "      <th>3</th>\n",
       "      <td>42</td>\n",
       "      <td>Langdon</td>\n",
       "      <td>Street</td>\n",
       "      <td>NaN</td>\n",
       "      <td>02119</td>\n",
       "      <td>U</td>\n",
       "      <td>FT</td>\n",
       "      <td>N</td>\n",
       "      <td>Bay State College</td>\n",
       "      <td>2016-2017</td>\n",
       "      <td>NaN</td>\n",
       "      <td>NaN</td>\n",
       "      <td>NaN</td>\n",
       "      <td>NaN</td>\n",
       "      <td>NaN</td>\n",
       "      <td>NaN</td>\n",
       "    </tr>\n",
       "    <tr>\n",
       "      <th>4</th>\n",
       "      <td>59</td>\n",
       "      <td>B Street</td>\n",
       "      <td>Street</td>\n",
       "      <td>3015</td>\n",
       "      <td>02127</td>\n",
       "      <td>U</td>\n",
       "      <td>FT</td>\n",
       "      <td>N</td>\n",
       "      <td>Bay State College</td>\n",
       "      <td>2016-2017</td>\n",
       "      <td>NaN</td>\n",
       "      <td>NaN</td>\n",
       "      <td>NaN</td>\n",
       "      <td>NaN</td>\n",
       "      <td>NaN</td>\n",
       "      <td>NaN</td>\n",
       "    </tr>\n",
       "  </tbody>\n",
       "</table>\n",
       "</div>"
      ],
      "text/plain": [
       "  6a. \\nStreet # 6b. \\nStreet Name 6c. \\nStreet Suffix   6d.\\n Unit #  \\\n",
       "0             45         Province                 Street         1106   \n",
       "1             48        Richfield                 Street          NaN   \n",
       "2             40           Langdon                Street          NaN   \n",
       "3             42           Langdon                Street          NaN   \n",
       "4             59          B Street                Street         3015   \n",
       "\n",
       "    6e. \\nZip 7. \\nUndergraduate (U) or Graduate (G)  \\\n",
       "0  02108                                           U   \n",
       "1  02125                                           U   \n",
       "2  02119                                           U   \n",
       "3  02119                                           U   \n",
       "4  02127                                           U   \n",
       "\n",
       "  8. \\nFull-time (FT) or \\nPart-time (PT)  \\\n",
       "0                                      FT   \n",
       "1                                      FT   \n",
       "2                                      FT   \n",
       "3                                      FT   \n",
       "4                                      FT   \n",
       "\n",
       "  9. \\n 5 or More Undergrads/Unit\\n(Y/N)         University       Year  \\\n",
       "0                                      N  Bay State College  2016-2017   \n",
       "1                                      N  Bay State College  2016-2017   \n",
       "2                                      N  Bay State College  2016-2017   \n",
       "3                                      N  Bay State College  2016-2017   \n",
       "4                                      N  Bay State College  2016-2017   \n",
       "\n",
       "   Unnamed: 8 Home address Current address same as home address SMFA student  \\\n",
       "0         NaN          NaN                                  NaN          NaN   \n",
       "1         NaN          NaN                                  NaN          NaN   \n",
       "2         NaN          NaN                                  NaN          NaN   \n",
       "3         NaN          NaN                                  NaN          NaN   \n",
       "4         NaN          NaN                                  NaN          NaN   \n",
       "\n",
       "  7. \\nUnderGaduate (U) or Gaduate (G) 8. \\nFT-time (FT) or \\nPT-time (PT)  \n",
       "0                                  NaN                                 NaN  \n",
       "1                                  NaN                                 NaN  \n",
       "2                                  NaN                                 NaN  \n",
       "3                                  NaN                                 NaN  \n",
       "4                                  NaN                                 NaN  "
      ]
     },
     "execution_count": 37,
     "metadata": {},
     "output_type": "execute_result"
    }
   ],
   "source": [
    "df.head()"
   ]
  },
  {
   "cell_type": "code",
   "execution_count": 39,
   "id": "da31511e-0fc5-483e-95fa-9211485f1d8b",
   "metadata": {},
   "outputs": [],
   "source": [
    "df.to_csv('2016-2018.csv',index=False)"
   ]
  },
  {
   "cell_type": "code",
   "execution_count": null,
   "id": "84f1f06c-37b3-4860-913e-ba256f3e51f2",
   "metadata": {},
   "outputs": [],
   "source": []
  }
 ],
 "metadata": {
  "kernelspec": {
   "display_name": "Python 3 (ipykernel)",
   "language": "python",
   "name": "python3"
  },
  "language_info": {
   "codemirror_mode": {
    "name": "ipython",
    "version": 3
   },
   "file_extension": ".py",
   "mimetype": "text/x-python",
   "name": "python",
   "nbconvert_exporter": "python",
   "pygments_lexer": "ipython3",
   "version": "3.12.5"
  }
 },
 "nbformat": 4,
 "nbformat_minor": 5
}
