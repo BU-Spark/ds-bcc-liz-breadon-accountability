{
 "cells": [
  {
   "cell_type": "code",
   "execution_count": 9,
   "metadata": {},
   "outputs": [
    {
     "name": "stdout",
     "output_type": "stream",
     "text": [
      "Updated dataset saved to updated_boston_college_addresses.xlsx\n"
     ]
    }
   ],
   "source": [
    "import pandas as pd\n",
    "import re\n",
    "\n",
    "# Load the dataset and skip the instruction row\n",
    "file_path = r'2022-2023 School Year Reports\\Boston College.xlsx'\n",
    "df = pd.read_excel(file_path, sheet_name='Student Addresses', skiprows=1)\n",
    "\n",
    "# Replace NaN values in '6b. Street Name' with empty strings\n",
    "df['6b. \\nStreet Name'] = df['6b. \\nStreet Name'].fillna('')\n",
    "\n",
    "# Function to extract suffix (e.g., Road, Street, Avenue), numbers after suffix, and modify 'Not-at-Home' values\n",
    "def process_address(row):\n",
    "    street_name = row['6b. \\nStreet Name']\n",
    "    street_suffix = ''\n",
    "    unit_number = ''\n",
    "    \n",
    "    # List of common street suffixes\n",
    "    suffixes = ['Road', 'Street', 'Avenue', 'Boulevard', 'Lane', 'Drive', 'Place', 'Court', 'Terrace', 'Way', 'Circle']\n",
    "\n",
    "    # Search for suffixes in the street name\n",
    "    for suffix in suffixes:\n",
    "        if suffix in street_name:\n",
    "            street_suffix = suffix\n",
    "            # Remove the suffix from the street name\n",
    "            street_name = street_name.replace(suffix, '').strip()\n",
    "            break\n",
    "    \n",
    "    # Extract any unit number after the street suffix (if present)\n",
    "    unit_match = re.search(r'\\d+$', street_name)\n",
    "    if unit_match:\n",
    "        unit_number = unit_match.group()\n",
    "        street_name = street_name.replace(unit_number, '').strip()\n",
    "\n",
    "    # Update the Street Suffix (6c) and Unit # (6d)\n",
    "    row['6b. \\nStreet Name'] = street_name\n",
    "    row['6c. \\nStreet Suffix  '] = street_suffix\n",
    "    row['6d.\\n Unit #'] = unit_number\n",
    "\n",
    "    # Modify \"City of Boston off-campus not-at-home (formally referred to as Private Housing)\" to \"Not at home\"\n",
    "    if row['9. \\nAt-Home or Not-at-Home'] == \"City of Boston off-campus not-at-home (formally referred to as Private Housing)\":\n",
    "        row['9. \\nAt-Home or Not-at-Home'] = 'Not at home'\n",
    "    \n",
    "    return row\n",
    "\n",
    "# Apply the function to each row\n",
    "df = df.apply(process_address, axis=1)\n",
    "\n",
    "# Save the updated dataset to a new Excel file\n",
    "output_file = 'updated_boston_college_addresses.xlsx'\n",
    "df.to_excel(output_file, index=False)\n",
    "\n",
    "print(f\"Updated dataset saved to {output_file}\")\n"
   ]
  }
 ],
 "metadata": {
  "kernelspec": {
   "display_name": "Python 3",
   "language": "python",
   "name": "python3"
  },
  "language_info": {
   "codemirror_mode": {
    "name": "ipython",
    "version": 3
   },
   "file_extension": ".py",
   "mimetype": "text/x-python",
   "name": "python",
   "nbconvert_exporter": "python",
   "pygments_lexer": "ipython3",
   "version": "3.12.5"
  }
 },
 "nbformat": 4,
 "nbformat_minor": 2
}
