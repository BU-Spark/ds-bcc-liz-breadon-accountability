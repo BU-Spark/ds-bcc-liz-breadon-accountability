{
 "cells": [
  {
   "cell_type": "code",
   "execution_count": 3,
   "metadata": {},
   "outputs": [
    {
     "name": "stdout",
     "output_type": "stream",
     "text": [
      "Index(['6a. Street #', '6b. Street Name', '6c. Street Suffix', '6d. Unit #',\n",
      "       '6e. Zip', '7. Undergraduate (U) or Graduate (G)',\n",
      "       '8. Full-time (FT) or Part-time (PT)', '9. At-Home or Not-at-Home',\n",
      "       '9. 5 or More Undergrads/Unit (Y/N)', 'University', 'Year'],\n",
      "      dtype='object')\n"
     ]
    }
   ],
   "source": [
    "import pandas as pd\n",
    "\n",
    "file_path = 'student_addresses_2022_2024-NoBCNEU.xlsx'\n",
    "df = pd.read_excel(file_path)\n",
    "\n",
    "print(df.columns)\n"
   ]
  },
  {
   "cell_type": "code",
   "execution_count": 4,
   "metadata": {},
   "outputs": [
    {
     "data": {
      "text/plain": [
       "'student_addresses_filtered_NoNEU_BC.xlsx'"
      ]
     },
     "execution_count": 4,
     "metadata": {},
     "output_type": "execute_result"
    }
   ],
   "source": [
    "import pandas as pd\n",
    "\n",
    "# Load the dataset where we want to delete Northeastern and Boston College info\n",
    "file_path = 'student_addresses_2022_2024-NoBCNEU.xlsx'\n",
    "df = pd.read_excel(file_path)\n",
    "\n",
    "# Define the filter criteria for Northeastern (2022-2023 and 2023-2024) and Boston College (2022-2023)\n",
    "colleges_to_remove = ['Northeastern University', 'Boston College']\n",
    "years_to_remove_neu = ['2022-2023', '2023-2024']  # Northeastern over both years\n",
    "years_to_remove_bc = ['2022-2023']  # Boston College only in 2022-2023\n",
    "\n",
    "# Filter out Northeastern and Boston College data\n",
    "df_filtered = df[~((df['University'].isin(['Northeastern University']) & df['Year'].isin(years_to_remove_neu)) |\n",
    "                   (df['University'].isin(['Boston College']) & df['Year'].isin(years_to_remove_bc)))]\n",
    "\n",
    "# Save the cleaned file without Northeastern and Boston College data\n",
    "output_file = 'student_addresses_filtered_NoNEU_BC.xlsx'\n",
    "df_filtered.to_excel(output_file, index=False)\n",
    "\n",
    "output_file\n"
   ]
  },
  {
   "cell_type": "code",
   "execution_count": 7,
   "metadata": {},
   "outputs": [
    {
     "name": "stdout",
     "output_type": "stream",
     "text": [
      "Filtered dataset columns: Index(['6a. Street #', '6b. Street Name', '6c. Street Suffix', '6d. Unit #',\n",
      "       '6e. Zip', '7. Undergraduate (U) or Graduate (G)',\n",
      "       '8. Full-time (FT) or Part-time (PT)', '9. At-Home or Not-at-Home',\n",
      "       '9. 5 or More Undergrads/Unit (Y/N)', 'University', 'Year'],\n",
      "      dtype='object')\n",
      "NEU 2022-23 columns: Index(['6a. Street #', '6b. Street Name', '6c. Street Suffix', '6d. Unit #',\n",
      "       '6e. Zip', '7. \\nUndergraduate (U) or Graduate (G)',\n",
      "       '8. \\nFull-time (FT) or \\nPart-time (PT)',\n",
      "       '9. \\nAt-At home or Not-at-At home'],\n",
      "      dtype='object')\n",
      "NEU 2023-24 columns: Index(['6a. Street #', '6b. Street Name', '6c. Street Suffix', '6d. Unit #',\n",
      "       '6e. Zip', '7. \\nUndergraduate (U) or Graduate (G)',\n",
      "       '8. \\nFull-time (FT) or \\nPart-time (PT)',\n",
      "       '9. \\nAt-At home or Not-at-At home'],\n",
      "      dtype='object')\n",
      "Boston College columns: Index(['6a. \\nStreet #', '6b. \\nStreet Name', '6c. \\nStreet Suffix  ',\n",
      "       '6d.\\n Unit #', '6e. \\nZip', '7. \\nUndergraduate (U) or Graduate (G)',\n",
      "       '8. \\nFull-time (FT) or \\nPart-time (PT)',\n",
      "       '9. \\nAt-Home or Not-at-Home'],\n",
      "      dtype='object')\n"
     ]
    }
   ],
   "source": [
    "import pandas as pd\n",
    "\n",
    "# Load all the datasets\n",
    "filtered_file_path = 'student_addresses_filtered_NoNEU_BC.xlsx'\n",
    "neu_2022_23_file_path = 'Northeastern_2022_23_updated.xlsx'\n",
    "neu_2023_24_file_path = 'Northeastern_2023_24_updated.xlsx'\n",
    "bc_file_path = 'updated_boston_college_addresses.xlsx'\n",
    "\n",
    "df_filtered = pd.read_excel(filtered_file_path)\n",
    "df_neu_2022_23 = pd.read_excel(neu_2022_23_file_path)\n",
    "df_neu_2023_24 = pd.read_excel(neu_2023_24_file_path)\n",
    "df_bc = pd.read_excel(bc_file_path)\n",
    "\n",
    "# Inspect column names\n",
    "print(\"Filtered dataset columns:\", df_filtered.columns)\n",
    "print(\"NEU 2022-23 columns:\", df_neu_2022_23.columns)\n",
    "print(\"NEU 2023-24 columns:\", df_neu_2023_24.columns)\n",
    "print(\"Boston College columns:\", df_bc.columns)"
   ]
  },
  {
   "cell_type": "code",
   "execution_count": null,
   "metadata": {},
   "outputs": [],
   "source": [
    "import pandas as pd\n",
    "\n",
    "# Function to clean column names by removing newline characters and extra spaces\n",
    "def clean_column_names(df):\n",
    "    df.columns = df.columns.str.replace('\\n', '', regex=True).str.strip()\n",
    "    return df\n",
    "\n",
    "# Load the filtered student addresses file (without NEU and BC data)\n",
    "filtered_file_path = 'student_addresses_filtered_NoNEU_BC.xlsx'\n",
    "df_filtered = pd.read_excel(filtered_file_path)\n",
    "\n",
    "# Load Northeastern and Boston College data\n",
    "neu_2022_23_file_path = 'Northeastern_2022_23_updated.xlsx'\n",
    "neu_2023_24_file_path = 'Northeastern_2023_24_updated.xlsx'\n",
    "bc_file_path = 'updated_boston_college_addresses.xlsx'\n",
    "\n",
    "df_neu_2022_23 = pd.read_excel(neu_2022_23_file_path)\n",
    "df_neu_2023_24 = pd.read_excel(neu_2023_24_file_path)\n",
    "df_bc = pd.read_excel(bc_file_path)\n",
    "\n",
    "# Clean column names to remove newline characters and extra spaces\n",
    "df_filtered = clean_column_names(df_filtered)\n",
    "df_neu_2022_23 = clean_column_names(df_neu_2022_23)\n",
    "df_neu_2023_24 = clean_column_names(df_neu_2023_24)\n",
    "df_bc = clean_column_names(df_bc)\n",
    "\n",
    "# Rename NEU and BC \"At-Home or Not-at-Home\" columns to match the filtered dataset\n",
    "df_neu_2022_23.rename(columns={'9. At-At home or Not-at-At home': '9. At-Home or Not-at-Home'}, inplace=True)\n",
    "df_neu_2023_24.rename(columns={'9. At-At home or Not-at-At home': '9. At-Home or Not-at-Home'}, inplace=True)\n",
    "df_bc.rename(columns={'9. At-Home or Not-at-Home': '9. At-Home or Not-at-Home'}, inplace=True)\n",
    "\n",
    "# Add 'University' and 'Year' columns to the Northeastern and Boston College data\n",
    "df_neu_2022_23['University'] = 'Northeastern University'\n",
    "df_neu_2022_23['Year'] = '2022-2023'\n",
    "\n",
    "df_neu_2023_24['University'] = 'Northeastern University'\n",
    "df_neu_2023_24['Year'] = '2023-2024'\n",
    "\n",
    "df_bc['University'] = 'Boston College'\n",
    "df_bc['Year'] = '2022-2023'\n",
    "\n",
    "# Ensure that all dataframes have the same columns\n",
    "missing_columns = [col for col in df_filtered.columns if col not in df_neu_2022_23.columns]\n",
    "for col in missing_columns:\n",
    "    df_neu_2022_23[col] = pd.NA\n",
    "    df_neu_2023_24[col] = pd.NA\n",
    "    df_bc[col] = pd.NA\n",
    "\n",
    "# Reorder the columns to match the filtered dataset\n",
    "df_neu_2022_23 = df_neu_2022_23[df_filtered.columns]\n",
    "df_neu_2023_24 = df_neu_2023_24[df_filtered.columns]\n",
    "df_bc = df_bc[df_filtered.columns]\n",
    "\n",
    "# Combine all datasets\n",
    "df_combined = pd.concat([df_filtered, df_neu_2022_23, df_neu_2023_24, df_bc], ignore_index=True)\n",
    "\n",
    "# Save the combined data to a new Excel file\n",
    "output_file = 'combined_data_2022_2024.xlsx'\n",
    "df_combined.to_excel(output_file, index=False)\n",
    "\n",
    "print(\"Combined data saved as 'combined_data_2022_2024.xlsx'.\")\n"
   ]
  }
 ],
 "metadata": {
  "kernelspec": {
   "display_name": "Python 3",
   "language": "python",
   "name": "python3"
  },
  "language_info": {
   "codemirror_mode": {
    "name": "ipython",
    "version": 3
   },
   "file_extension": ".py",
   "mimetype": "text/x-python",
   "name": "python",
   "nbconvert_exporter": "python",
   "pygments_lexer": "ipython3",
   "version": "3.12.5"
  }
 },
 "nbformat": 4,
 "nbformat_minor": 2
}
