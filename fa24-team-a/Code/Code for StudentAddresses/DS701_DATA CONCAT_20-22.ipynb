{
  "nbformat": 4,
  "nbformat_minor": 0,
  "metadata": {
    "colab": {
      "provenance": []
    },
    "kernelspec": {
      "name": "python3",
      "display_name": "Python 3"
    },
    "language_info": {
      "name": "python"
    }
  },
  "cells": [
    {
      "cell_type": "code",
      "execution_count": null,
      "metadata": {
        "id": "FawpkaIEf0Q1"
      },
      "outputs": [],
      "source": [
        "import zipfile\n",
        "import os\n",
        "\n",
        "zip_file_path = '/content/University Accountability Report all files.zip'\n",
        "\n",
        "with zipfile.ZipFile(zip_file_path, 'r') as zip_ref:\n",
        "    zip_ref.extractall('/content/unzipped_files')\n"
      ]
    },
    {
      "cell_type": "code",
      "source": [
        "import os\n",
        "\n",
        "extracted_folder = '/content/unzipped_files'\n",
        "\n",
        "selected_files = [f for f in os.listdir(extracted_folder) if '2020-2021 School Year Reports' in f or '2021-2022 School Year Reports' in f]\n",
        "\n",
        "print(\"Selected files:\", selected_files)\n"
      ],
      "metadata": {
        "colab": {
          "base_uri": "https://localhost:8080/"
        },
        "id": "ofeVXOXggt4_",
        "outputId": "bb30e8ab-cfa6-4c0f-ed80-a5300fa5dcca"
      },
      "execution_count": null,
      "outputs": [
        {
          "output_type": "stream",
          "name": "stdout",
          "text": [
            "Selected files: ['2021-2022 School Year Reports', '2020-2021 School Year Reports']\n"
          ]
        }
      ]
    },
    {
      "cell_type": "code",
      "source": [
        "!pip install openpyxl"
      ],
      "metadata": {
        "colab": {
          "base_uri": "https://localhost:8080/"
        },
        "id": "iEBYKr5gqmdw",
        "outputId": "26d19ccf-1b1f-4a96-81ae-a4762f7047c5"
      },
      "execution_count": null,
      "outputs": [
        {
          "output_type": "stream",
          "name": "stdout",
          "text": [
            "Requirement already satisfied: openpyxl in /usr/local/lib/python3.10/dist-packages (3.1.5)\n",
            "Requirement already satisfied: et-xmlfile in /usr/local/lib/python3.10/dist-packages (from openpyxl) (1.1.0)\n"
          ]
        }
      ]
    },
    {
      "cell_type": "code",
      "source": [
        "folders = ['2020-2021 School Year Reports','2021-2022 School Year Reports']"
      ],
      "metadata": {
        "id": "qCz0HF-1rHBh"
      },
      "execution_count": null,
      "outputs": []
    },
    {
      "cell_type": "code",
      "source": [
        "base_directory = '/content/unzipped_files/2020-2021 School Year Reports/'\n",
        "file_paths = [os.path.join(base_directory, os.path.basename(path)) for path in file_paths]\n"
      ],
      "metadata": {
        "id": "nWopP9iUDTGb"
      },
      "execution_count": null,
      "outputs": []
    },
    {
      "cell_type": "code",
      "source": [
        "import os\n",
        "\n",
        "extracted_files = os.listdir('/content/unzipped_files/2020-2021 School Year Reports/')\n",
        "print(extracted_files)\n"
      ],
      "metadata": {
        "colab": {
          "base_uri": "https://localhost:8080/"
        },
        "id": "qBkXU9mtDVC3",
        "outputId": "5e7e6446-e91f-4491-ccde-45b5522e7eaf"
      },
      "execution_count": null,
      "outputs": [
        {
          "output_type": "stream",
          "name": "stdout",
          "text": [
            "['MCPHS University.xlsx', 'Bay State College.xlsx', 'New England Law.xlsx', 'Tufts University.xlsx', 'Suffolk University.xlsx', 'Fisher College.xlsx', \"St. John's Seminary.xlsx\", 'Sattler College.xlsx', 'Berklee College of Music & Boston Conservatory.xlsx', 'Boston College.xlsx', 'Boston Baptist College.xlsx', 'New England Conservatory.xlsx', 'SHOWA Boston.xlsx', 'Massachusetts Institute of Technology.xlsx', 'MGH Institute of Health Professions.xlsx', 'Franklin Institute of Technology.xlsx', 'Boston Architectural College.xlsx', 'Boston College WCAS.xlsx', 'Boston University.xlsx', 'Wentworth Institute of Technology.xlsx', 'Urban College of Boston.xlsx', 'Emerson College-Updated Report.xlsx', 'Northeastern University.xlsx', 'Boston Architectural College.pdf', 'New England College of Optometry.xlsx', 'University of Massachusetts Boston.xlsx', 'Emmanuel College.xlsx', 'Massachusetts College of Art and Design.xlsx', 'Harvard University_Boston-Based Students.xlsx', 'Simmons University.xlsx']\n"
          ]
        }
      ]
    },
    {
      "cell_type": "code",
      "source": [
        "import pandas as pd\n",
        "import os\n",
        "\n",
        "file_paths = [\n",
        "    '/content/unzipped_files/2020-2021 School Year Reports/Bay State College.xlsx',\n",
        "    '/content/unzipped_files/2020-2021 School Year Reports/Berklee College of Music & Boston Conservatory.xlsx',\n",
        "    '/content/unzipped_files/2020-2021 School Year Reports/Boston Architectural College.xlsx',\n",
        "    '/content/unzipped_files/2020-2021 School Year Reports/Boston Baptist College.xlsx',\n",
        "    '/content/unzipped_files/2020-2021 School Year Reports/Boston College WCAS.xlsx',\n",
        "    '/content/unzipped_files/2020-2021 School Year Reports/Boston College.xlsx',\n",
        "    '/content/unzipped_files/2020-2021 School Year Reports/Boston University.xlsx',\n",
        "    '/content/unzipped_files/2020-2021 School Year Reports/Emerson College-Updated Report.xlsx',\n",
        "    '/content/unzipped_files/2020-2021 School Year Reports/Emmanuel College.xlsx',\n",
        "    '/content/unzipped_files/2020-2021 School Year Reports/Fisher College.xlsx',\n",
        "    '/content/unzipped_files/2020-2021 School Year Reports/Franklin Institute of Technology.xlsx',\n",
        "    '/content/unzipped_files/2020-2021 School Year Reports/Harvard University_Boston-Based Students.xlsx',\n",
        "    '/content/unzipped_files/2020-2021 School Year Reports/MCPHS University.xlsx',\n",
        "    '/content/unzipped_files/2020-2021 School Year Reports/MGH Institute of Health Professions.xlsx',\n",
        "    '/content/unzipped_files/2020-2021 School Year Reports/Massachusetts College of Art and Design.xlsx',\n",
        "    '/content/unzipped_files/2020-2021 School Year Reports/Massachusetts Institute of Technology.xlsx',\n",
        "    '/content/unzipped_files/2020-2021 School Year Reports/New England College of Optometry.xlsx',\n",
        "    '/content/unzipped_files/2020-2021 School Year Reports/Northeastern University.xlsx',\n",
        "    '/content/unzipped_files/2020-2021 School Year Reports/SHOWA Boston.xlsx',\n",
        "    '/content/unzipped_files/2020-2021 School Year Reports/Sattler College.xlsx',\n",
        "    '/content/unzipped_files/2020-2021 School Year Reports/Simmons University.xlsx',\n",
        "    '/content/unzipped_files/2020-2021 School Year Reports/St. John\\'s Seminary.xlsx',\n",
        "    '/content/unzipped_files/2020-2021 School Year Reports/Suffolk University.xlsx',\n",
        "    '/content/unzipped_files/2020-2021 School Year Reports/Tufts University.xlsx',\n",
        "    '/content/unzipped_files/2020-2021 School Year Reports/University of Massachusetts Boston.xlsx',\n",
        "    '/content/unzipped_files/2020-2021 School Year Reports/Urban College of Boston.xlsx',\n",
        "    '/content/unzipped_files/2020-2021 School Year Reports/Wentworth Institute of Technology.xlsx',\n",
        "]\n",
        "all_data = []\n",
        "\n",
        "desired_columns = [\n",
        "    \"6a. Street #\",\n",
        "    \"6b. Street Name\",\n",
        "    \"6c. Street Suffix\",\n",
        "    \"6d. Unit #\",\n",
        "    \"6e. Zip\",\n",
        "    \"7. Undergraduate (U) or Graduate (G)\",\n",
        "    \"8. Full-time (FT) or Part-time (PT)\",\n",
        "    \"9. At-Home or Not-at-Home\",\n",
        "    \"9. 5 or More Undergrads/Unit (Y/N)\",\n",
        "    \"University\",\n",
        "    \"Year\"\n",
        "]\n",
        "\n",
        "for file_path in file_paths:\n",
        "    file_name = os.path.basename(file_path).replace('.xlsx', '')\n",
        "\n",
        "    try:\n",
        "        df = pd.read_excel(file_path, sheet_name='Student Addresses', skiprows=2)\n",
        "\n",
        "        if len(df.columns) >= 8:\n",
        "            df = df.iloc[:, :8]\n",
        "\n",
        "            df.columns = [\n",
        "                \"6a. Street #\",\n",
        "                \"6b. Street Name\",\n",
        "                \"6c. Street Suffix\",\n",
        "                \"6d. Unit #\",\n",
        "                \"6e. Zip\",\n",
        "                \"7. Undergraduate (U) or Graduate (G)\",\n",
        "                \"8. Full-time (FT) or Part-time (PT)\",\n",
        "                \"9. At-Home or Not-at-Home\"\n",
        "            ]\n",
        "\n",
        "            if '9. 5 or More Undergrads/Unit (Y/N)' not in df.columns:\n",
        "                df['9. 5 or More Undergrads/Unit (Y/N)'] = 'N/A'\n",
        "\n",
        "            df['University'] = file_name\n",
        "            df['Year'] = '2023-2024'\n",
        "\n",
        "            all_data.append(df)\n",
        "        else:\n",
        "            print(f\"File {file_name} skipped due to insufficient columns.\")\n",
        "\n",
        "    except Exception as e:\n",
        "        print(f\"Error processing file {file_name}: {e}\")\n",
        "if all_data:\n",
        "    combined_df = pd.concat(all_data, ignore_index=True)\n",
        "\n",
        "    combined_df = combined_df[desired_columns]\n",
        "\n",
        "    output_file = 'formatted_combined_student_addresses_2023_2024.xlsx'\n",
        "    combined_df.to_excel(output_file, index=False)\n",
        "\n",
        "    print(f\"Data successfully saved to {output_file}\")\n",
        "else:\n",
        "    print(\"No valid data to combine.\")"
      ],
      "metadata": {
        "colab": {
          "base_uri": "https://localhost:8080/"
        },
        "id": "cM0VwHQLIE5r",
        "outputId": "b48068d0-a9c0-4b54-b031-3c167630c75b"
      },
      "execution_count": null,
      "outputs": [
        {
          "output_type": "stream",
          "name": "stdout",
          "text": [
            "File Boston Baptist College skipped due to insufficient columns.\n",
            "File MGH Institute of Health Professions skipped due to insufficient columns.\n"
          ]
        },
        {
          "output_type": "stream",
          "name": "stderr",
          "text": [
            "/usr/local/lib/python3.10/dist-packages/openpyxl/worksheet/_reader.py:329: UserWarning: Unknown extension is not supported and will be removed\n",
            "  warn(msg)\n"
          ]
        },
        {
          "output_type": "stream",
          "name": "stdout",
          "text": [
            "File SHOWA Boston skipped due to insufficient columns.\n",
            "Data successfully saved to formatted_combined_student_addresses_2023_2024.xlsx\n"
          ]
        }
      ]
    },
    {
      "cell_type": "code",
      "source": [
        "import pandas as pd\n",
        "import os\n",
        "\n",
        "file_paths = [\n",
        "    '/content/unzipped_files/2021-2022 School Year Reports/Bay State College.xlsx',\n",
        "    '/content/unzipped_files/2021-2022 School Year Reports/Berklee College of Music-Boston Conservatory.xlsx',\n",
        "    '/content/unzipped_files/2021-2022 School Year Reports/Boston Architectural College.xlsx',\n",
        "    '/content/unzipped_files/2021-2022 School Year Reports/Boston Baptist College.xlsx',\n",
        "    '/content/unzipped_files/2021-2022 School Year Reports/Boston College WCAS.xlsx',\n",
        "    '/content/unzipped_files/2021-2022 School Year Reports/Boston College.xlsx',\n",
        "    '/content/unzipped_files/2021-2022 School Year Reports/Boston University.xlsx',\n",
        "    '/content/unzipped_files/2021-2022 School Year Reports/Emerson College.xlsx',\n",
        "    '/content/unzipped_files/2021-2022 School Year Reports/Emmanuel College.xlsx',\n",
        "    '/content/unzipped_files/2021-2022 School Year Reports/Fisher College.xlsx',\n",
        "    '/content/unzipped_files/2021-2022 School Year Reports/Franklin Institute of Technology.xlsx',\n",
        "    '/content/unzipped_files/2021-2022 School Year Reports/Harvard University.xlsx',\n",
        "    '/content/unzipped_files/2021-2022 School Year Reports/MGH Institute of Health Professions.xlsx',\n",
        "    '/content/unzipped_files/2021-2022 School Year Reports/Massachusetts College of Art and Design.xlsx',\n",
        "    '/content/unzipped_files/2021-2022 School Year Reports/Massachusetts Institute of Technology.xlsx',\n",
        "    '/content/unzipped_files/2021-2022 School Year Reports/New England College of Optometry.xlsx',\n",
        "    '/content/unzipped_files/2021-2022 School Year Reports/Northeastern University.xlsx',\n",
        "    '/content/unzipped_files/2021-2022 School Year Reports/SHOWA Institute Boston.xlsx',\n",
        "    '/content/unzipped_files/2021-2022 School Year Reports/Sattler College.xlsx',\n",
        "    '/content/unzipped_files/2021-2022 School Year Reports/Simmons University.xlsx',\n",
        "    '/content/unzipped_files/2021-2022 School Year Reports/St. John\\'s Seminary.xlsx',\n",
        "    '/content/unzipped_files/2021-2022 School Year Reports/Suffolk University.xlsx',\n",
        "    '/content/unzipped_files/2021-2022 School Year Reports/Tufts University.xlsx',\n",
        "    '/content/unzipped_files/2021-2022 School Year Reports/University of Massachusetts-Boston.xlsx',\n",
        "    '/content/unzipped_files/2021-2022 School Year Reports/Urban College of Boston.xlsx',\n",
        "    '/content/unzipped_files/2021-2022 School Year Reports/Wentworth Institute of Technology.xlsx',\n",
        "]\n",
        "all_data = []\n",
        "\n",
        "desired_columns = [\n",
        "    \"6a. Street #\",\n",
        "    \"6b. Street Name\",\n",
        "    \"6c. Street Suffix\",\n",
        "    \"6d. Unit #\",\n",
        "    \"6e. Zip\",\n",
        "    \"7. Undergraduate (U) or Graduate (G)\",\n",
        "    \"8. Full-time (FT) or Part-time (PT)\",\n",
        "    \"9. At-Home or Not-at-Home\",\n",
        "    \"9. 5 or More Undergrads/Unit (Y/N)\",\n",
        "    \"University\",\n",
        "    \"Year\"\n",
        "]\n",
        "\n",
        "for file_path in file_paths:\n",
        "    file_name = os.path.basename(file_path).replace('.xlsx', '')\n",
        "\n",
        "    try:\n",
        "        df = pd.read_excel(file_path, sheet_name='Student Addresses', skiprows=2)\n",
        "\n",
        "        if len(df.columns) >= 8:\n",
        "            df = df.iloc[:, :8]\n",
        "\n",
        "            df.columns = [\n",
        "                \"6a. Street #\",\n",
        "                \"6b. Street Name\",\n",
        "                \"6c. Street Suffix\",\n",
        "                \"6d. Unit #\",\n",
        "                \"6e. Zip\",\n",
        "                \"7. Undergraduate (U) or Graduate (G)\",\n",
        "                \"8. Full-time (FT) or Part-time (PT)\",\n",
        "                \"9. At-Home or Not-at-Home\"\n",
        "            ]\n",
        "\n",
        "            if '9. 5 or More Undergrads/Unit (Y/N)' not in df.columns:\n",
        "                df['9. 5 or More Undergrads/Unit (Y/N)'] = 'N/A'\n",
        "\n",
        "            df['University'] = file_name\n",
        "            df['Year'] = '2023-2024'\n",
        "\n",
        "            all_data.append(df)\n",
        "        else:\n",
        "            print(f\"File {file_name} skipped due to insufficient columns.\")\n",
        "\n",
        "    except Exception as e:\n",
        "        print(f\"Error processing file {file_name}: {e}\")\n",
        "\n",
        "if all_data:\n",
        "    combined_df = pd.concat(all_data, ignore_index=True)\n",
        "\n",
        "    combined_df = combined_df[desired_columns]\n",
        "\n",
        "    output_file = '21-22.xlsx'\n",
        "    combined_df.to_excel(output_file, index=False)\n",
        "\n",
        "    print(f\"Data successfully saved to {output_file}\")\n",
        "else:\n",
        "    print(\"No valid data to combine.\")"
      ],
      "metadata": {
        "colab": {
          "base_uri": "https://localhost:8080/"
        },
        "id": "56hGEoTiJATW",
        "outputId": "6569fb3f-a00f-4787-b733-133b4af4e224"
      },
      "execution_count": null,
      "outputs": [
        {
          "output_type": "stream",
          "name": "stdout",
          "text": [
            "File MGH Institute of Health Professions skipped due to insufficient columns.\n"
          ]
        },
        {
          "output_type": "stream",
          "name": "stderr",
          "text": [
            "/usr/local/lib/python3.10/dist-packages/openpyxl/worksheet/_reader.py:329: UserWarning: Unknown extension is not supported and will be removed\n",
            "  warn(msg)\n"
          ]
        },
        {
          "output_type": "stream",
          "name": "stdout",
          "text": [
            "File SHOWA Institute Boston skipped due to insufficient columns.\n",
            "File Sattler College skipped due to insufficient columns.\n",
            "Data successfully saved to 21-22.xlsx\n"
          ]
        }
      ]
    },
    {
      "cell_type": "code",
      "source": [
        "import pandas as pd\n",
        "df1 = pd.read_excel('/content/20-21.xlsx')\n",
        "df2 = pd.read_excel('/content/21-22.xlsx')\n"
      ],
      "metadata": {
        "id": "kRObT9F5e-6g"
      },
      "execution_count": 17,
      "outputs": []
    },
    {
      "cell_type": "code",
      "source": [
        "combined_df = pd.concat([df1, df2], axis=0, ignore_index=True)\n",
        "print(combined_df)\n"
      ],
      "metadata": {
        "colab": {
          "base_uri": "https://localhost:8080/"
        },
        "id": "CpdI15Xrfmkv",
        "outputId": "77ed7c09-34c9-4c9e-b5b3-23476bb5fac7"
      },
      "execution_count": 18,
      "outputs": [
        {
          "output_type": "stream",
          "name": "stdout",
          "text": [
            "      6a. Street #  6b. Street Name 6c. Street Suffix 6d. Unit # 6e. Zip  \\\n",
            "0              101            Canal                St        537    2114   \n",
            "1              175          Blossom                St        NaN    2114   \n",
            "2               45          Stuart                 St        704    2115   \n",
            "3              797       Huntington               Ave        NaN    2115   \n",
            "4                3         Shabazz                Way        NaN    2119   \n",
            "...            ...              ...               ...        ...     ...   \n",
            "68708           58     Queensberry                 St     Apt 12    2215   \n",
            "68709           60     Queensberry                 St      Apt 1    2215   \n",
            "68710           94     Queensberry                 St      Apt 4    2215   \n",
            "68711           94     Queensberry                 St      Apt 7    2215   \n",
            "68712           95  Saint Alphonsus                St    Apt 303    2120   \n",
            "\n",
            "      7. Undergraduate (U) or Graduate (G)  \\\n",
            "0                                        U   \n",
            "1                                        U   \n",
            "2                                        U   \n",
            "3                                        U   \n",
            "4                                        U   \n",
            "...                                    ...   \n",
            "68708                                    U   \n",
            "68709                                    U   \n",
            "68710                                    U   \n",
            "68711                                    U   \n",
            "68712                                    U   \n",
            "\n",
            "      8. Full-time (FT) or Part-time (PT) 9. At-Home or Not-at-Home  \\\n",
            "0                                      FT                         N   \n",
            "1                                      FT                         N   \n",
            "2                                      FT                         N   \n",
            "3                                      PT                         N   \n",
            "4                                      PT                         N   \n",
            "...                                   ...                       ...   \n",
            "68708                                  FT                         N   \n",
            "68709                                  FT                         N   \n",
            "68710                                  FT                         N   \n",
            "68711                                  FT                         N   \n",
            "68712                                  FT                         N   \n",
            "\n",
            "       9. 5 or More Undergrads/Unit (Y/N)                         University  \\\n",
            "0                                     NaN                  Bay State College   \n",
            "1                                     NaN                  Bay State College   \n",
            "2                                     NaN                  Bay State College   \n",
            "3                                     NaN                  Bay State College   \n",
            "4                                     NaN                  Bay State College   \n",
            "...                                   ...                                ...   \n",
            "68708                                 NaN  Wentworth Institute of Technology   \n",
            "68709                                 NaN  Wentworth Institute of Technology   \n",
            "68710                                 NaN  Wentworth Institute of Technology   \n",
            "68711                                 NaN  Wentworth Institute of Technology   \n",
            "68712                                 NaN  Wentworth Institute of Technology   \n",
            "\n",
            "            Year  \n",
            "0      2023-2024  \n",
            "1      2023-2024  \n",
            "2      2023-2024  \n",
            "3      2023-2024  \n",
            "4      2023-2024  \n",
            "...          ...  \n",
            "68708  2023-2024  \n",
            "68709  2023-2024  \n",
            "68710  2023-2024  \n",
            "68711  2023-2024  \n",
            "68712  2023-2024  \n",
            "\n",
            "[68713 rows x 11 columns]\n"
          ]
        }
      ]
    },
    {
      "cell_type": "code",
      "source": [
        "combined_df.to_excel('combined_dataset.xlsx', index=False)\n",
        "from google.colab import files\n",
        "files.download('combined_dataset.xlsx')\n"
      ],
      "metadata": {
        "colab": {
          "base_uri": "https://localhost:8080/",
          "height": 17
        },
        "id": "a4crGPOUfr1P",
        "outputId": "c9912395-53b5-4e10-95c7-0b1513204cd4"
      },
      "execution_count": 19,
      "outputs": [
        {
          "output_type": "display_data",
          "data": {
            "text/plain": [
              "<IPython.core.display.Javascript object>"
            ],
            "application/javascript": [
              "\n",
              "    async function download(id, filename, size) {\n",
              "      if (!google.colab.kernel.accessAllowed) {\n",
              "        return;\n",
              "      }\n",
              "      const div = document.createElement('div');\n",
              "      const label = document.createElement('label');\n",
              "      label.textContent = `Downloading \"${filename}\": `;\n",
              "      div.appendChild(label);\n",
              "      const progress = document.createElement('progress');\n",
              "      progress.max = size;\n",
              "      div.appendChild(progress);\n",
              "      document.body.appendChild(div);\n",
              "\n",
              "      const buffers = [];\n",
              "      let downloaded = 0;\n",
              "\n",
              "      const channel = await google.colab.kernel.comms.open(id);\n",
              "      // Send a message to notify the kernel that we're ready.\n",
              "      channel.send({})\n",
              "\n",
              "      for await (const message of channel.messages) {\n",
              "        // Send a message to notify the kernel that we're ready.\n",
              "        channel.send({})\n",
              "        if (message.buffers) {\n",
              "          for (const buffer of message.buffers) {\n",
              "            buffers.push(buffer);\n",
              "            downloaded += buffer.byteLength;\n",
              "            progress.value = downloaded;\n",
              "          }\n",
              "        }\n",
              "      }\n",
              "      const blob = new Blob(buffers, {type: 'application/binary'});\n",
              "      const a = document.createElement('a');\n",
              "      a.href = window.URL.createObjectURL(blob);\n",
              "      a.download = filename;\n",
              "      div.appendChild(a);\n",
              "      a.click();\n",
              "      div.remove();\n",
              "    }\n",
              "  "
            ]
          },
          "metadata": {}
        },
        {
          "output_type": "display_data",
          "data": {
            "text/plain": [
              "<IPython.core.display.Javascript object>"
            ],
            "application/javascript": [
              "download(\"download_e28ffdc4-e3c2-479c-bfe2-35594d4afea6\", \"combined_dataset.xlsx\", 3239676)"
            ]
          },
          "metadata": {}
        }
      ]
    },
    {
      "cell_type": "code",
      "source": [
        "df = pd.read_excel('/content/combined_dataset.xlsx')\n",
        "csv_file_name = 'converted_dataset.csv'\n",
        "df.to_csv(csv_file_name, index=False)\n",
        "\n",
        "from google.colab import files\n",
        "files.download(csv_file_name)"
      ],
      "metadata": {
        "colab": {
          "base_uri": "https://localhost:8080/",
          "height": 17
        },
        "id": "xAUwO2yHhNbn",
        "outputId": "758fa137-e924-4a7b-d45d-e566b749c7c4"
      },
      "execution_count": 22,
      "outputs": [
        {
          "output_type": "display_data",
          "data": {
            "text/plain": [
              "<IPython.core.display.Javascript object>"
            ],
            "application/javascript": [
              "\n",
              "    async function download(id, filename, size) {\n",
              "      if (!google.colab.kernel.accessAllowed) {\n",
              "        return;\n",
              "      }\n",
              "      const div = document.createElement('div');\n",
              "      const label = document.createElement('label');\n",
              "      label.textContent = `Downloading \"${filename}\": `;\n",
              "      div.appendChild(label);\n",
              "      const progress = document.createElement('progress');\n",
              "      progress.max = size;\n",
              "      div.appendChild(progress);\n",
              "      document.body.appendChild(div);\n",
              "\n",
              "      const buffers = [];\n",
              "      let downloaded = 0;\n",
              "\n",
              "      const channel = await google.colab.kernel.comms.open(id);\n",
              "      // Send a message to notify the kernel that we're ready.\n",
              "      channel.send({})\n",
              "\n",
              "      for await (const message of channel.messages) {\n",
              "        // Send a message to notify the kernel that we're ready.\n",
              "        channel.send({})\n",
              "        if (message.buffers) {\n",
              "          for (const buffer of message.buffers) {\n",
              "            buffers.push(buffer);\n",
              "            downloaded += buffer.byteLength;\n",
              "            progress.value = downloaded;\n",
              "          }\n",
              "        }\n",
              "      }\n",
              "      const blob = new Blob(buffers, {type: 'application/binary'});\n",
              "      const a = document.createElement('a');\n",
              "      a.href = window.URL.createObjectURL(blob);\n",
              "      a.download = filename;\n",
              "      div.appendChild(a);\n",
              "      a.click();\n",
              "      div.remove();\n",
              "    }\n",
              "  "
            ]
          },
          "metadata": {}
        },
        {
          "output_type": "display_data",
          "data": {
            "text/plain": [
              "<IPython.core.display.Javascript object>"
            ],
            "application/javascript": [
              "download(\"download_2e2ad0bd-834a-4b5e-b8d9-e87815f1d4c0\", \"converted_dataset.csv\", 5785403)"
            ]
          },
          "metadata": {}
        }
      ]
    }
  ]
}