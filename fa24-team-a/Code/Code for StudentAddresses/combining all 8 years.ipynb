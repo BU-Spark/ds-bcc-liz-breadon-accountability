{
 "cells": [
  {
   "cell_type": "code",
   "execution_count": 3,
   "metadata": {},
   "outputs": [
    {
     "name": "stderr",
     "output_type": "stream",
     "text": [
      "C:\\Users\\amrut\\AppData\\Local\\Temp\\ipykernel_13588\\4038297627.py:3: DtypeWarning: Columns (4) have mixed types. Specify dtype option on import or set low_memory=False.\n",
      "  csv_2020_2022 = pd.read_csv('2020-2022.csv')\n",
      "C:\\Users\\amrut\\AppData\\Local\\Temp\\ipykernel_13588\\4038297627.py:6: DtypeWarning: Columns (0,4,8) have mixed types. Specify dtype option on import or set low_memory=False.\n",
      "  csv_2016_2018 = pd.read_csv('final_2016-2018.csv')\n",
      "C:\\Users\\amrut\\AppData\\Local\\Temp\\ipykernel_13588\\4038297627.py:15: FutureWarning: DataFrame.applymap has been deprecated. Use DataFrame.map instead.\n",
      "  df = df.applymap(lambda x: x.strip() if isinstance(x, str) else x)\n"
     ]
    },
    {
     "data": {
      "text/plain": [
       "'final_combined_2016_2024.xlsx'"
      ]
     },
     "execution_count": 3,
     "metadata": {},
     "output_type": "execute_result"
    }
   ],
   "source": [
    "import pandas as pd\n",
    "#1 Load all the provided datasets\n",
    "csv_2020_2022 = pd.read_csv('2020-2022.csv')\n",
    "combined_2018_2020 = pd.read_excel('Combined_data_2018_2020.xlsx')\n",
    "combined_2022_2024 = pd.read_excel('combined_data_2022_2024.xlsx')\n",
    "csv_2016_2018 = pd.read_csv('final_2016-2018.csv')\n",
    "\n",
    "# Clean the column names by stripping and removing unwanted characters like newlines\n",
    "def clean_column_names(df):\n",
    "    df.columns = df.columns.str.replace('\\n', ' ', regex=True).str.strip().str.lower().str.replace('  ', ' ', regex=False)\n",
    "    return df\n",
    "\n",
    "# Clean the data values by stripping extra spaces\n",
    "def clean_data_values(df):\n",
    "    df = df.applymap(lambda x: x.strip() if isinstance(x, str) else x)\n",
    "    return df\n",
    "\n",
    "# Clean the columns and values for all the dataframes\n",
    "csv_2020_2022 = clean_column_names(csv_2020_2022)\n",
    "combined_2018_2020 = clean_column_names(combined_2018_2020)\n",
    "combined_2022_2024 = clean_column_names(combined_2022_2024)\n",
    "csv_2016_2018 = clean_column_names(csv_2016_2018)\n",
    "\n",
    "csv_2020_2022 = clean_data_values(csv_2020_2022)\n",
    "combined_2018_2020 = clean_data_values(combined_2018_2020)\n",
    "combined_2022_2024 = clean_data_values(combined_2022_2024)\n",
    "csv_2016_2018 = clean_data_values(csv_2016_2018)\n",
    "\n",
    "# Add 'university' and 'year' columns to any datasets that don't have them\n",
    "if 'university' not in csv_2020_2022.columns:\n",
    "    csv_2020_2022['university'] = 'Unknown University'\n",
    "if 'year' not in csv_2020_2022.columns:\n",
    "    csv_2020_2022['year'] = '2020-2022'\n",
    "\n",
    "if 'university' not in csv_2016_2018.columns:\n",
    "    csv_2016_2018['university'] = 'Unknown University'\n",
    "if 'year' not in csv_2016_2018.columns:\n",
    "    csv_2016_2018['year'] = '2016-2018'\n",
    "\n",
    "# Combine all datasets\n",
    "df_combined = pd.concat([combined_2018_2020, csv_2020_2022, combined_2022_2024, csv_2016_2018], ignore_index=True)\n",
    "\n",
    "# Save the final combined dataset\n",
    "output_combined_file = 'final_combined_2016_2024.xlsx'\n",
    "df_combined.to_excel(output_combined_file, index=False)\n",
    "\n",
    "output_combined_file\n"
   ]
  }
 ],
 "metadata": {
  "kernelspec": {
   "display_name": "Python 3",
   "language": "python",
   "name": "python3"
  },
  "language_info": {
   "codemirror_mode": {
    "name": "ipython",
    "version": 3
   },
   "file_extension": ".py",
   "mimetype": "text/x-python",
   "name": "python",
   "nbconvert_exporter": "python",
   "pygments_lexer": "ipython3",
   "version": "3.12.5"
  }
 },
 "nbformat": 4,
 "nbformat_minor": 2
}
