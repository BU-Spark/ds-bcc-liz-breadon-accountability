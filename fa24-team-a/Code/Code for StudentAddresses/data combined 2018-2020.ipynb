{
 "cells": [
  {
   "cell_type": "code",
   "execution_count": 1,
   "metadata": {},
   "outputs": [
    {
     "name": "stdout",
     "output_type": "stream",
     "text": [
      "Requirement already satisfied: pandas in /opt/anaconda3/envs/scottenvi/lib/python3.12/site-packages (2.2.2)\n",
      "Collecting openpyxl\n",
      "  Downloading openpyxl-3.1.5-py2.py3-none-any.whl.metadata (2.5 kB)\n",
      "Requirement already satisfied: numpy>=1.26.0 in /opt/anaconda3/envs/scottenvi/lib/python3.12/site-packages (from pandas) (1.26.4)\n",
      "Requirement already satisfied: python-dateutil>=2.8.2 in /opt/anaconda3/envs/scottenvi/lib/python3.12/site-packages (from pandas) (2.9.0.post0)\n",
      "Requirement already satisfied: pytz>=2020.1 in /opt/anaconda3/envs/scottenvi/lib/python3.12/site-packages (from pandas) (2024.1)\n",
      "Requirement already satisfied: tzdata>=2022.7 in /opt/anaconda3/envs/scottenvi/lib/python3.12/site-packages (from pandas) (2023.3)\n",
      "Collecting et-xmlfile (from openpyxl)\n",
      "  Downloading et_xmlfile-1.1.0-py3-none-any.whl.metadata (1.8 kB)\n",
      "Requirement already satisfied: six>=1.5 in /opt/anaconda3/envs/scottenvi/lib/python3.12/site-packages (from python-dateutil>=2.8.2->pandas) (1.16.0)\n",
      "Downloading openpyxl-3.1.5-py2.py3-none-any.whl (250 kB)\n",
      "Downloading et_xmlfile-1.1.0-py3-none-any.whl (4.7 kB)\n",
      "Installing collected packages: et-xmlfile, openpyxl\n",
      "Successfully installed et-xmlfile-1.1.0 openpyxl-3.1.5\n",
      "Note: you may need to restart the kernel to use updated packages.\n"
     ]
    }
   ],
   "source": [
    "!pip install pandas openpyxl"
   ]
  },
  {
   "cell_type": "code",
   "execution_count": 3,
   "metadata": {},
   "outputs": [
    {
     "name": "stderr",
     "output_type": "stream",
     "text": [
      "/opt/anaconda3/envs/scottenvi/lib/python3.12/site-packages/openpyxl/worksheet/_reader.py:329: UserWarning: Unknown extension is not supported and will be removed\n",
      "  warn(msg)\n"
     ]
    },
    {
     "name": "stdout",
     "output_type": "stream",
     "text": [
      "All specific sheets combined successfully into 'combined_specific_sheet.xlsx'.\n"
     ]
    }
   ],
   "source": [
    "import pandas as pd\n",
    "import os\n",
    "\n",
    "# List of directories (folder names contain the year information)\n",
    "folders = [\n",
    "    '2018-2019 School Year Reports',  # Replace with the actual folder names\n",
    "    '2019-2020 School Year Reports'   # Replace with the actual folder names\n",
    "]\n",
    "\n",
    "# The sheet name you want to extract from each file\n",
    "sheet_name = 'Student Addresses'\n",
    "\n",
    "# Create an empty list to store dataframes\n",
    "df_list = []\n",
    "\n",
    "# Function to extract the year from the folder name\n",
    "def extract_year_from_folder(folder_name):\n",
    "    # Assumes year is at the beginning of the folder name, e.g., '2018-2019 School Year Reports'\n",
    "    year = folder_name.split(' ')[0]\n",
    "    return year\n",
    "\n",
    "# Function to extract the university name from the file name\n",
    "def extract_university_from_file(file_name):\n",
    "    # Remove the file extension (.xlsx) and split by underscore '_'\n",
    "    university = file_name.split('.')[0].split('_')[0]\n",
    "    return university\n",
    "\n",
    "# Loop through all folders\n",
    "for folder_path in folders:\n",
    "    # Extract year from the folder name\n",
    "    year_info = extract_year_from_folder(folder_path)\n",
    "    \n",
    "    # List all files in the directory\n",
    "    files = [file for file in os.listdir(folder_path) if file.endswith('.xlsx')]\n",
    "\n",
    "    # Loop through all files in each folder and append the specific sheet to the list\n",
    "    for file in files:\n",
    "        file_path = os.path.join(folder_path, file)\n",
    "        \n",
    "        # Extract university from the file name\n",
    "        university_info = extract_university_from_file(file)\n",
    "        \n",
    "        # Read the specific sheet\n",
    "        df = pd.read_excel(file_path, sheet_name=sheet_name)\n",
    "        \n",
    "        # Check if the DataFrame is not empty\n",
    "        if not df.empty:\n",
    "            # Add 'Year' and 'University' columns to the DataFrame\n",
    "            df['Year'] = year_info\n",
    "            df['University'] = university_info\n",
    "            \n",
    "            # Append the dataframe with the new columns to the list\n",
    "            df_list.append(df)\n",
    "\n",
    "# Check if there are any DataFrames to combine\n",
    "if df_list:\n",
    "    # Concatenate all dataframes into one\n",
    "    combined_df = pd.concat(df_list, ignore_index=True)\n",
    "\n",
    "    # Save the combined dataframe to a new Excel file\n",
    "    combined_df.to_excel('combined_specific_sheet.xlsx', index=False)\n",
    "\n",
    "    print(\"All specific sheets combined successfully into 'combined_specific_sheet.xlsx'.\")\n",
    "else:\n",
    "    print(\"No data found to combine.\")\n"
   ]
  },
  {
   "cell_type": "code",
   "execution_count": null,
   "metadata": {},
   "outputs": [],
   "source": []
  }
 ],
 "metadata": {
  "kernelspec": {
   "display_name": "base",
   "language": "python",
   "name": "python3"
  },
  "language_info": {
   "codemirror_mode": {
    "name": "ipython",
    "version": 3
   },
   "file_extension": ".py",
   "mimetype": "text/x-python",
   "name": "python",
   "nbconvert_exporter": "python",
   "pygments_lexer": "ipython3",
   "version": "3.12.5"
  },
  "otter": {
   "OK_FORMAT": true,
   "tests": {
    "q10": {
     "name": "q10",
     "points": null,
     "suites": [
      {
       "cases": [
        {
         "code": ">>> assert type(ans10(np.array([1, 2, 3]), np.array([4, 5, 6]))) == dict\n>>> assert ans10(np.array([1, 2, 3]), np.array([4, 5, 6]))['1_norm'] == 9.0\n>>> assert ans10(np.array([1, 2, 3]), np.array([4, 5, 6]))['inf_norm'] == 3.0\n>>> assert ans10(np.array([1, 2, 3]), np.array([4, 5, 6]))['2_norm'] > 5.0\n",
         "hidden": false,
         "locked": false
        }
       ],
       "scored": true,
       "setup": "",
       "teardown": "",
       "type": "doctest"
      }
     ]
    },
    "q2": {
     "name": "q2",
     "points": null,
     "suites": [
      {
       "cases": [
        {
         "code": ">>> assert len(roll_die(10)) == 10\n>>> assert all((1 <= x <= 6 for x in roll_die(100)))\n",
         "hidden": false,
         "locked": false
        }
       ],
       "scored": true,
       "setup": "",
       "teardown": "",
       "type": "doctest"
      }
     ]
    },
    "q3": {
     "name": "q3",
     "points": null,
     "suites": [
      {
       "cases": [
        {
         "code": ">>> assert answer3() > 0.15 and answer3() < 0.2\n>>> assert type(answer3()) == float\n",
         "hidden": false,
         "locked": false
        }
       ],
       "scored": true,
       "setup": "",
       "teardown": "",
       "type": "doctest"
      }
     ]
    },
    "q4": {
     "name": "q4",
     "points": null,
     "suites": [
      {
       "cases": [
        {
         "code": ">>> assert type(ans4()) == float\n>>> assert 2 < ans4() < 2.1\n",
         "hidden": false,
         "locked": false
        }
       ],
       "scored": true,
       "setup": "",
       "teardown": "",
       "type": "doctest"
      }
     ]
    },
    "q5": {
     "name": "q5",
     "points": null,
     "suites": [
      {
       "cases": [
        {
         "code": ">>> assert type(ans5() == float)\n>>> assert abs(ans5() - 0.49) < 1e-09\n>>> assert 0.49 < ans5() < 0.491\n",
         "hidden": false,
         "locked": false
        }
       ],
       "scored": true,
       "setup": "",
       "teardown": "",
       "type": "doctest"
      }
     ]
    },
    "q6": {
     "name": "q6",
     "points": null,
     "suites": [
      {
       "cases": [
        {
         "code": ">>> assert type(ans6()) == float\n>>> assert 0.2 < ans6() < 0.21\n>>> assert abs(ans6()) - 0.2 < 0.05\n",
         "hidden": false,
         "locked": false
        }
       ],
       "scored": true,
       "setup": "",
       "teardown": "",
       "type": "doctest"
      }
     ]
    },
    "q7": {
     "name": "q7",
     "points": null,
     "suites": [
      {
       "cases": [
        {
         "code": ">>> assert type(ans7()) == float\n>>> assert 0.1 < ans7() < 0.11\n>>> assert abs(ans7()) - 0.1 < 0.0042\n",
         "hidden": false,
         "locked": false
        }
       ],
       "scored": true,
       "setup": "",
       "teardown": "",
       "type": "doctest"
      }
     ]
    },
    "q8": {
     "name": "q8",
     "points": null,
     "suites": [
      {
       "cases": [
        {
         "code": ">>> assert type(ans8()) == float\n>>> assert 0.04 < abs(ans8()) < 0.05\n",
         "hidden": false,
         "locked": false
        }
       ],
       "scored": true,
       "setup": "",
       "teardown": "",
       "type": "doctest"
      }
     ]
    },
    "q9": {
     "name": "q9",
     "points": null,
     "suites": [
      {
       "cases": [
        {
         "code": ">>> assert ans9({1, 2, 3, 4, 5}, {2, 3, 4}) == 0.6\n>>> assert 0.4 < ans9({1, 2, 3, 4, 5, 6, 7}, {2, 3, 4}) < 0.5\n>>> assert 0.2 < ans9({1, 2, 3, 4, 5, 6, 7, 8, 9}, {2, 3}) < 0.23\n",
         "hidden": false,
         "locked": false
        }
       ],
       "scored": true,
       "setup": "",
       "teardown": "",
       "type": "doctest"
      }
     ]
    }
   }
  }
 },
 "nbformat": 4,
 "nbformat_minor": 2
}
